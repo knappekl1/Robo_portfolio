{
 "cells": [
  {
   "cell_type": "code",
   "execution_count": null,
   "id": "chubby-locator",
   "metadata": {},
   "outputs": [],
   "source": [
    "import numpy as np\n",
    "import pandas as pd\n",
    "import yfinance as yf\n",
    "import matplotlib.pyplot as plt\n",
    "import seaborn as sns\n",
    "\n",
    "#Inputs\n",
    "ticker_list = [\"SPY\", \"EEM\", \"GOVT\"]\n",
    "weights_list = [0.4,0.5,0.1]\n",
    "\n",
    "#Check and process inputs\n",
    "check_sum = np.array(weights_list).sum()\n",
    "print(check_sum)\n",
    "ticker_weight = {}\n",
    "for i in range(len(ticker_list)):\n",
    "    ticker_weight[ticker_list[i]] = weights_list[i] \n",
    "\n",
    "stock_data = yf.download(ticker_list,period=\"5y\")\n",
    "\n",
    "stock_data = stock_data[\"Adj Close\"]\n",
    "\n",
    "# if check_sum != 1:\n",
    "#     exit()\n",
    "\n",
    "\n",
    "for key in ticker_weight.keys():\n",
    "    stock_data[key + \"_weighted\"]= stock_data[key] * ticker_weight[key]\n",
    "\n",
    "selected_cols = [i for i in stock_data.columns if \"_weighted\" in i]\n",
    "\n",
    "output = pd.DataFrame(stock_data[selected_cols].sum(axis=1), columns=[\"Adj Close\"])\n",
    "\n",
    "output.to_csv(\"outputFile.csv\", header=True, index=True, encoding=\"UTF-8\")\n",
    "\n",
    "#plt.plot(output[\"Adj Close\"])\n",
    "\n",
    "print(\"Zvolené portfolio\\n\")\n",
    "for key in ticker_weight.keys():\n",
    "    print(f\"Ticker:{key:.>{10}} Váha:{ticker_weight[key]:.>{10}}\")"
   ]
  },
  {
   "cell_type": "code",
   "execution_count": null,
   "id": "alternative-baltimore",
   "metadata": {},
   "outputs": [],
   "source": []
  }
 ],
 "metadata": {
  "kernelspec": {
   "display_name": "Python 3",
   "language": "python",
   "name": "python3"
  },
  "language_info": {
   "codemirror_mode": {
    "name": "ipython",
    "version": 3
   },
   "file_extension": ".py",
   "mimetype": "text/x-python",
   "name": "python",
   "nbconvert_exporter": "python",
   "pygments_lexer": "ipython3",
   "version": "3.9.1"
  }
 },
 "nbformat": 4,
 "nbformat_minor": 5
}
