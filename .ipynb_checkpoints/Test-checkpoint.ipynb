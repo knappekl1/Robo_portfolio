{
 "cells": [
  {
   "cell_type": "code",
   "execution_count": 1,
   "id": "colonial-uruguay",
   "metadata": {},
   "outputs": [],
   "source": [
    "import numpy as np\n",
    "import pandas as pd\n"
   ]
  },
  {
   "cell_type": "code",
   "execution_count": 2,
   "id": "outer-neighbor",
   "metadata": {},
   "outputs": [],
   "source": [
    "my_arr = np.arange(0,100)\n"
   ]
  },
  {
   "cell_type": "code",
   "execution_count": 3,
   "id": "scenic-funds",
   "metadata": {},
   "outputs": [],
   "source": [
    "my_arr = my_arr.reshape(10,10)"
   ]
  },
  {
   "cell_type": "code",
   "execution_count": 4,
   "id": "sweet-effort",
   "metadata": {},
   "outputs": [],
   "source": [
    "df = pd.DataFrame(my_arr, columns=[\"A\",\"B\",\"C\",\"D\",\"E\",\"F\",\"G\",\"H\",\"J\",\"I\"])"
   ]
  },
  {
   "cell_type": "code",
   "execution_count": 5,
   "id": "deadly-conservation",
   "metadata": {},
   "outputs": [],
   "source": [
    "vector = np.arange(0,10)"
   ]
  },
  {
   "cell_type": "code",
   "execution_count": 6,
   "id": "rational-architecture",
   "metadata": {},
   "outputs": [],
   "source": [
    "df2 = pd.Series(vector,name=\"multi\")"
   ]
  },
  {
   "cell_type": "code",
   "execution_count": 7,
   "id": "wanted-hypothetical",
   "metadata": {},
   "outputs": [
    {
     "data": {
      "text/plain": [
       "0    0\n",
       "1    1\n",
       "2    2\n",
       "3    3\n",
       "4    4\n",
       "5    5\n",
       "6    6\n",
       "7    7\n",
       "8    8\n",
       "9    9\n",
       "Name: multi, dtype: int32"
      ]
     },
     "execution_count": 7,
     "metadata": {},
     "output_type": "execute_result"
    }
   ],
   "source": [
    "df2"
   ]
  },
  {
   "cell_type": "code",
   "execution_count": 8,
   "id": "primary-candidate",
   "metadata": {},
   "outputs": [
    {
     "data": {
      "text/html": [
       "<div>\n",
       "<style scoped>\n",
       "    .dataframe tbody tr th:only-of-type {\n",
       "        vertical-align: middle;\n",
       "    }\n",
       "\n",
       "    .dataframe tbody tr th {\n",
       "        vertical-align: top;\n",
       "    }\n",
       "\n",
       "    .dataframe thead th {\n",
       "        text-align: right;\n",
       "    }\n",
       "</style>\n",
       "<table border=\"1\" class=\"dataframe\">\n",
       "  <thead>\n",
       "    <tr style=\"text-align: right;\">\n",
       "      <th></th>\n",
       "      <th>A</th>\n",
       "      <th>B</th>\n",
       "      <th>C</th>\n",
       "      <th>D</th>\n",
       "      <th>E</th>\n",
       "      <th>F</th>\n",
       "      <th>G</th>\n",
       "      <th>H</th>\n",
       "      <th>J</th>\n",
       "      <th>I</th>\n",
       "    </tr>\n",
       "  </thead>\n",
       "  <tbody>\n",
       "    <tr>\n",
       "      <th>0</th>\n",
       "      <td>0</td>\n",
       "      <td>1</td>\n",
       "      <td>2</td>\n",
       "      <td>3</td>\n",
       "      <td>4</td>\n",
       "      <td>5</td>\n",
       "      <td>6</td>\n",
       "      <td>7</td>\n",
       "      <td>8</td>\n",
       "      <td>9</td>\n",
       "    </tr>\n",
       "    <tr>\n",
       "      <th>1</th>\n",
       "      <td>10</td>\n",
       "      <td>11</td>\n",
       "      <td>12</td>\n",
       "      <td>13</td>\n",
       "      <td>14</td>\n",
       "      <td>15</td>\n",
       "      <td>16</td>\n",
       "      <td>17</td>\n",
       "      <td>18</td>\n",
       "      <td>19</td>\n",
       "    </tr>\n",
       "    <tr>\n",
       "      <th>2</th>\n",
       "      <td>20</td>\n",
       "      <td>21</td>\n",
       "      <td>22</td>\n",
       "      <td>23</td>\n",
       "      <td>24</td>\n",
       "      <td>25</td>\n",
       "      <td>26</td>\n",
       "      <td>27</td>\n",
       "      <td>28</td>\n",
       "      <td>29</td>\n",
       "    </tr>\n",
       "    <tr>\n",
       "      <th>3</th>\n",
       "      <td>30</td>\n",
       "      <td>31</td>\n",
       "      <td>32</td>\n",
       "      <td>33</td>\n",
       "      <td>34</td>\n",
       "      <td>35</td>\n",
       "      <td>36</td>\n",
       "      <td>37</td>\n",
       "      <td>38</td>\n",
       "      <td>39</td>\n",
       "    </tr>\n",
       "    <tr>\n",
       "      <th>4</th>\n",
       "      <td>40</td>\n",
       "      <td>41</td>\n",
       "      <td>42</td>\n",
       "      <td>43</td>\n",
       "      <td>44</td>\n",
       "      <td>45</td>\n",
       "      <td>46</td>\n",
       "      <td>47</td>\n",
       "      <td>48</td>\n",
       "      <td>49</td>\n",
       "    </tr>\n",
       "    <tr>\n",
       "      <th>5</th>\n",
       "      <td>50</td>\n",
       "      <td>51</td>\n",
       "      <td>52</td>\n",
       "      <td>53</td>\n",
       "      <td>54</td>\n",
       "      <td>55</td>\n",
       "      <td>56</td>\n",
       "      <td>57</td>\n",
       "      <td>58</td>\n",
       "      <td>59</td>\n",
       "    </tr>\n",
       "    <tr>\n",
       "      <th>6</th>\n",
       "      <td>60</td>\n",
       "      <td>61</td>\n",
       "      <td>62</td>\n",
       "      <td>63</td>\n",
       "      <td>64</td>\n",
       "      <td>65</td>\n",
       "      <td>66</td>\n",
       "      <td>67</td>\n",
       "      <td>68</td>\n",
       "      <td>69</td>\n",
       "    </tr>\n",
       "    <tr>\n",
       "      <th>7</th>\n",
       "      <td>70</td>\n",
       "      <td>71</td>\n",
       "      <td>72</td>\n",
       "      <td>73</td>\n",
       "      <td>74</td>\n",
       "      <td>75</td>\n",
       "      <td>76</td>\n",
       "      <td>77</td>\n",
       "      <td>78</td>\n",
       "      <td>79</td>\n",
       "    </tr>\n",
       "    <tr>\n",
       "      <th>8</th>\n",
       "      <td>80</td>\n",
       "      <td>81</td>\n",
       "      <td>82</td>\n",
       "      <td>83</td>\n",
       "      <td>84</td>\n",
       "      <td>85</td>\n",
       "      <td>86</td>\n",
       "      <td>87</td>\n",
       "      <td>88</td>\n",
       "      <td>89</td>\n",
       "    </tr>\n",
       "    <tr>\n",
       "      <th>9</th>\n",
       "      <td>90</td>\n",
       "      <td>91</td>\n",
       "      <td>92</td>\n",
       "      <td>93</td>\n",
       "      <td>94</td>\n",
       "      <td>95</td>\n",
       "      <td>96</td>\n",
       "      <td>97</td>\n",
       "      <td>98</td>\n",
       "      <td>99</td>\n",
       "    </tr>\n",
       "  </tbody>\n",
       "</table>\n",
       "</div>"
      ],
      "text/plain": [
       "    A   B   C   D   E   F   G   H   J   I\n",
       "0   0   1   2   3   4   5   6   7   8   9\n",
       "1  10  11  12  13  14  15  16  17  18  19\n",
       "2  20  21  22  23  24  25  26  27  28  29\n",
       "3  30  31  32  33  34  35  36  37  38  39\n",
       "4  40  41  42  43  44  45  46  47  48  49\n",
       "5  50  51  52  53  54  55  56  57  58  59\n",
       "6  60  61  62  63  64  65  66  67  68  69\n",
       "7  70  71  72  73  74  75  76  77  78  79\n",
       "8  80  81  82  83  84  85  86  87  88  89\n",
       "9  90  91  92  93  94  95  96  97  98  99"
      ]
     },
     "execution_count": 8,
     "metadata": {},
     "output_type": "execute_result"
    }
   ],
   "source": [
    "df"
   ]
  },
  {
   "cell_type": "code",
   "execution_count": 9,
   "id": "ongoing-tissue",
   "metadata": {},
   "outputs": [],
   "source": [
    "for i in range(0, len(df)):\n",
    "        for j in range(i, len(df)):\n",
    "            if j > i:\n",
    "                df.iloc[j, i] = df.iloc[j -1, i] * df2.loc[j]"
   ]
  },
  {
   "cell_type": "code",
   "execution_count": 10,
   "id": "handy-provincial",
   "metadata": {},
   "outputs": [
    {
     "data": {
      "text/html": [
       "<div>\n",
       "<style scoped>\n",
       "    .dataframe tbody tr th:only-of-type {\n",
       "        vertical-align: middle;\n",
       "    }\n",
       "\n",
       "    .dataframe tbody tr th {\n",
       "        vertical-align: top;\n",
       "    }\n",
       "\n",
       "    .dataframe thead th {\n",
       "        text-align: right;\n",
       "    }\n",
       "</style>\n",
       "<table border=\"1\" class=\"dataframe\">\n",
       "  <thead>\n",
       "    <tr style=\"text-align: right;\">\n",
       "      <th></th>\n",
       "      <th>A</th>\n",
       "      <th>B</th>\n",
       "      <th>C</th>\n",
       "      <th>D</th>\n",
       "      <th>E</th>\n",
       "      <th>F</th>\n",
       "      <th>G</th>\n",
       "      <th>H</th>\n",
       "      <th>J</th>\n",
       "      <th>I</th>\n",
       "    </tr>\n",
       "  </thead>\n",
       "  <tbody>\n",
       "    <tr>\n",
       "      <th>0</th>\n",
       "      <td>0</td>\n",
       "      <td>1</td>\n",
       "      <td>2</td>\n",
       "      <td>3</td>\n",
       "      <td>4</td>\n",
       "      <td>5</td>\n",
       "      <td>6</td>\n",
       "      <td>7</td>\n",
       "      <td>8</td>\n",
       "      <td>9</td>\n",
       "    </tr>\n",
       "    <tr>\n",
       "      <th>1</th>\n",
       "      <td>0</td>\n",
       "      <td>11</td>\n",
       "      <td>12</td>\n",
       "      <td>13</td>\n",
       "      <td>14</td>\n",
       "      <td>15</td>\n",
       "      <td>16</td>\n",
       "      <td>17</td>\n",
       "      <td>18</td>\n",
       "      <td>19</td>\n",
       "    </tr>\n",
       "    <tr>\n",
       "      <th>2</th>\n",
       "      <td>0</td>\n",
       "      <td>22</td>\n",
       "      <td>22</td>\n",
       "      <td>23</td>\n",
       "      <td>24</td>\n",
       "      <td>25</td>\n",
       "      <td>26</td>\n",
       "      <td>27</td>\n",
       "      <td>28</td>\n",
       "      <td>29</td>\n",
       "    </tr>\n",
       "    <tr>\n",
       "      <th>3</th>\n",
       "      <td>0</td>\n",
       "      <td>66</td>\n",
       "      <td>66</td>\n",
       "      <td>33</td>\n",
       "      <td>34</td>\n",
       "      <td>35</td>\n",
       "      <td>36</td>\n",
       "      <td>37</td>\n",
       "      <td>38</td>\n",
       "      <td>39</td>\n",
       "    </tr>\n",
       "    <tr>\n",
       "      <th>4</th>\n",
       "      <td>0</td>\n",
       "      <td>264</td>\n",
       "      <td>264</td>\n",
       "      <td>132</td>\n",
       "      <td>44</td>\n",
       "      <td>45</td>\n",
       "      <td>46</td>\n",
       "      <td>47</td>\n",
       "      <td>48</td>\n",
       "      <td>49</td>\n",
       "    </tr>\n",
       "    <tr>\n",
       "      <th>5</th>\n",
       "      <td>0</td>\n",
       "      <td>1320</td>\n",
       "      <td>1320</td>\n",
       "      <td>660</td>\n",
       "      <td>220</td>\n",
       "      <td>55</td>\n",
       "      <td>56</td>\n",
       "      <td>57</td>\n",
       "      <td>58</td>\n",
       "      <td>59</td>\n",
       "    </tr>\n",
       "    <tr>\n",
       "      <th>6</th>\n",
       "      <td>0</td>\n",
       "      <td>7920</td>\n",
       "      <td>7920</td>\n",
       "      <td>3960</td>\n",
       "      <td>1320</td>\n",
       "      <td>330</td>\n",
       "      <td>66</td>\n",
       "      <td>67</td>\n",
       "      <td>68</td>\n",
       "      <td>69</td>\n",
       "    </tr>\n",
       "    <tr>\n",
       "      <th>7</th>\n",
       "      <td>0</td>\n",
       "      <td>55440</td>\n",
       "      <td>55440</td>\n",
       "      <td>27720</td>\n",
       "      <td>9240</td>\n",
       "      <td>2310</td>\n",
       "      <td>462</td>\n",
       "      <td>77</td>\n",
       "      <td>78</td>\n",
       "      <td>79</td>\n",
       "    </tr>\n",
       "    <tr>\n",
       "      <th>8</th>\n",
       "      <td>0</td>\n",
       "      <td>443520</td>\n",
       "      <td>443520</td>\n",
       "      <td>221760</td>\n",
       "      <td>73920</td>\n",
       "      <td>18480</td>\n",
       "      <td>3696</td>\n",
       "      <td>616</td>\n",
       "      <td>88</td>\n",
       "      <td>89</td>\n",
       "    </tr>\n",
       "    <tr>\n",
       "      <th>9</th>\n",
       "      <td>0</td>\n",
       "      <td>3991680</td>\n",
       "      <td>3991680</td>\n",
       "      <td>1995840</td>\n",
       "      <td>665280</td>\n",
       "      <td>166320</td>\n",
       "      <td>33264</td>\n",
       "      <td>5544</td>\n",
       "      <td>792</td>\n",
       "      <td>99</td>\n",
       "    </tr>\n",
       "  </tbody>\n",
       "</table>\n",
       "</div>"
      ],
      "text/plain": [
       "   A        B        C        D       E       F      G     H    J   I\n",
       "0  0        1        2        3       4       5      6     7    8   9\n",
       "1  0       11       12       13      14      15     16    17   18  19\n",
       "2  0       22       22       23      24      25     26    27   28  29\n",
       "3  0       66       66       33      34      35     36    37   38  39\n",
       "4  0      264      264      132      44      45     46    47   48  49\n",
       "5  0     1320     1320      660     220      55     56    57   58  59\n",
       "6  0     7920     7920     3960    1320     330     66    67   68  69\n",
       "7  0    55440    55440    27720    9240    2310    462    77   78  79\n",
       "8  0   443520   443520   221760   73920   18480   3696   616   88  89\n",
       "9  0  3991680  3991680  1995840  665280  166320  33264  5544  792  99"
      ]
     },
     "execution_count": 10,
     "metadata": {},
     "output_type": "execute_result"
    }
   ],
   "source": [
    "df"
   ]
  },
  {
   "cell_type": "code",
   "execution_count": 22,
   "id": "contained-gibson",
   "metadata": {},
   "outputs": [],
   "source": [
    "lenght = 5\n",
    "value = 100\n",
    "monthly = []\n",
    "\n",
    "for i in range(0,lenght):\n",
    "    row = []\n",
    "    for j in range(0, lenght):\n",
    "        if j == i and (i > 0 and i < lenght - 1):\n",
    "            row.append(value)\n",
    "        else:\n",
    "            row.append(np.nan)   \n",
    "    monthly.append(row)"
   ]
  },
  {
   "cell_type": "code",
   "execution_count": 23,
   "id": "random-thirty",
   "metadata": {},
   "outputs": [],
   "source": [
    "arr1 = np.array(monthly)"
   ]
  },
  {
   "cell_type": "code",
   "execution_count": 24,
   "id": "failing-french",
   "metadata": {},
   "outputs": [
    {
     "data": {
      "text/plain": [
       "array([[ nan,  nan,  nan,  nan,  nan],\n",
       "       [ nan, 100.,  nan,  nan,  nan],\n",
       "       [ nan,  nan, 100.,  nan,  nan],\n",
       "       [ nan,  nan,  nan, 100.,  nan],\n",
       "       [ nan,  nan,  nan,  nan,  nan]])"
      ]
     },
     "execution_count": 24,
     "metadata": {},
     "output_type": "execute_result"
    }
   ],
   "source": [
    "arr1"
   ]
  },
  {
   "cell_type": "code",
   "execution_count": 25,
   "id": "fitting-trailer",
   "metadata": {},
   "outputs": [],
   "source": [
    "arr1[0,0] =500"
   ]
  },
  {
   "cell_type": "code",
   "execution_count": 28,
   "id": "consecutive-vector",
   "metadata": {},
   "outputs": [],
   "source": [
    "arr1_sum = np.nansum(arr1, axis=1)"
   ]
  },
  {
   "cell_type": "code",
   "execution_count": 29,
   "id": "equivalent-border",
   "metadata": {},
   "outputs": [
    {
     "data": {
      "text/plain": [
       "array([500., 100., 100., 100.,   0.])"
      ]
     },
     "execution_count": 29,
     "metadata": {},
     "output_type": "execute_result"
    }
   ],
   "source": [
    "arr1_sum"
   ]
  },
  {
   "cell_type": "code",
   "execution_count": 33,
   "id": "artificial-break",
   "metadata": {},
   "outputs": [],
   "source": [
    "arr1_cumsum=[]\n",
    "for i in range(1,len(arr1_sum)+1):\n",
    "    my_sum = sum(arr1_sum[0:i])\n",
    "    arr1_cumsum.append(my_sum)"
   ]
  },
  {
   "cell_type": "code",
   "execution_count": 34,
   "id": "respected-presence",
   "metadata": {},
   "outputs": [
    {
     "data": {
      "text/plain": [
       "[500.0, 600.0, 700.0, 800.0, 800.0]"
      ]
     },
     "execution_count": 34,
     "metadata": {},
     "output_type": "execute_result"
    }
   ],
   "source": [
    "arr1_cumsum"
   ]
  },
  {
   "cell_type": "code",
   "execution_count": 32,
   "id": "handled-surgeon",
   "metadata": {},
   "outputs": [
    {
     "data": {
      "text/plain": [
       "array([500., 100., 100., 100.,   0.])"
      ]
     },
     "execution_count": 32,
     "metadata": {},
     "output_type": "execute_result"
    }
   ],
   "source": [
    "arr1_sum"
   ]
  },
  {
   "cell_type": "code",
   "execution_count": null,
   "id": "mature-clone",
   "metadata": {},
   "outputs": [],
   "source": []
  }
 ],
 "metadata": {
  "kernelspec": {
   "display_name": "Python 3",
   "language": "python",
   "name": "python3"
  },
  "language_info": {
   "codemirror_mode": {
    "name": "ipython",
    "version": 3
   },
   "file_extension": ".py",
   "mimetype": "text/x-python",
   "name": "python",
   "nbconvert_exporter": "python",
   "pygments_lexer": "ipython3",
   "version": "3.9.1"
  }
 },
 "nbformat": 4,
 "nbformat_minor": 5
}
