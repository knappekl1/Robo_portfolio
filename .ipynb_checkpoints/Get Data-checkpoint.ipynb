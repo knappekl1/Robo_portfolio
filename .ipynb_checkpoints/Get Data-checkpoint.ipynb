{
 "cells": [
  {
   "cell_type": "code",
   "execution_count": 1,
   "id": "rising-adelaide",
   "metadata": {},
   "outputs": [],
   "source": [
    "import numpy as np\n",
    "import pandas as pd\n",
    "import yfinance as yf\n",
    "import matplotlib.pyplot as plt\n",
    "import seaborn as sns"
   ]
  },
  {
   "cell_type": "code",
   "execution_count": 2,
   "id": "connected-clerk",
   "metadata": {},
   "outputs": [
    {
     "name": "stdout",
     "output_type": "stream",
     "text": [
      "1.0\n"
     ]
    }
   ],
   "source": [
    "#Inputs\n",
    "ticker_list = [\"SPY\", \"EEM\", \"GOVT\"]\n",
    "weights_list = [0.2,0.2,0.6]\n",
    "\n",
    "#Check and process inputs\n",
    "check_sum = np.array(weights_list).sum()\n",
    "print(check_sum)\n",
    "ticker_weight = {}\n",
    "for i in range(len(ticker_list)):\n",
    "    ticker_weight[ticker_list[i]] = weights_list[i] "
   ]
  },
  {
   "cell_type": "code",
   "execution_count": 3,
   "id": "verified-powell",
   "metadata": {},
   "outputs": [
    {
     "name": "stdout",
     "output_type": "stream",
     "text": [
      "[*********************100%***********************]  3 of 3 completed\n"
     ]
    }
   ],
   "source": [
    "stock_data = yf.download(ticker_list,period=\"5y\")"
   ]
  },
  {
   "cell_type": "code",
   "execution_count": 4,
   "id": "comparative-power",
   "metadata": {},
   "outputs": [],
   "source": [
    "stock_data = stock_data[\"Adj Close\"]"
   ]
  },
  {
   "cell_type": "code",
   "execution_count": 5,
   "id": "southeast-paintball",
   "metadata": {},
   "outputs": [],
   "source": [
    "# if check_sum != 1:\n",
    "#     exit()\n"
   ]
  },
  {
   "cell_type": "code",
   "execution_count": 6,
   "id": "sixth-greensboro",
   "metadata": {},
   "outputs": [],
   "source": [
    "for key in ticker_weight.keys():\n",
    "    stock_data[key + \"_weighted\"]= stock_data[key] * ticker_weight[key]"
   ]
  },
  {
   "cell_type": "code",
   "execution_count": 7,
   "id": "answering-sword",
   "metadata": {},
   "outputs": [],
   "source": [
    "selected_cols = [i for i in stock_data.columns if \"_weighted\" in i]"
   ]
  },
  {
   "cell_type": "code",
   "execution_count": 8,
   "id": "rapid-marketing",
   "metadata": {},
   "outputs": [],
   "source": [
    "output = pd.DataFrame(stock_data[selected_cols].sum(axis=1), columns=[\"Adj Close\"])"
   ]
  },
  {
   "cell_type": "code",
   "execution_count": 9,
   "id": "continent-settlement",
   "metadata": {},
   "outputs": [],
   "source": [
    "output.to_csv(\"outputFile.csv\", header=True, index=True, encoding=\"UTF-8\")"
   ]
  },
  {
   "cell_type": "code",
   "execution_count": 10,
   "id": "industrial-camcorder",
   "metadata": {},
   "outputs": [
    {
     "data": {
      "text/plain": [
       "[<matplotlib.lines.Line2D at 0x22c96d64d00>]"
      ]
     },
     "execution_count": 10,
     "metadata": {},
     "output_type": "execute_result"
    },
    {
     "data": {
      "image/png": "[encoded data removed]",
      "text/plain": [
       "<Figure size 432x288 with 1 Axes>"
      ]
     },
     "metadata": {
      "needs_background": "light"
     },
     "output_type": "display_data"
    }
   ],
   "source": [
    "plt.plot(output[\"Adj Close\"])"
   ]
  },
  {
   "cell_type": "code",
   "execution_count": 11,
   "id": "contrary-jesus",
   "metadata": {},
   "outputs": [
    {
     "name": "stdout",
     "output_type": "stream",
     "text": [
      "Zvolené portfolio\n",
      "\n",
      "Ticker:.......SPY Váha:.......0.2\n",
      "Ticker:.......EEM Váha:.......0.2\n",
      "Ticker:......GOVT Váha:.......0.6\n"
     ]
    }
   ],
   "source": [
    "print(\"Zvolené portfolio\\n\")\n",
    "for key in ticker_weight.keys():\n",
    "    print(f\"Ticker:{key:.>{10}} Váha:{ticker_weight[key]:.>{10}}\")"
   ]
  },
  {
   "cell_type": "code",
   "execution_count": null,
   "id": "useful-tractor",
   "metadata": {},
   "outputs": [],
   "source": []
  }
 ],
 "metadata": {
  "kernelspec": {
   "display_name": "Python 3",
   "language": "python",
   "name": "python3"
  },
  "language_info": {
   "codemirror_mode": {
    "name": "ipython",
    "version": 3
   },
   "file_extension": ".py",
   "mimetype": "text/x-python",
   "name": "python",
   "nbconvert_exporter": "python",
   "pygments_lexer": "ipython3",
   "version": "3.9.1"
  }
 },
 "nbformat": 4,
 "nbformat_minor": 5
}
