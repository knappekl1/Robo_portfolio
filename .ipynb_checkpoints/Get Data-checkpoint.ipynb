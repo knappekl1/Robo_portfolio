{
 "cells": [
  {
   "cell_type": "code",
   "execution_count": 91,
   "id": "english-links",
   "metadata": {},
   "outputs": [
    {
     "name": "stdout",
     "output_type": "stream",
     "text": [
      "[*********************100%***********************]  3 of 3 completed\n",
      "1.0\n"
     ]
    }
   ],
   "source": [
    "import numpy as np\n",
    "import pandas as pd\n",
    "import yfinance as yf\n",
    "import matplotlib.pyplot as plt\n",
    "import seaborn as sns\n",
    "\n",
    "#Inputs\n",
    "ticker_list = [\"SPY\", \"EEM\", \"GOVT\"]\n",
    "weights_list = [0.4,0.5,0.1]\n",
    "rebalance_limit = 0.1\n",
    "\n",
    "#Get Stock Data from Yahoo finance\n",
    "stock_data = yf.download(ticker_list,period=\"5y\")\n",
    "stock_data = stock_data[\"Adj Close\"]\n",
    "\n",
    "rebalance_price = dict(stock_data.iloc[0])\n",
    "\n",
    "\n",
    "#Check and process inputs\n",
    "check_sum = np.array(weights_list).sum()\n",
    "print(check_sum)\n",
    "ticker_weight = {}\n",
    "for i in range(len(ticker_list)):\n",
    "    ticker_weight[ticker_list[i]] = weights_list[i]\n",
    "\n",
    "\n",
    "    \n",
    "# if check_sum != 1:\n",
    "#     exit()"
   ]
  },
  {
   "cell_type": "code",
   "execution_count": 92,
   "id": "egyptian-syndication",
   "metadata": {},
   "outputs": [],
   "source": [
    "for key in ticker_weight.keys():\n",
    "    stock_data[key + \"_weighted\"]= np.nan\n"
   ]
  },
  {
   "cell_type": "code",
   "execution_count": 93,
   "id": "utility-niagara",
   "metadata": {},
   "outputs": [
    {
     "name": "stdout",
     "output_type": "stream",
     "text": [
      "Rebalance on 25-01-2017\n",
      "Rebalance on 11-09-2017\n",
      "Rebalance on 11-01-2018\n",
      "Rebalance on 04-09-2018\n",
      "Rebalance on 19-12-2018\n",
      "Rebalance on 04-04-2019\n",
      "Rebalance on 05-08-2019\n",
      "Rebalance on 12-12-2019\n",
      "Rebalance on 28-02-2020\n",
      "Rebalance on 09-03-2020\n",
      "Rebalance on 16-03-2020\n",
      "Rebalance on 08-04-2020\n",
      "Rebalance on 03-06-2020\n",
      "Rebalance on 28-08-2020\n",
      "Rebalance on 31-12-2020\n",
      "Rebalance on 28-04-2021\n"
     ]
    }
   ],
   "source": [
    "chain_factor = 1000\n",
    "for row in stock_data.itertuples():\n",
    "    calc_values = {}\n",
    "    recent_price = {}\n",
    "    #recalculate values for the item\n",
    "    for name in ticker_list:\n",
    "        #calculate weighted price\n",
    "        stock_price = row[stock_data.columns.get_loc(name) + 1]\n",
    "        recent_price[name] = stock_price\n",
    "        calc_values[name] = stock_price * ticker_weight[name]/ rebalance_price[name] * chain_factor\n",
    "        stock_data.at[row[0], name + \"_weighted\"] = calc_values[name]\n",
    "        \n",
    "    #check weights with target\n",
    "    suma_pf = sum(calc_values.values())\n",
    "\n",
    "    for stock in ticker_weight.keys():\n",
    "        if not ticker_weight[stock] * (1 - rebalance_limit) < calc_values[stock] / suma_pf < ticker_weight[stock] * (1 + rebalance_limit):\n",
    "            print(\"Rebalance on \" + row[0].strftime(\"%d-%m-%Y\"))\n",
    "            #Rebalance\n",
    "            rebalance_price = recent_price.copy()\n",
    "            chain_factor = suma_pf\n",
    "            #recalculate values for the item\n",
    "            for name in ticker_list:\n",
    "                #calculate weighted price\n",
    "                stock_price = row[stock_data.columns.get_loc(name) + 1]\n",
    "                recent_price[name] = stock_price\n",
    "                calc_values[name] = stock_price * (ticker_weight[name]/ rebalance_price[name] * suma_pf)\n",
    "                stock_data.at[row[0], name + \"_weighted\"] = calc_values[name]\n",
    "                break"
   ]
  },
  {
   "cell_type": "code",
   "execution_count": 94,
   "id": "developmental-joshua",
   "metadata": {},
   "outputs": [
    {
     "name": "stdout",
     "output_type": "stream",
     "text": [
      "Zvolené portfolio\n",
      "\n",
      "Ticker:.......SPY Váha:.......0.4\n",
      "Ticker:.......EEM Váha:.......0.5\n",
      "Ticker:......GOVT Váha:.......0.1\n"
     ]
    },
    {
     "data": {
      "image/png": "[encoded data removed]",
      "text/plain": [
       "<Figure size 432x288 with 1 Axes>"
      ]
     },
     "metadata": {
      "needs_background": "light"
     },
     "output_type": "display_data"
    }
   ],
   "source": [
    "selected_cols = [i for i in stock_data.columns if \"_weighted\" in i]\n",
    "\n",
    "\n",
    "output = pd.DataFrame(stock_data[selected_cols].sum(axis=1), columns=[\"Adj Close\"])\n",
    "\n",
    "#output.to_csv(\"outputFile.csv\", header=True, index=True, encoding=\"UTF-8\")\n",
    "\n",
    "plt.plot(output[\"Adj Close\"])\n",
    "\n",
    "print(\"\\nZvolené portfolio\\n\")\n",
    "for key in ticker_weight.keys():\n",
    "    print(f\"Ticker:{key:.>{10}} Váha:{ticker_weight[key]:.>{10}}\")"
   ]
  },
  {
   "cell_type": "code",
   "execution_count": 95,
   "id": "widespread-elements",
   "metadata": {},
   "outputs": [],
   "source": [
    "test_data = stock_data.iloc[-10:].copy()"
   ]
  },
  {
   "cell_type": "code",
   "execution_count": 96,
   "id": "liberal-peeing",
   "metadata": {},
   "outputs": [],
   "source": [
    "test_data[\"suma\"] = test_data[[\"SPY_weighted\",\"EEM_weighted\",\"GOVT_weighted\"]].sum(axis=1)"
   ]
  },
  {
   "cell_type": "code",
   "execution_count": 97,
   "id": "monetary-capital",
   "metadata": {},
   "outputs": [
    {
     "data": {
      "text/html": [
       "<div>\n",
       "<style scoped>\n",
       "    .dataframe tbody tr th:only-of-type {\n",
       "        vertical-align: middle;\n",
       "    }\n",
       "\n",
       "    .dataframe tbody tr th {\n",
       "        vertical-align: top;\n",
       "    }\n",
       "\n",
       "    .dataframe thead th {\n",
       "        text-align: right;\n",
       "    }\n",
       "</style>\n",
       "<table border=\"1\" class=\"dataframe\">\n",
       "  <thead>\n",
       "    <tr style=\"text-align: right;\">\n",
       "      <th></th>\n",
       "      <th>EEM</th>\n",
       "      <th>GOVT</th>\n",
       "      <th>SPY</th>\n",
       "      <th>SPY_weighted</th>\n",
       "      <th>EEM_weighted</th>\n",
       "      <th>GOVT_weighted</th>\n",
       "      <th>suma</th>\n",
       "    </tr>\n",
       "    <tr>\n",
       "      <th>Date</th>\n",
       "      <th></th>\n",
       "      <th></th>\n",
       "      <th></th>\n",
       "      <th></th>\n",
       "      <th></th>\n",
       "      <th></th>\n",
       "      <th></th>\n",
       "    </tr>\n",
       "  </thead>\n",
       "  <tbody>\n",
       "    <tr>\n",
       "      <th>2021-05-24</th>\n",
       "      <td>53.580002</td>\n",
       "      <td>26.328033</td>\n",
       "      <td>419.170013</td>\n",
       "      <td>745.915754</td>\n",
       "      <td>903.172701</td>\n",
       "      <td>185.761989</td>\n",
       "      <td>1834.850444</td>\n",
       "    </tr>\n",
       "    <tr>\n",
       "      <th>2021-05-25</th>\n",
       "      <td>54.110001</td>\n",
       "      <td>26.397976</td>\n",
       "      <td>418.239990</td>\n",
       "      <td>744.260771</td>\n",
       "      <td>912.106640</td>\n",
       "      <td>186.255480</td>\n",
       "      <td>1842.622892</td>\n",
       "    </tr>\n",
       "    <tr>\n",
       "      <th>2021-05-26</th>\n",
       "      <td>54.509998</td>\n",
       "      <td>26.377993</td>\n",
       "      <td>419.070007</td>\n",
       "      <td>745.737792</td>\n",
       "      <td>918.849212</td>\n",
       "      <td>186.114485</td>\n",
       "      <td>1850.701489</td>\n",
       "    </tr>\n",
       "    <tr>\n",
       "      <th>2021-05-27</th>\n",
       "      <td>54.520000</td>\n",
       "      <td>26.368000</td>\n",
       "      <td>419.290009</td>\n",
       "      <td>746.129286</td>\n",
       "      <td>919.017813</td>\n",
       "      <td>186.043980</td>\n",
       "      <td>1851.191079</td>\n",
       "    </tr>\n",
       "    <tr>\n",
       "      <th>2021-05-28</th>\n",
       "      <td>54.869999</td>\n",
       "      <td>26.368000</td>\n",
       "      <td>420.040009</td>\n",
       "      <td>747.463916</td>\n",
       "      <td>924.917571</td>\n",
       "      <td>186.043980</td>\n",
       "      <td>1858.425467</td>\n",
       "    </tr>\n",
       "    <tr>\n",
       "      <th>2021-06-01</th>\n",
       "      <td>56.000000</td>\n",
       "      <td>26.340000</td>\n",
       "      <td>419.670013</td>\n",
       "      <td>746.805507</td>\n",
       "      <td>943.965464</td>\n",
       "      <td>185.846422</td>\n",
       "      <td>1876.617393</td>\n",
       "    </tr>\n",
       "    <tr>\n",
       "      <th>2021-06-02</th>\n",
       "      <td>56.090000</td>\n",
       "      <td>26.370001</td>\n",
       "      <td>420.329987</td>\n",
       "      <td>747.979933</td>\n",
       "      <td>945.482554</td>\n",
       "      <td>186.058097</td>\n",
       "      <td>1879.520585</td>\n",
       "    </tr>\n",
       "    <tr>\n",
       "      <th>2021-06-03</th>\n",
       "      <td>55.490002</td>\n",
       "      <td>26.320000</td>\n",
       "      <td>418.769989</td>\n",
       "      <td>745.203908</td>\n",
       "      <td>935.368664</td>\n",
       "      <td>185.705306</td>\n",
       "      <td>1866.277877</td>\n",
       "    </tr>\n",
       "    <tr>\n",
       "      <th>2021-06-04</th>\n",
       "      <td>55.990002</td>\n",
       "      <td>26.430000</td>\n",
       "      <td>422.600006</td>\n",
       "      <td>752.019448</td>\n",
       "      <td>943.796927</td>\n",
       "      <td>186.481434</td>\n",
       "      <td>1882.297809</td>\n",
       "    </tr>\n",
       "    <tr>\n",
       "      <th>2021-06-07</th>\n",
       "      <td>55.709999</td>\n",
       "      <td>26.400000</td>\n",
       "      <td>422.190002</td>\n",
       "      <td>751.289844</td>\n",
       "      <td>939.077056</td>\n",
       "      <td>186.269759</td>\n",
       "      <td>1876.636659</td>\n",
       "    </tr>\n",
       "  </tbody>\n",
       "</table>\n",
       "</div>"
      ],
      "text/plain": [
       "                  EEM       GOVT         SPY  SPY_weighted  EEM_weighted  \\\n",
       "Date                                                                       \n",
       "2021-05-24  53.580002  26.328033  419.170013    745.915754    903.172701   \n",
       "2021-05-25  54.110001  26.397976  418.239990    744.260771    912.106640   \n",
       "2021-05-26  54.509998  26.377993  419.070007    745.737792    918.849212   \n",
       "2021-05-27  54.520000  26.368000  419.290009    746.129286    919.017813   \n",
       "2021-05-28  54.869999  26.368000  420.040009    747.463916    924.917571   \n",
       "2021-06-01  56.000000  26.340000  419.670013    746.805507    943.965464   \n",
       "2021-06-02  56.090000  26.370001  420.329987    747.979933    945.482554   \n",
       "2021-06-03  55.490002  26.320000  418.769989    745.203908    935.368664   \n",
       "2021-06-04  55.990002  26.430000  422.600006    752.019448    943.796927   \n",
       "2021-06-07  55.709999  26.400000  422.190002    751.289844    939.077056   \n",
       "\n",
       "            GOVT_weighted         suma  \n",
       "Date                                    \n",
       "2021-05-24     185.761989  1834.850444  \n",
       "2021-05-25     186.255480  1842.622892  \n",
       "2021-05-26     186.114485  1850.701489  \n",
       "2021-05-27     186.043980  1851.191079  \n",
       "2021-05-28     186.043980  1858.425467  \n",
       "2021-06-01     185.846422  1876.617393  \n",
       "2021-06-02     186.058097  1879.520585  \n",
       "2021-06-03     185.705306  1866.277877  \n",
       "2021-06-04     186.481434  1882.297809  \n",
       "2021-06-07     186.269759  1876.636659  "
      ]
     },
     "execution_count": 97,
     "metadata": {},
     "output_type": "execute_result"
    }
   ],
   "source": [
    "test_data"
   ]
  },
  {
   "cell_type": "code",
   "execution_count": 98,
   "id": "tired-labor",
   "metadata": {},
   "outputs": [
    {
     "data": {
      "text/plain": [
       "(Date\n",
       " 2021-05-24    0.406527\n",
       " 2021-05-25    0.403914\n",
       " 2021-05-26    0.402949\n",
       " 2021-05-27    0.403054\n",
       " 2021-05-28    0.402203\n",
       " 2021-06-01    0.397953\n",
       " 2021-06-02    0.397963\n",
       " 2021-06-03    0.399300\n",
       " 2021-06-04    0.399522\n",
       " 2021-06-07    0.400338\n",
       " dtype: float64,\n",
       " Date\n",
       " 2021-05-24    0.492232\n",
       " 2021-05-25    0.495005\n",
       " 2021-05-26    0.496487\n",
       " 2021-05-27    0.496447\n",
       " 2021-05-28    0.497689\n",
       " 2021-06-01    0.503014\n",
       " 2021-06-02    0.503045\n",
       " 2021-06-03    0.501195\n",
       " 2021-06-04    0.501407\n",
       " 2021-06-07    0.500404\n",
       " dtype: float64)"
      ]
     },
     "execution_count": 98,
     "metadata": {},
     "output_type": "execute_result"
    }
   ],
   "source": [
    "(test_data[\"SPY_weighted\"] / test_data[\"suma\"], test_data[\"EEM_weighted\"] / test_data[\"suma\"])"
   ]
  },
  {
   "cell_type": "code",
   "execution_count": null,
   "id": "close-jones",
   "metadata": {},
   "outputs": [],
   "source": []
  }
 ],
 "metadata": {
  "kernelspec": {
   "display_name": "Python 3",
   "language": "python",
   "name": "python3"
  },
  "language_info": {
   "codemirror_mode": {
    "name": "ipython",
    "version": 3
   },
   "file_extension": ".py",
   "mimetype": "text/x-python",
   "name": "python",
   "nbconvert_exporter": "python",
   "pygments_lexer": "ipython3",
   "version": "3.9.1"
  }
 },
 "nbformat": 4,
 "nbformat_minor": 5
}
