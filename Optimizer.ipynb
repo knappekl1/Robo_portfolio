{
 "cells": [
  {
   "cell_type": "code",
   "execution_count": 5,
   "id": "465b4a5b",
   "metadata": {},
   "outputs": [],
   "source": [
    "import pulp\n",
    "import numpy as np\n",
    "import pandas as pd\n",
    "import matplotlib.pyplot as plt\n",
    "import seaborn as sns"
   ]
  },
  {
   "cell_type": "code",
   "execution_count": 12,
   "id": "793cfe32",
   "metadata": {},
   "outputs": [],
   "source": [
    "universe = pd.read_csv(\"diff_clean_all.csv\", header=[0,1], index_col=[0])"
   ]
  },
  {
   "cell_type": "code",
   "execution_count": 19,
   "id": "a3372dff",
   "metadata": {},
   "outputs": [
    {
     "data": {
      "text/html": [
       "<div>\n",
       "<style scoped>\n",
       "    .dataframe tbody tr th:only-of-type {\n",
       "        vertical-align: middle;\n",
       "    }\n",
       "\n",
       "    .dataframe tbody tr th {\n",
       "        vertical-align: top;\n",
       "    }\n",
       "\n",
       "    .dataframe thead tr th {\n",
       "        text-align: left;\n",
       "    }\n",
       "\n",
       "    .dataframe thead tr:last-of-type th {\n",
       "        text-align: right;\n",
       "    }\n",
       "</style>\n",
       "<table border=\"1\" class=\"dataframe\">\n",
       "  <thead>\n",
       "    <tr>\n",
       "      <th></th>\n",
       "      <th colspan=\"2\" halign=\"left\">Equity</th>\n",
       "    </tr>\n",
       "    <tr>\n",
       "      <th></th>\n",
       "      <th>ALAT.PA</th>\n",
       "      <th>CEMA.L</th>\n",
       "    </tr>\n",
       "    <tr>\n",
       "      <th>Date</th>\n",
       "      <th></th>\n",
       "      <th></th>\n",
       "    </tr>\n",
       "  </thead>\n",
       "  <tbody>\n",
       "    <tr>\n",
       "      <th>2016-07-01</th>\n",
       "      <td>0.000000</td>\n",
       "      <td>0.011761</td>\n",
       "    </tr>\n",
       "    <tr>\n",
       "      <th>2016-07-04</th>\n",
       "      <td>-0.000801</td>\n",
       "      <td>-0.000554</td>\n",
       "    </tr>\n",
       "    <tr>\n",
       "      <th>2016-07-05</th>\n",
       "      <td>-0.020990</td>\n",
       "      <td>-0.014123</td>\n",
       "    </tr>\n",
       "    <tr>\n",
       "      <th>2016-07-06</th>\n",
       "      <td>-0.010949</td>\n",
       "      <td>-0.012828</td>\n",
       "    </tr>\n",
       "    <tr>\n",
       "      <th>2016-07-07</th>\n",
       "      <td>0.001319</td>\n",
       "      <td>0.013469</td>\n",
       "    </tr>\n",
       "    <tr>\n",
       "      <th>...</th>\n",
       "      <td>...</td>\n",
       "      <td>...</td>\n",
       "    </tr>\n",
       "    <tr>\n",
       "      <th>2021-06-24</th>\n",
       "      <td>0.010053</td>\n",
       "      <td>0.006624</td>\n",
       "    </tr>\n",
       "    <tr>\n",
       "      <th>2021-06-25</th>\n",
       "      <td>-0.001583</td>\n",
       "      <td>0.008225</td>\n",
       "    </tr>\n",
       "    <tr>\n",
       "      <th>2021-06-28</th>\n",
       "      <td>-0.012911</td>\n",
       "      <td>0.003618</td>\n",
       "    </tr>\n",
       "    <tr>\n",
       "      <th>2021-06-29</th>\n",
       "      <td>0.008177</td>\n",
       "      <td>-0.005419</td>\n",
       "    </tr>\n",
       "    <tr>\n",
       "      <th>2021-06-30</th>\n",
       "      <td>-0.011595</td>\n",
       "      <td>-0.001137</td>\n",
       "    </tr>\n",
       "  </tbody>\n",
       "</table>\n",
       "<p>1281 rows × 2 columns</p>\n",
       "</div>"
      ],
      "text/plain": [
       "              Equity          \n",
       "             ALAT.PA    CEMA.L\n",
       "Date                          \n",
       "2016-07-01  0.000000  0.011761\n",
       "2016-07-04 -0.000801 -0.000554\n",
       "2016-07-05 -0.020990 -0.014123\n",
       "2016-07-06 -0.010949 -0.012828\n",
       "2016-07-07  0.001319  0.013469\n",
       "...              ...       ...\n",
       "2021-06-24  0.010053  0.006624\n",
       "2021-06-25 -0.001583  0.008225\n",
       "2021-06-28 -0.012911  0.003618\n",
       "2021-06-29  0.008177 -0.005419\n",
       "2021-06-30 -0.011595 -0.001137\n",
       "\n",
       "[1281 rows x 2 columns]"
      ]
     },
     "execution_count": 19,
     "metadata": {},
     "output_type": "execute_result"
    }
   ],
   "source": [
    "universe[[(\"Equity\",\"ALAT.PA\"),(\"Equity\",\"CEMA.L\")]]"
   ]
  },
  {
   "cell_type": "code",
   "execution_count": 27,
   "id": "bc4b05a4",
   "metadata": {},
   "outputs": [],
   "source": [
    "pf_components = [(\"Equity\",\"CSPX.L\"), (\"Equity\", \"MEUD.L\"), (\"Equity\",\"CJPU.L\"),(\"Equity\",\"ISP6.L\"), (\"Equity\",\"CSEMUS.SW\"),(\"Equity\",\"CECD.LN\"),(\"Equity\",\"CEMA.L\"),(\"Equity\",\"PAF.L\"),(\"Real Estate\",\"IPRP.AS\"),(\"Commodities\",\"CRB.PA\")]"
   ]
  },
  {
   "cell_type": "code",
   "execution_count": 29,
   "id": "215ce3bd",
   "metadata": {},
   "outputs": [],
   "source": [
    "portfolio = universe[pf_components].copy()"
   ]
  },
  {
   "cell_type": "code",
   "execution_count": 57,
   "id": "be979bab",
   "metadata": {},
   "outputs": [],
   "source": [
    "pf_stats = pd.DataFrame([portfolio.mean(axis=0), portfolio.var(axis=0)], index=[\"return_pd\",\"risk_pd\"])"
   ]
  },
  {
   "cell_type": "code",
   "execution_count": 58,
   "id": "f861a4a1",
   "metadata": {},
   "outputs": [],
   "source": [
    "pf_stats = pf_stats.transpose()"
   ]
  },
  {
   "cell_type": "code",
   "execution_count": 71,
   "id": "3533ec37",
   "metadata": {},
   "outputs": [],
   "source": [
    "rf_rate = 0.011\n",
    "trade_days = 250\n",
    "\n",
    "pf_stats[\"excess_return_pa\"] = pf_stats[\"return_pd\"] * trade_days - rf_rate\n",
    "pf_stats[\"var_pa\"] = pf_stats[\"risk_pd\"] * trade_days"
   ]
  },
  {
   "cell_type": "code",
   "execution_count": 76,
   "id": "9ff451ae",
   "metadata": {},
   "outputs": [],
   "source": [
    "cov_matrix_pa = portfolio.cov() * trade_days"
   ]
  },
  {
   "cell_type": "code",
   "execution_count": 77,
   "id": "8644e59c",
   "metadata": {},
   "outputs": [
    {
     "data": {
      "text/html": [
       "<div>\n",
       "<style scoped>\n",
       "    .dataframe tbody tr th:only-of-type {\n",
       "        vertical-align: middle;\n",
       "    }\n",
       "\n",
       "    .dataframe tbody tr th {\n",
       "        vertical-align: top;\n",
       "    }\n",
       "\n",
       "    .dataframe thead tr th {\n",
       "        text-align: left;\n",
       "    }\n",
       "</style>\n",
       "<table border=\"1\" class=\"dataframe\">\n",
       "  <thead>\n",
       "    <tr>\n",
       "      <th></th>\n",
       "      <th></th>\n",
       "      <th colspan=\"8\" halign=\"left\">Equity</th>\n",
       "      <th>Real Estate</th>\n",
       "      <th>Commodities</th>\n",
       "    </tr>\n",
       "    <tr>\n",
       "      <th></th>\n",
       "      <th></th>\n",
       "      <th>CSPX.L</th>\n",
       "      <th>MEUD.L</th>\n",
       "      <th>CJPU.L</th>\n",
       "      <th>ISP6.L</th>\n",
       "      <th>CSEMUS.SW</th>\n",
       "      <th>CECD.LN</th>\n",
       "      <th>CEMA.L</th>\n",
       "      <th>PAF.L</th>\n",
       "      <th>IPRP.AS</th>\n",
       "      <th>CRB.PA</th>\n",
       "    </tr>\n",
       "  </thead>\n",
       "  <tbody>\n",
       "    <tr>\n",
       "      <th rowspan=\"8\" valign=\"top\">Equity</th>\n",
       "      <th>CSPX.L</th>\n",
       "      <td>0.025908</td>\n",
       "      <td>0.018444</td>\n",
       "      <td>0.019054</td>\n",
       "      <td>0.024761</td>\n",
       "      <td>0.019609</td>\n",
       "      <td>0.022730</td>\n",
       "      <td>0.022969</td>\n",
       "      <td>0.002061</td>\n",
       "      <td>0.015292</td>\n",
       "      <td>0.011585</td>\n",
       "    </tr>\n",
       "    <tr>\n",
       "      <th>MEUD.L</th>\n",
       "      <td>0.018444</td>\n",
       "      <td>0.030427</td>\n",
       "      <td>0.016519</td>\n",
       "      <td>0.023992</td>\n",
       "      <td>0.019519</td>\n",
       "      <td>0.022152</td>\n",
       "      <td>0.019748</td>\n",
       "      <td>0.008500</td>\n",
       "      <td>0.015072</td>\n",
       "      <td>0.009564</td>\n",
       "    </tr>\n",
       "    <tr>\n",
       "      <th>CJPU.L</th>\n",
       "      <td>0.019054</td>\n",
       "      <td>0.016519</td>\n",
       "      <td>0.024191</td>\n",
       "      <td>0.018651</td>\n",
       "      <td>0.017489</td>\n",
       "      <td>0.021422</td>\n",
       "      <td>0.020584</td>\n",
       "      <td>0.003730</td>\n",
       "      <td>0.013379</td>\n",
       "      <td>0.008365</td>\n",
       "    </tr>\n",
       "    <tr>\n",
       "      <th>ISP6.L</th>\n",
       "      <td>0.024761</td>\n",
       "      <td>0.023992</td>\n",
       "      <td>0.018651</td>\n",
       "      <td>0.045678</td>\n",
       "      <td>0.021266</td>\n",
       "      <td>0.020005</td>\n",
       "      <td>0.020690</td>\n",
       "      <td>-0.002748</td>\n",
       "      <td>0.015387</td>\n",
       "      <td>0.014765</td>\n",
       "    </tr>\n",
       "    <tr>\n",
       "      <th>CSEMUS.SW</th>\n",
       "      <td>0.019609</td>\n",
       "      <td>0.019519</td>\n",
       "      <td>0.017489</td>\n",
       "      <td>0.021266</td>\n",
       "      <td>0.026167</td>\n",
       "      <td>0.023816</td>\n",
       "      <td>0.021235</td>\n",
       "      <td>0.003707</td>\n",
       "      <td>0.018014</td>\n",
       "      <td>0.011062</td>\n",
       "    </tr>\n",
       "    <tr>\n",
       "      <th>CECD.LN</th>\n",
       "      <td>0.022730</td>\n",
       "      <td>0.022152</td>\n",
       "      <td>0.021422</td>\n",
       "      <td>0.020005</td>\n",
       "      <td>0.023816</td>\n",
       "      <td>0.047436</td>\n",
       "      <td>0.028390</td>\n",
       "      <td>0.015242</td>\n",
       "      <td>0.017089</td>\n",
       "      <td>0.011162</td>\n",
       "    </tr>\n",
       "    <tr>\n",
       "      <th>CEMA.L</th>\n",
       "      <td>0.022969</td>\n",
       "      <td>0.019748</td>\n",
       "      <td>0.020584</td>\n",
       "      <td>0.020690</td>\n",
       "      <td>0.021235</td>\n",
       "      <td>0.028390</td>\n",
       "      <td>0.036863</td>\n",
       "      <td>0.009014</td>\n",
       "      <td>0.015474</td>\n",
       "      <td>0.011559</td>\n",
       "    </tr>\n",
       "    <tr>\n",
       "      <th>PAF.L</th>\n",
       "      <td>0.002061</td>\n",
       "      <td>0.008500</td>\n",
       "      <td>0.003730</td>\n",
       "      <td>-0.002748</td>\n",
       "      <td>0.003707</td>\n",
       "      <td>0.015242</td>\n",
       "      <td>0.009014</td>\n",
       "      <td>0.329581</td>\n",
       "      <td>0.007482</td>\n",
       "      <td>0.000126</td>\n",
       "    </tr>\n",
       "    <tr>\n",
       "      <th>Real Estate</th>\n",
       "      <th>IPRP.AS</th>\n",
       "      <td>0.015292</td>\n",
       "      <td>0.015072</td>\n",
       "      <td>0.013379</td>\n",
       "      <td>0.015387</td>\n",
       "      <td>0.018014</td>\n",
       "      <td>0.017089</td>\n",
       "      <td>0.015474</td>\n",
       "      <td>0.007482</td>\n",
       "      <td>0.027809</td>\n",
       "      <td>0.009156</td>\n",
       "    </tr>\n",
       "    <tr>\n",
       "      <th>Commodities</th>\n",
       "      <th>CRB.PA</th>\n",
       "      <td>0.011585</td>\n",
       "      <td>0.009564</td>\n",
       "      <td>0.008365</td>\n",
       "      <td>0.014765</td>\n",
       "      <td>0.011062</td>\n",
       "      <td>0.011162</td>\n",
       "      <td>0.011559</td>\n",
       "      <td>0.000126</td>\n",
       "      <td>0.009156</td>\n",
       "      <td>0.028319</td>\n",
       "    </tr>\n",
       "  </tbody>\n",
       "</table>\n",
       "</div>"
      ],
      "text/plain": [
       "                         Equity                                          \\\n",
       "                         CSPX.L    MEUD.L    CJPU.L    ISP6.L CSEMUS.SW   \n",
       "Equity      CSPX.L     0.025908  0.018444  0.019054  0.024761  0.019609   \n",
       "            MEUD.L     0.018444  0.030427  0.016519  0.023992  0.019519   \n",
       "            CJPU.L     0.019054  0.016519  0.024191  0.018651  0.017489   \n",
       "            ISP6.L     0.024761  0.023992  0.018651  0.045678  0.021266   \n",
       "            CSEMUS.SW  0.019609  0.019519  0.017489  0.021266  0.026167   \n",
       "            CECD.LN    0.022730  0.022152  0.021422  0.020005  0.023816   \n",
       "            CEMA.L     0.022969  0.019748  0.020584  0.020690  0.021235   \n",
       "            PAF.L      0.002061  0.008500  0.003730 -0.002748  0.003707   \n",
       "Real Estate IPRP.AS    0.015292  0.015072  0.013379  0.015387  0.018014   \n",
       "Commodities CRB.PA     0.011585  0.009564  0.008365  0.014765  0.011062   \n",
       "\n",
       "                                                    Real Estate Commodities  \n",
       "                        CECD.LN    CEMA.L     PAF.L     IPRP.AS      CRB.PA  \n",
       "Equity      CSPX.L     0.022730  0.022969  0.002061    0.015292    0.011585  \n",
       "            MEUD.L     0.022152  0.019748  0.008500    0.015072    0.009564  \n",
       "            CJPU.L     0.021422  0.020584  0.003730    0.013379    0.008365  \n",
       "            ISP6.L     0.020005  0.020690 -0.002748    0.015387    0.014765  \n",
       "            CSEMUS.SW  0.023816  0.021235  0.003707    0.018014    0.011062  \n",
       "            CECD.LN    0.047436  0.028390  0.015242    0.017089    0.011162  \n",
       "            CEMA.L     0.028390  0.036863  0.009014    0.015474    0.011559  \n",
       "            PAF.L      0.015242  0.009014  0.329581    0.007482    0.000126  \n",
       "Real Estate IPRP.AS    0.017089  0.015474  0.007482    0.027809    0.009156  \n",
       "Commodities CRB.PA     0.011162  0.011559  0.000126    0.009156    0.028319  "
      ]
     },
     "execution_count": 77,
     "metadata": {},
     "output_type": "execute_result"
    }
   ],
   "source": [
    "cov_matrix_pa"
   ]
  },
  {
   "cell_type": "code",
   "execution_count": 78,
   "id": "a2e27e2b",
   "metadata": {},
   "outputs": [
    {
     "data": {
      "text/html": [
       "<div>\n",
       "<style scoped>\n",
       "    .dataframe tbody tr th:only-of-type {\n",
       "        vertical-align: middle;\n",
       "    }\n",
       "\n",
       "    .dataframe tbody tr th {\n",
       "        vertical-align: top;\n",
       "    }\n",
       "\n",
       "    .dataframe thead th {\n",
       "        text-align: right;\n",
       "    }\n",
       "</style>\n",
       "<table border=\"1\" class=\"dataframe\">\n",
       "  <thead>\n",
       "    <tr style=\"text-align: right;\">\n",
       "      <th></th>\n",
       "      <th></th>\n",
       "      <th>return_pd</th>\n",
       "      <th>risk_pd</th>\n",
       "      <th>excess_return_pa</th>\n",
       "      <th>var_pa</th>\n",
       "    </tr>\n",
       "  </thead>\n",
       "  <tbody>\n",
       "    <tr>\n",
       "      <th rowspan=\"8\" valign=\"top\">Equity</th>\n",
       "      <th>CSPX.L</th>\n",
       "      <td>0.000686</td>\n",
       "      <td>0.000104</td>\n",
       "      <td>0.160378</td>\n",
       "      <td>0.025908</td>\n",
       "    </tr>\n",
       "    <tr>\n",
       "      <th>MEUD.L</th>\n",
       "      <td>0.000446</td>\n",
       "      <td>0.000122</td>\n",
       "      <td>0.100428</td>\n",
       "      <td>0.030427</td>\n",
       "    </tr>\n",
       "    <tr>\n",
       "      <th>CJPU.L</th>\n",
       "      <td>0.000412</td>\n",
       "      <td>0.000097</td>\n",
       "      <td>0.091922</td>\n",
       "      <td>0.024191</td>\n",
       "    </tr>\n",
       "    <tr>\n",
       "      <th>ISP6.L</th>\n",
       "      <td>0.000596</td>\n",
       "      <td>0.000183</td>\n",
       "      <td>0.137893</td>\n",
       "      <td>0.045678</td>\n",
       "    </tr>\n",
       "    <tr>\n",
       "      <th>CSEMUS.SW</th>\n",
       "      <td>0.000530</td>\n",
       "      <td>0.000105</td>\n",
       "      <td>0.121387</td>\n",
       "      <td>0.026167</td>\n",
       "    </tr>\n",
       "    <tr>\n",
       "      <th>CECD.LN</th>\n",
       "      <td>0.000377</td>\n",
       "      <td>0.000190</td>\n",
       "      <td>0.083227</td>\n",
       "      <td>0.047436</td>\n",
       "    </tr>\n",
       "    <tr>\n",
       "      <th>CEMA.L</th>\n",
       "      <td>0.000616</td>\n",
       "      <td>0.000147</td>\n",
       "      <td>0.142924</td>\n",
       "      <td>0.036863</td>\n",
       "    </tr>\n",
       "    <tr>\n",
       "      <th>PAF.L</th>\n",
       "      <td>0.000558</td>\n",
       "      <td>0.001318</td>\n",
       "      <td>0.128457</td>\n",
       "      <td>0.329581</td>\n",
       "    </tr>\n",
       "    <tr>\n",
       "      <th>Real Estate</th>\n",
       "      <th>IPRP.AS</th>\n",
       "      <td>0.000144</td>\n",
       "      <td>0.000111</td>\n",
       "      <td>0.024935</td>\n",
       "      <td>0.027809</td>\n",
       "    </tr>\n",
       "    <tr>\n",
       "      <th>Commodities</th>\n",
       "      <th>CRB.PA</th>\n",
       "      <td>0.000095</td>\n",
       "      <td>0.000113</td>\n",
       "      <td>0.012781</td>\n",
       "      <td>0.028319</td>\n",
       "    </tr>\n",
       "  </tbody>\n",
       "</table>\n",
       "</div>"
      ],
      "text/plain": [
       "                       return_pd   risk_pd  excess_return_pa    var_pa\n",
       "Equity      CSPX.L      0.000686  0.000104          0.160378  0.025908\n",
       "            MEUD.L      0.000446  0.000122          0.100428  0.030427\n",
       "            CJPU.L      0.000412  0.000097          0.091922  0.024191\n",
       "            ISP6.L      0.000596  0.000183          0.137893  0.045678\n",
       "            CSEMUS.SW   0.000530  0.000105          0.121387  0.026167\n",
       "            CECD.LN     0.000377  0.000190          0.083227  0.047436\n",
       "            CEMA.L      0.000616  0.000147          0.142924  0.036863\n",
       "            PAF.L       0.000558  0.001318          0.128457  0.329581\n",
       "Real Estate IPRP.AS     0.000144  0.000111          0.024935  0.027809\n",
       "Commodities CRB.PA      0.000095  0.000113          0.012781  0.028319"
      ]
     },
     "execution_count": 78,
     "metadata": {},
     "output_type": "execute_result"
    }
   ],
   "source": [
    "pf_stats"
   ]
  },
  {
   "cell_type": "code",
   "execution_count": 80,
   "id": "6408c769",
   "metadata": {},
   "outputs": [
    {
     "data": {
      "text/plain": [
       "Equity       CSPX.L       0.996383\n",
       "             MEUD.L       0.575745\n",
       "             CJPU.L       0.591010\n",
       "             ISP6.L       0.645188\n",
       "             CSEMUS.SW    0.750402\n",
       "             CECD.LN      0.382126\n",
       "             CEMA.L       0.744405\n",
       "             PAF.L        0.223757\n",
       "Real Estate  IPRP.AS      0.149527\n",
       "Commodities  CRB.PA       0.075950\n",
       "dtype: float64"
      ]
     },
     "execution_count": 80,
     "metadata": {},
     "output_type": "execute_result"
    }
   ],
   "source": [
    "pf_stats[\"excess_return_pa\"]/pf_stats[\"var_pa\"]**(1/2)"
   ]
  },
  {
   "cell_type": "code",
   "execution_count": null,
   "id": "8b829f03",
   "metadata": {},
   "outputs": [],
   "source": []
  },
  {
   "cell_type": "code",
   "execution_count": 117,
   "id": "b752c0b5",
   "metadata": {},
   "outputs": [],
   "source": [
    "weights = np.random.rand(len(pf_stats))\n",
    "weights = weights / weights.sum()"
   ]
  },
  {
   "cell_type": "code",
   "execution_count": 118,
   "id": "57993285",
   "metadata": {},
   "outputs": [
    {
     "data": {
      "text/plain": [
       "array([0.12201469, 0.14204847, 0.02279741, 0.05534407, 0.21931874,\n",
       "       0.01080345, 0.21747276, 0.07161259, 0.02265299, 0.11593484])"
      ]
     },
     "execution_count": 118,
     "metadata": {},
     "output_type": "execute_result"
    }
   ],
   "source": [
    "weights"
   ]
  },
  {
   "cell_type": "code",
   "execution_count": 119,
   "id": "d0dc8a4b",
   "metadata": {},
   "outputs": [],
   "source": [
    "pf_excess_return = np.matmul(weights, pf_stats[\"excess_return_pa\"].transpose())"
   ]
  },
  {
   "cell_type": "code",
   "execution_count": 120,
   "id": "f2acec40",
   "metadata": {},
   "outputs": [
    {
     "data": {
      "text/plain": [
       "0.11341066147067423"
      ]
     },
     "execution_count": 120,
     "metadata": {},
     "output_type": "execute_result"
    }
   ],
   "source": [
    "pf_excess_return"
   ]
  },
  {
   "cell_type": "code",
   "execution_count": 121,
   "id": "73777fee",
   "metadata": {},
   "outputs": [],
   "source": [
    "pf_var = cov_matrix_pa.mul(weights, axis=0).mul(weights, axis=1).sum().sum()"
   ]
  },
  {
   "cell_type": "code",
   "execution_count": 122,
   "id": "fd4e4885",
   "metadata": {},
   "outputs": [
    {
     "data": {
      "text/plain": [
       "0.1403796164708094"
      ]
     },
     "execution_count": 122,
     "metadata": {},
     "output_type": "execute_result"
    }
   ],
   "source": [
    "pf_std = pf_var**(1/2)\n",
    "pf_std"
   ]
  },
  {
   "cell_type": "code",
   "execution_count": 123,
   "id": "08febbb6",
   "metadata": {},
   "outputs": [],
   "source": [
    "pf_sharpe = pf_excess_return / pf_std"
   ]
  },
  {
   "cell_type": "code",
   "execution_count": 124,
   "id": "071acb7e",
   "metadata": {},
   "outputs": [
    {
     "data": {
      "text/plain": [
       "0.8078855343949233"
      ]
     },
     "execution_count": 124,
     "metadata": {},
     "output_type": "execute_result"
    }
   ],
   "source": [
    "pf_sharpe"
   ]
  },
  {
   "cell_type": "code",
   "execution_count": 203,
   "id": "2b57f76a",
   "metadata": {},
   "outputs": [],
   "source": [
    "return_list = []\n",
    "risk_list = []\n",
    "sharpe_list = []\n",
    "weights_list = []\n",
    "for n in range(1000):\n",
    "    weights = np.random.rand(len(pf_stats))\n",
    "    weights = weights / weights.sum()\n",
    "    pf_excess_return = np.matmul(weights, pf_stats[\"excess_return_pa\"].transpose())\n",
    "    return_list.append(pf_excess_return)\n",
    "    pf_var = cov_matrix_pa.mul(weights, axis=0).mul(weights, axis=1).sum().sum()\n",
    "    risk_list.append(pf_var**(1/2))\n",
    "    pf_sharpe = pf_excess_return / (pf_var**(1/2))\n",
    "    sharpe_list.append(pf_sharpe)\n",
    "    weights_list.append(weights)\n",
    "    \n",
    "\n",
    "data = {\"return\":return_list,\"risk\":risk_list,\"sharpe\":sharpe_list}"
   ]
  },
  {
   "cell_type": "code",
   "execution_count": 204,
   "id": "b0e3bb74",
   "metadata": {},
   "outputs": [],
   "source": [
    "weights_array = np.array(weights_list)"
   ]
  },
  {
   "cell_type": "code",
   "execution_count": 205,
   "id": "35550e30",
   "metadata": {},
   "outputs": [],
   "source": [
    "w_pd = pd.DataFrame(weights_array, columns=pd.MultiIndex.from_tuples(pf_components))"
   ]
  },
  {
   "cell_type": "code",
   "execution_count": 207,
   "id": "41123c25",
   "metadata": {},
   "outputs": [
    {
     "name": "stderr",
     "output_type": "stream",
     "text": [
      "<ipython-input-207-e643f6e62ad0>:2: FutureWarning: merging between different levels is deprecated and will be removed in a future version. (1 levels on the left,2 on the right)\n",
      "  pf_output = pd.merge(pf_data,w_pd, how=\"inner\", left_index=True, right_index=True)\n"
     ]
    }
   ],
   "source": [
    "pf_data = pd.DataFrame(data)\n",
    "pf_output = pd.merge(pf_data,w_pd, how=\"inner\", left_index=True, right_index=True)"
   ]
  },
  {
   "cell_type": "code",
   "execution_count": 208,
   "id": "9bab6a15",
   "metadata": {},
   "outputs": [
    {
     "data": {
      "text/plain": [
       "<AxesSubplot:xlabel='risk', ylabel='return'>"
      ]
     },
     "execution_count": 208,
     "metadata": {},
     "output_type": "execute_result"
    },
    {
     "data": {
      "image/png": "[encoded data removed]",
      "text/plain": [
       "<Figure size 720x720 with 1 Axes>"
      ]
     },
     "metadata": {
      "needs_background": "light"
     },
     "output_type": "display_data"
    }
   ],
   "source": [
    "pf_output.plot.scatter(\"risk\",\"return\", figsize=(10,10))"
   ]
  },
  {
   "cell_type": "code",
   "execution_count": 209,
   "id": "e69d7703",
   "metadata": {},
   "outputs": [],
   "source": [
    "pf_max = pf_output.iloc[pf_output[\"sharpe\"].argmax()]"
   ]
  },
  {
   "cell_type": "code",
   "execution_count": 210,
   "id": "dc5fa396",
   "metadata": {},
   "outputs": [
    {
     "data": {
      "text/plain": [
       "return                    0.124861\n",
       "risk                      0.145879\n",
       "sharpe                    0.855924\n",
       "(Equity, CSPX.L)          0.200353\n",
       "(Equity, MEUD.L)          0.038696\n",
       "(Equity, CJPU.L)          0.145831\n",
       "(Equity, ISP6.L)          0.109268\n",
       "(Equity, CSEMUS.SW)       0.054819\n",
       "(Equity, CECD.LN)         0.015875\n",
       "(Equity, CEMA.L)          0.305765\n",
       "(Equity, PAF.L)           0.060843\n",
       "(Real Estate, IPRP.AS)    0.000202\n",
       "(Commodities, CRB.PA)     0.068349\n",
       "Name: 116, dtype: float64"
      ]
     },
     "execution_count": 210,
     "metadata": {},
     "output_type": "execute_result"
    }
   ],
   "source": [
    "pf_max"
   ]
  },
  {
   "cell_type": "code",
   "execution_count": 211,
   "id": "4757d87e",
   "metadata": {},
   "outputs": [
    {
     "data": {
      "text/plain": [
       "<AxesSubplot:>"
      ]
     },
     "execution_count": 211,
     "metadata": {},
     "output_type": "execute_result"
    },
    {
     "data": {
      "image/png": "[encoded data removed]",
      "text/plain": [
       "<Figure size 432x288 with 1 Axes>"
      ]
     },
     "metadata": {
      "needs_background": "light"
     },
     "output_type": "display_data"
    }
   ],
   "source": [
    "pf_output[\"sharpe\"].plot()"
   ]
  },
  {
   "cell_type": "code",
   "execution_count": 212,
   "id": "8dbddc79",
   "metadata": {},
   "outputs": [
    {
     "data": {
      "text/plain": [
       "<AxesSubplot:>"
      ]
     },
     "execution_count": 212,
     "metadata": {},
     "output_type": "execute_result"
    },
    {
     "data": {
      "image/png": "[encoded data removed]",
      "text/plain": [
       "<Figure size 432x288 with 1 Axes>"
      ]
     },
     "metadata": {
      "needs_background": "light"
     },
     "output_type": "display_data"
    }
   ],
   "source": [
    "pf_output[\"risk\"].plot()"
   ]
  },
  {
   "cell_type": "code",
   "execution_count": null,
   "id": "81e06aab",
   "metadata": {},
   "outputs": [],
   "source": []
  }
 ],
 "metadata": {
  "kernelspec": {
   "display_name": "Python 3",
   "language": "python",
   "name": "python3"
  },
  "language_info": {
   "codemirror_mode": {
    "name": "ipython",
    "version": 3
   },
   "file_extension": ".py",
   "mimetype": "text/x-python",
   "name": "python",
   "nbconvert_exporter": "python",
   "pygments_lexer": "ipython3",
   "version": "3.9.1"
  }
 },
 "nbformat": 4,
 "nbformat_minor": 5
}
