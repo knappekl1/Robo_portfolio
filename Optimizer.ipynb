{
 "cells": [
  {
   "cell_type": "code",
   "execution_count": 1,
   "id": "465b4a5b",
   "metadata": {},
   "outputs": [],
   "source": [
    "import pulp\n",
    "import numpy as np\n",
    "import pandas as pd\n",
    "import matplotlib.pyplot as plt\n",
    "import seaborn as sns"
   ]
  },
  {
   "cell_type": "code",
   "execution_count": 2,
   "id": "793cfe32",
   "metadata": {},
   "outputs": [],
   "source": [
    "universe = pd.read_csv(\"diff_clean_all.csv\", header=[0,1], index_col=[0], parse_dates=True)"
   ]
  },
  {
   "cell_type": "code",
   "execution_count": 3,
   "id": "bc4b05a4",
   "metadata": {},
   "outputs": [],
   "source": [
    "pf_components = [(\"Equity\",\"CSPX.L\"), (\"Equity\", \"MEUD.L\"), (\"Equity\",\"CJPU.L\"),(\"Equity\",\"ISP6.L\"), (\"Equity\",\"CSEMUS.SW\"),(\"Equity\",\"CECD.LN\"),(\"Equity\",\"CEMA.L\"),(\"Equity\",\"PAF.L\"),(\"Real Estate\",\"IPRP.AS\"),(\"Commodities\",\"CRB.PA\")]"
   ]
  },
  {
   "cell_type": "code",
   "execution_count": 4,
   "id": "215ce3bd",
   "metadata": {},
   "outputs": [],
   "source": [
    "portfolio = universe[pf_components].copy()"
   ]
  },
  {
   "cell_type": "code",
   "execution_count": 5,
   "id": "bb7a3d30",
   "metadata": {},
   "outputs": [
    {
     "data": {
      "text/plain": [
       "DatetimeIndex(['2016-07-01', '2016-07-04', '2016-07-05', '2016-07-06',\n",
       "               '2016-07-07', '2016-07-08', '2016-07-11', '2016-07-12',\n",
       "               '2016-07-13', '2016-07-14',\n",
       "               ...\n",
       "               '2021-06-17', '2021-06-18', '2021-06-21', '2021-06-22',\n",
       "               '2021-06-23', '2021-06-24', '2021-06-25', '2021-06-28',\n",
       "               '2021-06-29', '2021-06-30'],\n",
       "              dtype='datetime64[ns]', name='Date', length=1281, freq=None)"
      ]
     },
     "execution_count": 5,
     "metadata": {},
     "output_type": "execute_result"
    }
   ],
   "source": [
    "portfolio.index"
   ]
  },
  {
   "cell_type": "code",
   "execution_count": 6,
   "id": "51f6113c",
   "metadata": {},
   "outputs": [
    {
     "data": {
      "text/html": [
       "<div>\n",
       "<style scoped>\n",
       "    .dataframe tbody tr th:only-of-type {\n",
       "        vertical-align: middle;\n",
       "    }\n",
       "\n",
       "    .dataframe tbody tr th {\n",
       "        vertical-align: top;\n",
       "    }\n",
       "\n",
       "    .dataframe thead tr th {\n",
       "        text-align: left;\n",
       "    }\n",
       "\n",
       "    .dataframe thead tr:last-of-type th {\n",
       "        text-align: right;\n",
       "    }\n",
       "</style>\n",
       "<table border=\"1\" class=\"dataframe\">\n",
       "  <thead>\n",
       "    <tr>\n",
       "      <th></th>\n",
       "      <th colspan=\"8\" halign=\"left\">Equity</th>\n",
       "      <th>Real Estate</th>\n",
       "      <th>Commodities</th>\n",
       "    </tr>\n",
       "    <tr>\n",
       "      <th></th>\n",
       "      <th>CSPX.L</th>\n",
       "      <th>MEUD.L</th>\n",
       "      <th>CJPU.L</th>\n",
       "      <th>ISP6.L</th>\n",
       "      <th>CSEMUS.SW</th>\n",
       "      <th>CECD.LN</th>\n",
       "      <th>CEMA.L</th>\n",
       "      <th>PAF.L</th>\n",
       "      <th>IPRP.AS</th>\n",
       "      <th>CRB.PA</th>\n",
       "    </tr>\n",
       "    <tr>\n",
       "      <th>Date</th>\n",
       "      <th></th>\n",
       "      <th></th>\n",
       "      <th></th>\n",
       "      <th></th>\n",
       "      <th></th>\n",
       "      <th></th>\n",
       "      <th></th>\n",
       "      <th></th>\n",
       "      <th></th>\n",
       "      <th></th>\n",
       "    </tr>\n",
       "  </thead>\n",
       "  <tbody>\n",
       "    <tr>\n",
       "      <th>2016-07-01</th>\n",
       "      <td>0.010468</td>\n",
       "      <td>0.012539</td>\n",
       "      <td>-0.006062</td>\n",
       "      <td>0.016937</td>\n",
       "      <td>0.015686</td>\n",
       "      <td>-0.006000</td>\n",
       "      <td>0.011761</td>\n",
       "      <td>-0.052632</td>\n",
       "      <td>0.006613</td>\n",
       "      <td>0.003433</td>\n",
       "    </tr>\n",
       "    <tr>\n",
       "      <th>2016-07-04</th>\n",
       "      <td>0.000507</td>\n",
       "      <td>-0.010110</td>\n",
       "      <td>0.007559</td>\n",
       "      <td>-0.002939</td>\n",
       "      <td>-0.010635</td>\n",
       "      <td>-0.003696</td>\n",
       "      <td>-0.000554</td>\n",
       "      <td>0.125000</td>\n",
       "      <td>-0.001577</td>\n",
       "      <td>-0.001244</td>\n",
       "    </tr>\n",
       "    <tr>\n",
       "      <th>2016-07-05</th>\n",
       "      <td>-0.008253</td>\n",
       "      <td>-0.000440</td>\n",
       "      <td>0.000000</td>\n",
       "      <td>0.006457</td>\n",
       "      <td>-0.021772</td>\n",
       "      <td>-0.015147</td>\n",
       "      <td>-0.014123</td>\n",
       "      <td>-0.024691</td>\n",
       "      <td>-0.014607</td>\n",
       "      <td>-0.014014</td>\n",
       "    </tr>\n",
       "    <tr>\n",
       "      <th>2016-07-06</th>\n",
       "      <td>0.000000</td>\n",
       "      <td>-0.006454</td>\n",
       "      <td>-0.016199</td>\n",
       "      <td>0.012552</td>\n",
       "      <td>-0.018057</td>\n",
       "      <td>-0.008788</td>\n",
       "      <td>-0.012828</td>\n",
       "      <td>0.189873</td>\n",
       "      <td>-0.014957</td>\n",
       "      <td>-0.009160</td>\n",
       "    </tr>\n",
       "    <tr>\n",
       "      <th>2016-07-07</th>\n",
       "      <td>0.006458</td>\n",
       "      <td>0.008168</td>\n",
       "      <td>0.000000</td>\n",
       "      <td>0.005510</td>\n",
       "      <td>0.016964</td>\n",
       "      <td>0.012666</td>\n",
       "      <td>0.013469</td>\n",
       "      <td>-0.031915</td>\n",
       "      <td>0.002440</td>\n",
       "      <td>-0.002869</td>\n",
       "    </tr>\n",
       "  </tbody>\n",
       "</table>\n",
       "</div>"
      ],
      "text/plain": [
       "              Equity                                                    \\\n",
       "              CSPX.L    MEUD.L    CJPU.L    ISP6.L CSEMUS.SW   CECD.LN   \n",
       "Date                                                                     \n",
       "2016-07-01  0.010468  0.012539 -0.006062  0.016937  0.015686 -0.006000   \n",
       "2016-07-04  0.000507 -0.010110  0.007559 -0.002939 -0.010635 -0.003696   \n",
       "2016-07-05 -0.008253 -0.000440  0.000000  0.006457 -0.021772 -0.015147   \n",
       "2016-07-06  0.000000 -0.006454 -0.016199  0.012552 -0.018057 -0.008788   \n",
       "2016-07-07  0.006458  0.008168  0.000000  0.005510  0.016964  0.012666   \n",
       "\n",
       "                               Real Estate Commodities  \n",
       "              CEMA.L     PAF.L     IPRP.AS      CRB.PA  \n",
       "Date                                                    \n",
       "2016-07-01  0.011761 -0.052632    0.006613    0.003433  \n",
       "2016-07-04 -0.000554  0.125000   -0.001577   -0.001244  \n",
       "2016-07-05 -0.014123 -0.024691   -0.014607   -0.014014  \n",
       "2016-07-06 -0.012828  0.189873   -0.014957   -0.009160  \n",
       "2016-07-07  0.013469 -0.031915    0.002440   -0.002869  "
      ]
     },
     "execution_count": 6,
     "metadata": {},
     "output_type": "execute_result"
    }
   ],
   "source": [
    "portfolio.head()"
   ]
  },
  {
   "cell_type": "code",
   "execution_count": 7,
   "id": "be979bab",
   "metadata": {},
   "outputs": [],
   "source": [
    "pf_stats = pd.DataFrame([portfolio.mean(axis=0), portfolio.apply(lambda x: np.log(1+x)).var(axis=0)], index=[\"return_pd\",\"risk_pd\"])"
   ]
  },
  {
   "cell_type": "code",
   "execution_count": 8,
   "id": "f861a4a1",
   "metadata": {},
   "outputs": [],
   "source": [
    "pf_stats = pf_stats.transpose()"
   ]
  },
  {
   "cell_type": "code",
   "execution_count": 9,
   "id": "3533ec37",
   "metadata": {},
   "outputs": [],
   "source": [
    "rf_rate = 0.011\n",
    "trade_days = 250\n",
    "\n",
    "pf_stats[\"excess_return_pa\"] = pf_stats[\"return_pd\"] * trade_days - rf_rate\n",
    "pf_stats[\"var_pa\"] = pf_stats[\"risk_pd\"] * trade_days"
   ]
  },
  {
   "cell_type": "code",
   "execution_count": 10,
   "id": "9ff451ae",
   "metadata": {},
   "outputs": [],
   "source": [
    "cov_matrix = portfolio.apply(lambda x: np.log(1+x)).cov()\n",
    "cov_matrix_pa = cov_matrix * trade_days"
   ]
  },
  {
   "cell_type": "code",
   "execution_count": 11,
   "id": "8644e59c",
   "metadata": {},
   "outputs": [
    {
     "data": {
      "text/html": [
       "<div>\n",
       "<style scoped>\n",
       "    .dataframe tbody tr th:only-of-type {\n",
       "        vertical-align: middle;\n",
       "    }\n",
       "\n",
       "    .dataframe tbody tr th {\n",
       "        vertical-align: top;\n",
       "    }\n",
       "\n",
       "    .dataframe thead tr th {\n",
       "        text-align: left;\n",
       "    }\n",
       "</style>\n",
       "<table border=\"1\" class=\"dataframe\">\n",
       "  <thead>\n",
       "    <tr>\n",
       "      <th></th>\n",
       "      <th></th>\n",
       "      <th colspan=\"8\" halign=\"left\">Equity</th>\n",
       "      <th>Real Estate</th>\n",
       "      <th>Commodities</th>\n",
       "    </tr>\n",
       "    <tr>\n",
       "      <th></th>\n",
       "      <th></th>\n",
       "      <th>CSPX.L</th>\n",
       "      <th>MEUD.L</th>\n",
       "      <th>CJPU.L</th>\n",
       "      <th>ISP6.L</th>\n",
       "      <th>CSEMUS.SW</th>\n",
       "      <th>CECD.LN</th>\n",
       "      <th>CEMA.L</th>\n",
       "      <th>PAF.L</th>\n",
       "      <th>IPRP.AS</th>\n",
       "      <th>CRB.PA</th>\n",
       "    </tr>\n",
       "  </thead>\n",
       "  <tbody>\n",
       "    <tr>\n",
       "      <th rowspan=\"8\" valign=\"top\">Equity</th>\n",
       "      <th>CSPX.L</th>\n",
       "      <td>0.026103</td>\n",
       "      <td>0.018657</td>\n",
       "      <td>0.019261</td>\n",
       "      <td>0.024903</td>\n",
       "      <td>0.019922</td>\n",
       "      <td>0.023248</td>\n",
       "      <td>0.023228</td>\n",
       "      <td>0.002724</td>\n",
       "      <td>0.015562</td>\n",
       "      <td>0.011793</td>\n",
       "    </tr>\n",
       "    <tr>\n",
       "      <th>MEUD.L</th>\n",
       "      <td>0.018657</td>\n",
       "      <td>0.030630</td>\n",
       "      <td>0.016794</td>\n",
       "      <td>0.024230</td>\n",
       "      <td>0.019906</td>\n",
       "      <td>0.022717</td>\n",
       "      <td>0.020052</td>\n",
       "      <td>0.009339</td>\n",
       "      <td>0.015426</td>\n",
       "      <td>0.009763</td>\n",
       "    </tr>\n",
       "    <tr>\n",
       "      <th>CJPU.L</th>\n",
       "      <td>0.019261</td>\n",
       "      <td>0.016794</td>\n",
       "      <td>0.024455</td>\n",
       "      <td>0.018841</td>\n",
       "      <td>0.017869</td>\n",
       "      <td>0.022040</td>\n",
       "      <td>0.020881</td>\n",
       "      <td>0.004364</td>\n",
       "      <td>0.013697</td>\n",
       "      <td>0.008499</td>\n",
       "    </tr>\n",
       "    <tr>\n",
       "      <th>ISP6.L</th>\n",
       "      <td>0.024903</td>\n",
       "      <td>0.024230</td>\n",
       "      <td>0.018841</td>\n",
       "      <td>0.045762</td>\n",
       "      <td>0.021563</td>\n",
       "      <td>0.020452</td>\n",
       "      <td>0.020954</td>\n",
       "      <td>-0.002109</td>\n",
       "      <td>0.015667</td>\n",
       "      <td>0.014917</td>\n",
       "    </tr>\n",
       "    <tr>\n",
       "      <th>CSEMUS.SW</th>\n",
       "      <td>0.019922</td>\n",
       "      <td>0.019906</td>\n",
       "      <td>0.017869</td>\n",
       "      <td>0.021563</td>\n",
       "      <td>0.026691</td>\n",
       "      <td>0.024595</td>\n",
       "      <td>0.021656</td>\n",
       "      <td>0.004740</td>\n",
       "      <td>0.018521</td>\n",
       "      <td>0.011320</td>\n",
       "    </tr>\n",
       "    <tr>\n",
       "      <th>CECD.LN</th>\n",
       "      <td>0.023248</td>\n",
       "      <td>0.022717</td>\n",
       "      <td>0.022040</td>\n",
       "      <td>0.020452</td>\n",
       "      <td>0.024595</td>\n",
       "      <td>0.048540</td>\n",
       "      <td>0.029054</td>\n",
       "      <td>0.016536</td>\n",
       "      <td>0.017869</td>\n",
       "      <td>0.011580</td>\n",
       "    </tr>\n",
       "    <tr>\n",
       "      <th>CEMA.L</th>\n",
       "      <td>0.023228</td>\n",
       "      <td>0.020052</td>\n",
       "      <td>0.020881</td>\n",
       "      <td>0.020954</td>\n",
       "      <td>0.021656</td>\n",
       "      <td>0.029054</td>\n",
       "      <td>0.037255</td>\n",
       "      <td>0.009932</td>\n",
       "      <td>0.015874</td>\n",
       "      <td>0.011801</td>\n",
       "    </tr>\n",
       "    <tr>\n",
       "      <th>PAF.L</th>\n",
       "      <td>0.002724</td>\n",
       "      <td>0.009339</td>\n",
       "      <td>0.004364</td>\n",
       "      <td>-0.002109</td>\n",
       "      <td>0.004740</td>\n",
       "      <td>0.016536</td>\n",
       "      <td>0.009932</td>\n",
       "      <td>0.327307</td>\n",
       "      <td>0.008758</td>\n",
       "      <td>0.000626</td>\n",
       "    </tr>\n",
       "    <tr>\n",
       "      <th>Real Estate</th>\n",
       "      <th>IPRP.AS</th>\n",
       "      <td>0.015562</td>\n",
       "      <td>0.015426</td>\n",
       "      <td>0.013697</td>\n",
       "      <td>0.015667</td>\n",
       "      <td>0.018521</td>\n",
       "      <td>0.017869</td>\n",
       "      <td>0.015874</td>\n",
       "      <td>0.008758</td>\n",
       "      <td>0.028308</td>\n",
       "      <td>0.009390</td>\n",
       "    </tr>\n",
       "    <tr>\n",
       "      <th>Commodities</th>\n",
       "      <th>CRB.PA</th>\n",
       "      <td>0.011793</td>\n",
       "      <td>0.009763</td>\n",
       "      <td>0.008499</td>\n",
       "      <td>0.014917</td>\n",
       "      <td>0.011320</td>\n",
       "      <td>0.011580</td>\n",
       "      <td>0.011801</td>\n",
       "      <td>0.000626</td>\n",
       "      <td>0.009390</td>\n",
       "      <td>0.028625</td>\n",
       "    </tr>\n",
       "  </tbody>\n",
       "</table>\n",
       "</div>"
      ],
      "text/plain": [
       "                         Equity                                          \\\n",
       "                         CSPX.L    MEUD.L    CJPU.L    ISP6.L CSEMUS.SW   \n",
       "Equity      CSPX.L     0.026103  0.018657  0.019261  0.024903  0.019922   \n",
       "            MEUD.L     0.018657  0.030630  0.016794  0.024230  0.019906   \n",
       "            CJPU.L     0.019261  0.016794  0.024455  0.018841  0.017869   \n",
       "            ISP6.L     0.024903  0.024230  0.018841  0.045762  0.021563   \n",
       "            CSEMUS.SW  0.019922  0.019906  0.017869  0.021563  0.026691   \n",
       "            CECD.LN    0.023248  0.022717  0.022040  0.020452  0.024595   \n",
       "            CEMA.L     0.023228  0.020052  0.020881  0.020954  0.021656   \n",
       "            PAF.L      0.002724  0.009339  0.004364 -0.002109  0.004740   \n",
       "Real Estate IPRP.AS    0.015562  0.015426  0.013697  0.015667  0.018521   \n",
       "Commodities CRB.PA     0.011793  0.009763  0.008499  0.014917  0.011320   \n",
       "\n",
       "                                                    Real Estate Commodities  \n",
       "                        CECD.LN    CEMA.L     PAF.L     IPRP.AS      CRB.PA  \n",
       "Equity      CSPX.L     0.023248  0.023228  0.002724    0.015562    0.011793  \n",
       "            MEUD.L     0.022717  0.020052  0.009339    0.015426    0.009763  \n",
       "            CJPU.L     0.022040  0.020881  0.004364    0.013697    0.008499  \n",
       "            ISP6.L     0.020452  0.020954 -0.002109    0.015667    0.014917  \n",
       "            CSEMUS.SW  0.024595  0.021656  0.004740    0.018521    0.011320  \n",
       "            CECD.LN    0.048540  0.029054  0.016536    0.017869    0.011580  \n",
       "            CEMA.L     0.029054  0.037255  0.009932    0.015874    0.011801  \n",
       "            PAF.L      0.016536  0.009932  0.327307    0.008758    0.000626  \n",
       "Real Estate IPRP.AS    0.017869  0.015874  0.008758    0.028308    0.009390  \n",
       "Commodities CRB.PA     0.011580  0.011801  0.000626    0.009390    0.028625  "
      ]
     },
     "execution_count": 11,
     "metadata": {},
     "output_type": "execute_result"
    }
   ],
   "source": [
    "cov_matrix_pa"
   ]
  },
  {
   "cell_type": "code",
   "execution_count": 12,
   "id": "262d9feb",
   "metadata": {},
   "outputs": [
    {
     "data": {
      "text/html": [
       "<div>\n",
       "<style scoped>\n",
       "    .dataframe tbody tr th:only-of-type {\n",
       "        vertical-align: middle;\n",
       "    }\n",
       "\n",
       "    .dataframe tbody tr th {\n",
       "        vertical-align: top;\n",
       "    }\n",
       "\n",
       "    .dataframe thead tr th {\n",
       "        text-align: left;\n",
       "    }\n",
       "</style>\n",
       "<table border=\"1\" class=\"dataframe\">\n",
       "  <thead>\n",
       "    <tr>\n",
       "      <th></th>\n",
       "      <th></th>\n",
       "      <th colspan=\"8\" halign=\"left\">Equity</th>\n",
       "      <th>Real Estate</th>\n",
       "      <th>Commodities</th>\n",
       "    </tr>\n",
       "    <tr>\n",
       "      <th></th>\n",
       "      <th></th>\n",
       "      <th>CSPX.L</th>\n",
       "      <th>MEUD.L</th>\n",
       "      <th>CJPU.L</th>\n",
       "      <th>ISP6.L</th>\n",
       "      <th>CSEMUS.SW</th>\n",
       "      <th>CECD.LN</th>\n",
       "      <th>CEMA.L</th>\n",
       "      <th>PAF.L</th>\n",
       "      <th>IPRP.AS</th>\n",
       "      <th>CRB.PA</th>\n",
       "    </tr>\n",
       "  </thead>\n",
       "  <tbody>\n",
       "    <tr>\n",
       "      <th rowspan=\"8\" valign=\"top\">Equity</th>\n",
       "      <th>CSPX.L</th>\n",
       "      <td>0.000104</td>\n",
       "      <td>0.000075</td>\n",
       "      <td>0.000077</td>\n",
       "      <td>0.000100</td>\n",
       "      <td>0.000080</td>\n",
       "      <td>0.000093</td>\n",
       "      <td>0.000093</td>\n",
       "      <td>0.000011</td>\n",
       "      <td>0.000062</td>\n",
       "      <td>0.000047</td>\n",
       "    </tr>\n",
       "    <tr>\n",
       "      <th>MEUD.L</th>\n",
       "      <td>0.000075</td>\n",
       "      <td>0.000123</td>\n",
       "      <td>0.000067</td>\n",
       "      <td>0.000097</td>\n",
       "      <td>0.000080</td>\n",
       "      <td>0.000091</td>\n",
       "      <td>0.000080</td>\n",
       "      <td>0.000037</td>\n",
       "      <td>0.000062</td>\n",
       "      <td>0.000039</td>\n",
       "    </tr>\n",
       "    <tr>\n",
       "      <th>CJPU.L</th>\n",
       "      <td>0.000077</td>\n",
       "      <td>0.000067</td>\n",
       "      <td>0.000098</td>\n",
       "      <td>0.000075</td>\n",
       "      <td>0.000071</td>\n",
       "      <td>0.000088</td>\n",
       "      <td>0.000084</td>\n",
       "      <td>0.000017</td>\n",
       "      <td>0.000055</td>\n",
       "      <td>0.000034</td>\n",
       "    </tr>\n",
       "    <tr>\n",
       "      <th>ISP6.L</th>\n",
       "      <td>0.000100</td>\n",
       "      <td>0.000097</td>\n",
       "      <td>0.000075</td>\n",
       "      <td>0.000183</td>\n",
       "      <td>0.000086</td>\n",
       "      <td>0.000082</td>\n",
       "      <td>0.000084</td>\n",
       "      <td>-0.000008</td>\n",
       "      <td>0.000063</td>\n",
       "      <td>0.000060</td>\n",
       "    </tr>\n",
       "    <tr>\n",
       "      <th>CSEMUS.SW</th>\n",
       "      <td>0.000080</td>\n",
       "      <td>0.000080</td>\n",
       "      <td>0.000071</td>\n",
       "      <td>0.000086</td>\n",
       "      <td>0.000107</td>\n",
       "      <td>0.000098</td>\n",
       "      <td>0.000087</td>\n",
       "      <td>0.000019</td>\n",
       "      <td>0.000074</td>\n",
       "      <td>0.000045</td>\n",
       "    </tr>\n",
       "    <tr>\n",
       "      <th>CECD.LN</th>\n",
       "      <td>0.000093</td>\n",
       "      <td>0.000091</td>\n",
       "      <td>0.000088</td>\n",
       "      <td>0.000082</td>\n",
       "      <td>0.000098</td>\n",
       "      <td>0.000194</td>\n",
       "      <td>0.000116</td>\n",
       "      <td>0.000066</td>\n",
       "      <td>0.000071</td>\n",
       "      <td>0.000046</td>\n",
       "    </tr>\n",
       "    <tr>\n",
       "      <th>CEMA.L</th>\n",
       "      <td>0.000093</td>\n",
       "      <td>0.000080</td>\n",
       "      <td>0.000084</td>\n",
       "      <td>0.000084</td>\n",
       "      <td>0.000087</td>\n",
       "      <td>0.000116</td>\n",
       "      <td>0.000149</td>\n",
       "      <td>0.000040</td>\n",
       "      <td>0.000063</td>\n",
       "      <td>0.000047</td>\n",
       "    </tr>\n",
       "    <tr>\n",
       "      <th>PAF.L</th>\n",
       "      <td>0.000011</td>\n",
       "      <td>0.000037</td>\n",
       "      <td>0.000017</td>\n",
       "      <td>-0.000008</td>\n",
       "      <td>0.000019</td>\n",
       "      <td>0.000066</td>\n",
       "      <td>0.000040</td>\n",
       "      <td>0.001309</td>\n",
       "      <td>0.000035</td>\n",
       "      <td>0.000003</td>\n",
       "    </tr>\n",
       "    <tr>\n",
       "      <th>Real Estate</th>\n",
       "      <th>IPRP.AS</th>\n",
       "      <td>0.000062</td>\n",
       "      <td>0.000062</td>\n",
       "      <td>0.000055</td>\n",
       "      <td>0.000063</td>\n",
       "      <td>0.000074</td>\n",
       "      <td>0.000071</td>\n",
       "      <td>0.000063</td>\n",
       "      <td>0.000035</td>\n",
       "      <td>0.000113</td>\n",
       "      <td>0.000038</td>\n",
       "    </tr>\n",
       "    <tr>\n",
       "      <th>Commodities</th>\n",
       "      <th>CRB.PA</th>\n",
       "      <td>0.000047</td>\n",
       "      <td>0.000039</td>\n",
       "      <td>0.000034</td>\n",
       "      <td>0.000060</td>\n",
       "      <td>0.000045</td>\n",
       "      <td>0.000046</td>\n",
       "      <td>0.000047</td>\n",
       "      <td>0.000003</td>\n",
       "      <td>0.000038</td>\n",
       "      <td>0.000115</td>\n",
       "    </tr>\n",
       "  </tbody>\n",
       "</table>\n",
       "</div>"
      ],
      "text/plain": [
       "                         Equity                                          \\\n",
       "                         CSPX.L    MEUD.L    CJPU.L    ISP6.L CSEMUS.SW   \n",
       "Equity      CSPX.L     0.000104  0.000075  0.000077  0.000100  0.000080   \n",
       "            MEUD.L     0.000075  0.000123  0.000067  0.000097  0.000080   \n",
       "            CJPU.L     0.000077  0.000067  0.000098  0.000075  0.000071   \n",
       "            ISP6.L     0.000100  0.000097  0.000075  0.000183  0.000086   \n",
       "            CSEMUS.SW  0.000080  0.000080  0.000071  0.000086  0.000107   \n",
       "            CECD.LN    0.000093  0.000091  0.000088  0.000082  0.000098   \n",
       "            CEMA.L     0.000093  0.000080  0.000084  0.000084  0.000087   \n",
       "            PAF.L      0.000011  0.000037  0.000017 -0.000008  0.000019   \n",
       "Real Estate IPRP.AS    0.000062  0.000062  0.000055  0.000063  0.000074   \n",
       "Commodities CRB.PA     0.000047  0.000039  0.000034  0.000060  0.000045   \n",
       "\n",
       "                                                    Real Estate Commodities  \n",
       "                        CECD.LN    CEMA.L     PAF.L     IPRP.AS      CRB.PA  \n",
       "Equity      CSPX.L     0.000093  0.000093  0.000011    0.000062    0.000047  \n",
       "            MEUD.L     0.000091  0.000080  0.000037    0.000062    0.000039  \n",
       "            CJPU.L     0.000088  0.000084  0.000017    0.000055    0.000034  \n",
       "            ISP6.L     0.000082  0.000084 -0.000008    0.000063    0.000060  \n",
       "            CSEMUS.SW  0.000098  0.000087  0.000019    0.000074    0.000045  \n",
       "            CECD.LN    0.000194  0.000116  0.000066    0.000071    0.000046  \n",
       "            CEMA.L     0.000116  0.000149  0.000040    0.000063    0.000047  \n",
       "            PAF.L      0.000066  0.000040  0.001309    0.000035    0.000003  \n",
       "Real Estate IPRP.AS    0.000071  0.000063  0.000035    0.000113    0.000038  \n",
       "Commodities CRB.PA     0.000046  0.000047  0.000003    0.000038    0.000115  "
      ]
     },
     "execution_count": 12,
     "metadata": {},
     "output_type": "execute_result"
    }
   ],
   "source": [
    "cov_matrix"
   ]
  },
  {
   "cell_type": "code",
   "execution_count": 13,
   "id": "a2e27e2b",
   "metadata": {},
   "outputs": [
    {
     "data": {
      "text/html": [
       "<div>\n",
       "<style scoped>\n",
       "    .dataframe tbody tr th:only-of-type {\n",
       "        vertical-align: middle;\n",
       "    }\n",
       "\n",
       "    .dataframe tbody tr th {\n",
       "        vertical-align: top;\n",
       "    }\n",
       "\n",
       "    .dataframe thead th {\n",
       "        text-align: right;\n",
       "    }\n",
       "</style>\n",
       "<table border=\"1\" class=\"dataframe\">\n",
       "  <thead>\n",
       "    <tr style=\"text-align: right;\">\n",
       "      <th></th>\n",
       "      <th></th>\n",
       "      <th>return_pd</th>\n",
       "      <th>risk_pd</th>\n",
       "      <th>excess_return_pa</th>\n",
       "      <th>var_pa</th>\n",
       "      <th>std_pa</th>\n",
       "    </tr>\n",
       "  </thead>\n",
       "  <tbody>\n",
       "    <tr>\n",
       "      <th rowspan=\"8\" valign=\"top\">Equity</th>\n",
       "      <th>CSPX.L</th>\n",
       "      <td>0.000686</td>\n",
       "      <td>0.000104</td>\n",
       "      <td>0.160378</td>\n",
       "      <td>0.026103</td>\n",
       "      <td>0.161563</td>\n",
       "    </tr>\n",
       "    <tr>\n",
       "      <th>MEUD.L</th>\n",
       "      <td>0.000446</td>\n",
       "      <td>0.000123</td>\n",
       "      <td>0.100428</td>\n",
       "      <td>0.030630</td>\n",
       "      <td>0.175014</td>\n",
       "    </tr>\n",
       "    <tr>\n",
       "      <th>CJPU.L</th>\n",
       "      <td>0.000412</td>\n",
       "      <td>0.000098</td>\n",
       "      <td>0.091922</td>\n",
       "      <td>0.024455</td>\n",
       "      <td>0.156380</td>\n",
       "    </tr>\n",
       "    <tr>\n",
       "      <th>ISP6.L</th>\n",
       "      <td>0.000596</td>\n",
       "      <td>0.000183</td>\n",
       "      <td>0.137893</td>\n",
       "      <td>0.045762</td>\n",
       "      <td>0.213920</td>\n",
       "    </tr>\n",
       "    <tr>\n",
       "      <th>CSEMUS.SW</th>\n",
       "      <td>0.000530</td>\n",
       "      <td>0.000107</td>\n",
       "      <td>0.121387</td>\n",
       "      <td>0.026691</td>\n",
       "      <td>0.163375</td>\n",
       "    </tr>\n",
       "    <tr>\n",
       "      <th>CECD.LN</th>\n",
       "      <td>0.000377</td>\n",
       "      <td>0.000194</td>\n",
       "      <td>0.083227</td>\n",
       "      <td>0.048540</td>\n",
       "      <td>0.220318</td>\n",
       "    </tr>\n",
       "    <tr>\n",
       "      <th>CEMA.L</th>\n",
       "      <td>0.000616</td>\n",
       "      <td>0.000149</td>\n",
       "      <td>0.142924</td>\n",
       "      <td>0.037255</td>\n",
       "      <td>0.193017</td>\n",
       "    </tr>\n",
       "    <tr>\n",
       "      <th>PAF.L</th>\n",
       "      <td>0.000558</td>\n",
       "      <td>0.001309</td>\n",
       "      <td>0.128457</td>\n",
       "      <td>0.327307</td>\n",
       "      <td>0.572107</td>\n",
       "    </tr>\n",
       "    <tr>\n",
       "      <th>Real Estate</th>\n",
       "      <th>IPRP.AS</th>\n",
       "      <td>0.000144</td>\n",
       "      <td>0.000113</td>\n",
       "      <td>0.024935</td>\n",
       "      <td>0.028308</td>\n",
       "      <td>0.168249</td>\n",
       "    </tr>\n",
       "    <tr>\n",
       "      <th>Commodities</th>\n",
       "      <th>CRB.PA</th>\n",
       "      <td>0.000095</td>\n",
       "      <td>0.000115</td>\n",
       "      <td>0.012781</td>\n",
       "      <td>0.028625</td>\n",
       "      <td>0.169189</td>\n",
       "    </tr>\n",
       "  </tbody>\n",
       "</table>\n",
       "</div>"
      ],
      "text/plain": [
       "                       return_pd   risk_pd  excess_return_pa    var_pa  \\\n",
       "Equity      CSPX.L      0.000686  0.000104          0.160378  0.026103   \n",
       "            MEUD.L      0.000446  0.000123          0.100428  0.030630   \n",
       "            CJPU.L      0.000412  0.000098          0.091922  0.024455   \n",
       "            ISP6.L      0.000596  0.000183          0.137893  0.045762   \n",
       "            CSEMUS.SW   0.000530  0.000107          0.121387  0.026691   \n",
       "            CECD.LN     0.000377  0.000194          0.083227  0.048540   \n",
       "            CEMA.L      0.000616  0.000149          0.142924  0.037255   \n",
       "            PAF.L       0.000558  0.001309          0.128457  0.327307   \n",
       "Real Estate IPRP.AS     0.000144  0.000113          0.024935  0.028308   \n",
       "Commodities CRB.PA      0.000095  0.000115          0.012781  0.028625   \n",
       "\n",
       "                         std_pa  \n",
       "Equity      CSPX.L     0.161563  \n",
       "            MEUD.L     0.175014  \n",
       "            CJPU.L     0.156380  \n",
       "            ISP6.L     0.213920  \n",
       "            CSEMUS.SW  0.163375  \n",
       "            CECD.LN    0.220318  \n",
       "            CEMA.L     0.193017  \n",
       "            PAF.L      0.572107  \n",
       "Real Estate IPRP.AS    0.168249  \n",
       "Commodities CRB.PA     0.169189  "
      ]
     },
     "execution_count": 13,
     "metadata": {},
     "output_type": "execute_result"
    }
   ],
   "source": [
    "pf_stats[\"std_pa\"] = pf_stats[\"var_pa\"]**(1/2)\n",
    "pf_stats"
   ]
  },
  {
   "cell_type": "code",
   "execution_count": 14,
   "id": "6408c769",
   "metadata": {},
   "outputs": [
    {
     "data": {
      "text/plain": [
       "Equity       CSPX.L       0.992662\n",
       "             MEUD.L       0.573831\n",
       "             CJPU.L       0.587810\n",
       "             ISP6.L       0.644600\n",
       "             CSEMUS.SW    0.742997\n",
       "             CECD.LN      0.377757\n",
       "             CEMA.L       0.740472\n",
       "             PAF.L        0.224533\n",
       "Real Estate  IPRP.AS      0.148205\n",
       "Commodities  CRB.PA       0.075543\n",
       "dtype: float64"
      ]
     },
     "execution_count": 14,
     "metadata": {},
     "output_type": "execute_result"
    }
   ],
   "source": [
    "pf_stats[\"excess_return_pa\"]/pf_stats[\"var_pa\"]**(1/2) #Sharpe ratios"
   ]
  },
  {
   "cell_type": "code",
   "execution_count": 15,
   "id": "b752c0b5",
   "metadata": {},
   "outputs": [
    {
     "data": {
      "text/plain": [
       "array([0.1, 0.1, 0.1, 0.1, 0.1, 0.1, 0.1, 0.1, 0.1, 0.1])"
      ]
     },
     "execution_count": 15,
     "metadata": {},
     "output_type": "execute_result"
    }
   ],
   "source": [
    "# weights = np.random.rand(len(pf_stats))\n",
    "# weights = weights / weights.sum()\n",
    "weights = np.full(len(pf_stats),1/len(pf_stats))\n",
    "weights"
   ]
  },
  {
   "cell_type": "code",
   "execution_count": 16,
   "id": "57993285",
   "metadata": {},
   "outputs": [
    {
     "data": {
      "text/plain": [
       "1.0"
      ]
     },
     "execution_count": 16,
     "metadata": {},
     "output_type": "execute_result"
    }
   ],
   "source": [
    "np.round(weights.sum(), decimals=3)"
   ]
  },
  {
   "cell_type": "code",
   "execution_count": 17,
   "id": "d0dc8a4b",
   "metadata": {},
   "outputs": [],
   "source": [
    "pf_excess_return = np.matmul(weights, pf_stats[\"excess_return_pa\"])"
   ]
  },
  {
   "cell_type": "code",
   "execution_count": 18,
   "id": "312e18a6",
   "metadata": {},
   "outputs": [
    {
     "data": {
      "text/plain": [
       "0.10043321121095641"
      ]
     },
     "execution_count": 18,
     "metadata": {},
     "output_type": "execute_result"
    }
   ],
   "source": [
    "test_df = pd.DataFrame([pf_stats[\"excess_return_pa\"].values, weights])\n",
    "test_df = test_df.transpose()\n",
    "test_df[2] = test_df[0] * test_df[1]\n",
    "test_df[2].sum()"
   ]
  },
  {
   "cell_type": "code",
   "execution_count": 19,
   "id": "d2d3f413",
   "metadata": {},
   "outputs": [
    {
     "data": {
      "text/plain": [
       "0.10043321121095641"
      ]
     },
     "execution_count": 19,
     "metadata": {},
     "output_type": "execute_result"
    }
   ],
   "source": [
    "np.dot(weights,pf_stats[\"excess_return_pa\"])"
   ]
  },
  {
   "cell_type": "code",
   "execution_count": 20,
   "id": "f2acec40",
   "metadata": {},
   "outputs": [
    {
     "data": {
      "text/plain": [
       "0.10043321121095641"
      ]
     },
     "execution_count": 20,
     "metadata": {},
     "output_type": "execute_result"
    }
   ],
   "source": [
    "pf_excess_return"
   ]
  },
  {
   "cell_type": "code",
   "execution_count": 21,
   "id": "73777fee",
   "metadata": {},
   "outputs": [],
   "source": [
    "pf_var = cov_matrix_pa.mul(weights, axis=0).mul(weights, axis=1).sum().sum()"
   ]
  },
  {
   "cell_type": "code",
   "execution_count": 22,
   "id": "fd4e4885",
   "metadata": {},
   "outputs": [
    {
     "data": {
      "text/plain": [
       "0.1427760086978113"
      ]
     },
     "execution_count": 22,
     "metadata": {},
     "output_type": "execute_result"
    }
   ],
   "source": [
    "pf_std = pf_var**(1/2)\n",
    "pf_std"
   ]
  },
  {
   "cell_type": "code",
   "execution_count": 23,
   "id": "08febbb6",
   "metadata": {},
   "outputs": [],
   "source": [
    "pf_sharpe = pf_excess_return / pf_std"
   ]
  },
  {
   "cell_type": "code",
   "execution_count": 24,
   "id": "071acb7e",
   "metadata": {},
   "outputs": [
    {
     "data": {
      "text/plain": [
       "0.7034319850159533"
      ]
     },
     "execution_count": 24,
     "metadata": {},
     "output_type": "execute_result"
    }
   ],
   "source": [
    "pf_sharpe"
   ]
  },
  {
   "cell_type": "code",
   "execution_count": 25,
   "id": "2b57f76a",
   "metadata": {},
   "outputs": [],
   "source": [
    "return_list = []\n",
    "risk_list = []\n",
    "sharpe_list = []\n",
    "weights_list = []\n",
    "for n in range(1000):\n",
    "    weights = np.random.randint(0,100,len(pf_stats))\n",
    "    weights = weights / weights.sum()\n",
    "    pf_excess_return = np.dot(weights, pf_stats[\"excess_return_pa\"])\n",
    "    return_list.append(pf_excess_return)\n",
    "    pf_var = cov_matrix.mul(weights, axis=0).mul(weights, axis=1).sum().sum()\n",
    "    sd = pf_var**(1/2)\n",
    "    risk_list.append(sd*trade_days**(1/2))\n",
    "    pf_sharpe = pf_excess_return / (sd*trade_days**(1/2))\n",
    "    sharpe_list.append(pf_sharpe)\n",
    "    weights_list.append(weights)\n",
    "    \n",
    "\n",
    "data = {\"return\":return_list,\"risk\":risk_list,\"sharpe\":sharpe_list}"
   ]
  },
  {
   "cell_type": "code",
   "execution_count": 26,
   "id": "b0e3bb74",
   "metadata": {},
   "outputs": [],
   "source": [
    "weights_array = np.array(weights_list)"
   ]
  },
  {
   "cell_type": "code",
   "execution_count": 27,
   "id": "35550e30",
   "metadata": {},
   "outputs": [],
   "source": [
    "w_pd = pd.DataFrame(weights_array, columns=pd.MultiIndex.from_tuples(pf_components))"
   ]
  },
  {
   "cell_type": "code",
   "execution_count": 28,
   "id": "41123c25",
   "metadata": {},
   "outputs": [
    {
     "name": "stderr",
     "output_type": "stream",
     "text": [
      "<ipython-input-28-e643f6e62ad0>:2: FutureWarning: merging between different levels is deprecated and will be removed in a future version. (1 levels on the left,2 on the right)\n",
      "  pf_output = pd.merge(pf_data,w_pd, how=\"inner\", left_index=True, right_index=True)\n"
     ]
    }
   ],
   "source": [
    "pf_data = pd.DataFrame(data)\n",
    "pf_output = pd.merge(pf_data,w_pd, how=\"inner\", left_index=True, right_index=True)"
   ]
  },
  {
   "cell_type": "code",
   "execution_count": 29,
   "id": "9bab6a15",
   "metadata": {},
   "outputs": [
    {
     "data": {
      "text/plain": [
       "<AxesSubplot:xlabel='risk', ylabel='return'>"
      ]
     },
     "execution_count": 29,
     "metadata": {},
     "output_type": "execute_result"
    },
    {
     "data": {
      "image/png": "[encoded data removed]",
      "text/plain": [
       "<Figure size 720x720 with 1 Axes>"
      ]
     },
     "metadata": {
      "needs_background": "light"
     },
     "output_type": "display_data"
    }
   ],
   "source": [
    "pf_output.plot.scatter(\"risk\",\"return\", marker='o', s=10, alpha=0.3, grid=True, figsize=[10,10])"
   ]
  },
  {
   "cell_type": "code",
   "execution_count": 30,
   "id": "e69d7703",
   "metadata": {},
   "outputs": [],
   "source": [
    "pf_max = pf_output.iloc[pf_output[\"sharpe\"].argmax()]"
   ]
  },
  {
   "cell_type": "code",
   "execution_count": 31,
   "id": "dc5fa396",
   "metadata": {},
   "outputs": [
    {
     "data": {
      "text/plain": [
       "return                    0.120771\n",
       "risk                      0.141988\n",
       "sharpe                    0.850575\n",
       "(Equity, CSPX.L)          0.271523\n",
       "(Equity, MEUD.L)          0.072848\n",
       "(Equity, CJPU.L)          0.218543\n",
       "(Equity, ISP6.L)          0.003311\n",
       "(Equity, CSEMUS.SW)       0.132450\n",
       "(Equity, CECD.LN)         0.006623\n",
       "(Equity, CEMA.L)          0.149007\n",
       "(Equity, PAF.L)           0.082781\n",
       "(Real Estate, IPRP.AS)    0.000000\n",
       "(Commodities, CRB.PA)     0.062914\n",
       "Name: 818, dtype: float64"
      ]
     },
     "execution_count": 31,
     "metadata": {},
     "output_type": "execute_result"
    }
   ],
   "source": [
    "pf_max"
   ]
  },
  {
   "cell_type": "code",
   "execution_count": 32,
   "id": "82469f16",
   "metadata": {},
   "outputs": [
    {
     "data": {
      "text/plain": [
       "1.0"
      ]
     },
     "execution_count": 32,
     "metadata": {},
     "output_type": "execute_result"
    }
   ],
   "source": [
    "pf_max.drop([\"return\",\"risk\",\"sharpe\"]).sum()"
   ]
  },
  {
   "cell_type": "code",
   "execution_count": 33,
   "id": "4757d87e",
   "metadata": {},
   "outputs": [
    {
     "data": {
      "text/plain": [
       "<AxesSubplot:>"
      ]
     },
     "execution_count": 33,
     "metadata": {},
     "output_type": "execute_result"
    },
    {
     "data": {
      "image/png": "[encoded data removed]",
      "text/plain": [
       "<Figure size 432x288 with 1 Axes>"
      ]
     },
     "metadata": {
      "needs_background": "light"
     },
     "output_type": "display_data"
    }
   ],
   "source": [
    "pf_output[\"sharpe\"].plot()"
   ]
  },
  {
   "cell_type": "code",
   "execution_count": 34,
   "id": "8dbddc79",
   "metadata": {},
   "outputs": [
    {
     "data": {
      "text/plain": [
       "<AxesSubplot:>"
      ]
     },
     "execution_count": 34,
     "metadata": {},
     "output_type": "execute_result"
    },
    {
     "data": {
      "image/png": "[encoded data removed]",
      "text/plain": [
       "<Figure size 432x288 with 1 Axes>"
      ]
     },
     "metadata": {
      "needs_background": "light"
     },
     "output_type": "display_data"
    }
   ],
   "source": [
    "pf_output[\"risk\"].plot()"
   ]
  },
  {
   "cell_type": "code",
   "execution_count": 35,
   "id": "81e06aab",
   "metadata": {},
   "outputs": [
    {
     "data": {
      "text/html": [
       "<div>\n",
       "<style scoped>\n",
       "    .dataframe tbody tr th:only-of-type {\n",
       "        vertical-align: middle;\n",
       "    }\n",
       "\n",
       "    .dataframe tbody tr th {\n",
       "        vertical-align: top;\n",
       "    }\n",
       "\n",
       "    .dataframe thead th {\n",
       "        text-align: right;\n",
       "    }\n",
       "</style>\n",
       "<table border=\"1\" class=\"dataframe\">\n",
       "  <thead>\n",
       "    <tr style=\"text-align: right;\">\n",
       "      <th></th>\n",
       "      <th>return</th>\n",
       "      <th>risk</th>\n",
       "      <th>sharpe</th>\n",
       "      <th>(Equity, CSPX.L)</th>\n",
       "      <th>(Equity, MEUD.L)</th>\n",
       "      <th>(Equity, CJPU.L)</th>\n",
       "      <th>(Equity, ISP6.L)</th>\n",
       "      <th>(Equity, CSEMUS.SW)</th>\n",
       "      <th>(Equity, CECD.LN)</th>\n",
       "      <th>(Equity, CEMA.L)</th>\n",
       "      <th>(Equity, PAF.L)</th>\n",
       "      <th>(Real Estate, IPRP.AS)</th>\n",
       "      <th>(Commodities, CRB.PA)</th>\n",
       "    </tr>\n",
       "  </thead>\n",
       "  <tbody>\n",
       "    <tr>\n",
       "      <th>818</th>\n",
       "      <td>0.120771</td>\n",
       "      <td>0.141988</td>\n",
       "      <td>0.850575</td>\n",
       "      <td>0.271523</td>\n",
       "      <td>0.072848</td>\n",
       "      <td>0.218543</td>\n",
       "      <td>0.003311</td>\n",
       "      <td>0.132450</td>\n",
       "      <td>0.006623</td>\n",
       "      <td>0.149007</td>\n",
       "      <td>0.082781</td>\n",
       "      <td>0.000000</td>\n",
       "      <td>0.062914</td>\n",
       "    </tr>\n",
       "    <tr>\n",
       "      <th>98</th>\n",
       "      <td>0.126093</td>\n",
       "      <td>0.150562</td>\n",
       "      <td>0.837479</td>\n",
       "      <td>0.159794</td>\n",
       "      <td>0.175258</td>\n",
       "      <td>0.012887</td>\n",
       "      <td>0.208763</td>\n",
       "      <td>0.097938</td>\n",
       "      <td>0.023196</td>\n",
       "      <td>0.211340</td>\n",
       "      <td>0.059278</td>\n",
       "      <td>0.048969</td>\n",
       "      <td>0.002577</td>\n",
       "    </tr>\n",
       "    <tr>\n",
       "      <th>239</th>\n",
       "      <td>0.121675</td>\n",
       "      <td>0.145659</td>\n",
       "      <td>0.835342</td>\n",
       "      <td>0.221719</td>\n",
       "      <td>0.070136</td>\n",
       "      <td>0.031674</td>\n",
       "      <td>0.126697</td>\n",
       "      <td>0.133484</td>\n",
       "      <td>0.022624</td>\n",
       "      <td>0.214932</td>\n",
       "      <td>0.054299</td>\n",
       "      <td>0.108597</td>\n",
       "      <td>0.015837</td>\n",
       "    </tr>\n",
       "    <tr>\n",
       "      <th>320</th>\n",
       "      <td>0.121008</td>\n",
       "      <td>0.147145</td>\n",
       "      <td>0.822370</td>\n",
       "      <td>0.107759</td>\n",
       "      <td>0.148707</td>\n",
       "      <td>0.157328</td>\n",
       "      <td>0.206897</td>\n",
       "      <td>0.183190</td>\n",
       "      <td>0.025862</td>\n",
       "      <td>0.114224</td>\n",
       "      <td>0.036638</td>\n",
       "      <td>0.010776</td>\n",
       "      <td>0.008621</td>\n",
       "    </tr>\n",
       "    <tr>\n",
       "      <th>778</th>\n",
       "      <td>0.121765</td>\n",
       "      <td>0.148108</td>\n",
       "      <td>0.822138</td>\n",
       "      <td>0.185185</td>\n",
       "      <td>0.122685</td>\n",
       "      <td>0.185185</td>\n",
       "      <td>0.199074</td>\n",
       "      <td>0.071759</td>\n",
       "      <td>0.081019</td>\n",
       "      <td>0.101852</td>\n",
       "      <td>0.039352</td>\n",
       "      <td>0.002315</td>\n",
       "      <td>0.011574</td>\n",
       "    </tr>\n",
       "  </tbody>\n",
       "</table>\n",
       "</div>"
      ],
      "text/plain": [
       "       return      risk    sharpe  (Equity, CSPX.L)  (Equity, MEUD.L)  \\\n",
       "818  0.120771  0.141988  0.850575          0.271523          0.072848   \n",
       "98   0.126093  0.150562  0.837479          0.159794          0.175258   \n",
       "239  0.121675  0.145659  0.835342          0.221719          0.070136   \n",
       "320  0.121008  0.147145  0.822370          0.107759          0.148707   \n",
       "778  0.121765  0.148108  0.822138          0.185185          0.122685   \n",
       "\n",
       "     (Equity, CJPU.L)  (Equity, ISP6.L)  (Equity, CSEMUS.SW)  \\\n",
       "818          0.218543          0.003311             0.132450   \n",
       "98           0.012887          0.208763             0.097938   \n",
       "239          0.031674          0.126697             0.133484   \n",
       "320          0.157328          0.206897             0.183190   \n",
       "778          0.185185          0.199074             0.071759   \n",
       "\n",
       "     (Equity, CECD.LN)  (Equity, CEMA.L)  (Equity, PAF.L)  \\\n",
       "818           0.006623          0.149007         0.082781   \n",
       "98            0.023196          0.211340         0.059278   \n",
       "239           0.022624          0.214932         0.054299   \n",
       "320           0.025862          0.114224         0.036638   \n",
       "778           0.081019          0.101852         0.039352   \n",
       "\n",
       "     (Real Estate, IPRP.AS)  (Commodities, CRB.PA)  \n",
       "818                0.000000               0.062914  \n",
       "98                 0.048969               0.002577  \n",
       "239                0.108597               0.015837  \n",
       "320                0.010776               0.008621  \n",
       "778                0.002315               0.011574  "
      ]
     },
     "execution_count": 35,
     "metadata": {},
     "output_type": "execute_result"
    }
   ],
   "source": [
    "pf_output.sort_values(by=\"sharpe\", ascending=False).head()"
   ]
  },
  {
   "cell_type": "code",
   "execution_count": 36,
   "id": "0f846ed2",
   "metadata": {},
   "outputs": [
    {
     "data": {
      "text/plain": [
       "return                    0.071543\n",
       "risk                      0.135296\n",
       "sharpe                    0.528786\n",
       "(Equity, CSPX.L)          0.075397\n",
       "(Equity, MEUD.L)          0.115079\n",
       "(Equity, CJPU.L)          0.079365\n",
       "(Equity, ISP6.L)          0.083333\n",
       "(Equity, CSEMUS.SW)       0.023810\n",
       "(Equity, CECD.LN)         0.027778\n",
       "(Equity, CEMA.L)          0.007937\n",
       "(Equity, PAF.L)           0.111111\n",
       "(Real Estate, IPRP.AS)    0.198413\n",
       "(Commodities, CRB.PA)     0.277778\n",
       "Name: 112, dtype: float64"
      ]
     },
     "execution_count": 36,
     "metadata": {},
     "output_type": "execute_result"
    }
   ],
   "source": [
    "pf_output.iloc[pf_output[\"return\"].argmin()]"
   ]
  },
  {
   "cell_type": "code",
   "execution_count": 37,
   "id": "21e1bcc0",
   "metadata": {},
   "outputs": [],
   "source": [
    "#Solver"
   ]
  },
  {
   "cell_type": "code",
   "execution_count": 38,
   "id": "088f086b",
   "metadata": {},
   "outputs": [],
   "source": [
    "w = [0.1,0.1,0.1,0.1,0.1,0.1,0.1,0.1,0.1,0.1]"
   ]
  },
  {
   "cell_type": "code",
   "execution_count": 39,
   "id": "3f10ac86",
   "metadata": {},
   "outputs": [
    {
     "data": {
      "text/plain": [
       "0.7034319850159533"
      ]
     },
     "execution_count": 39,
     "metadata": {},
     "output_type": "execute_result"
    }
   ],
   "source": [
    "ret = np.dot(w,pf_stats[\"excess_return_pa\"])\n",
    "std = np.sqrt(cov_matrix_pa.mul(w, axis=0).mul(w, axis=1).sum().sum())\n",
    "sharpe = np.dot(w,pf_stats[\"excess_return_pa\"])/np.sqrt(cov_matrix_pa.mul(w, axis=0).mul(w, axis=1).sum().sum())\n",
    "sharpe"
   ]
  },
  {
   "cell_type": "code",
   "execution_count": 44,
   "id": "0519c8e2",
   "metadata": {},
   "outputs": [],
   "source": [
    "#Liner solver => not applicable to pf optimisation\n",
    "#model = pulp.LpProblem(\"Maximize_Sharpe\", sense=pulp.LpMaximize)"
   ]
  },
  {
   "cell_type": "code",
   "execution_count": 41,
   "id": "a274304b",
   "metadata": {},
   "outputs": [],
   "source": [
    "#x = [pulp.LpVariable(name=f\"x{i}\", lowBound=0) for i in range(1, 11)]"
   ]
  },
  {
   "cell_type": "code",
   "execution_count": 43,
   "id": "8e20b4b8",
   "metadata": {},
   "outputs": [],
   "source": [
    "# model += pulp.lpSum(x)==1\n",
    "# model += np.dot(x,pf_stats[\"excess_return_pa\"])/np.sqrt(cov_matrix_pa.mul(x, axis=0).mul(x, axis=1).sum().sum())"
   ]
  },
  {
   "cell_type": "code",
   "execution_count": 47,
   "id": "9310b935",
   "metadata": {},
   "outputs": [
    {
     "data": {
      "text/plain": [
       "\"\\nfrom cvxopt import matrix\\nfrom cvxopt.blas import dot \\nfrom cvxopt.solvers import qp, options \\n\\n# Number of assets\\nn = 4\\n# Convariance matrix\\nS = matrix( [[ 4e-2,  6e-3, -4e-3,   0.0 ], \\n             [ 6e-3,  1e-2,  0.0,    0.0 ],\\n             [-4e-3,  0.0,   2.5e-3, 0.0 ],\\n             [ 0.0,   0.0,   0.0,    0.0 ]] )\\n# Expected return\\npbar = matrix([.12, .10, .07, .03])\\n\\n# nxn matrix of 0s\\nG = matrix(0.0, (n,n))\\n# Convert G to negative identity matrix\\nG[::n+1] = -1.0\\n# nx1 matrix of 0s\\nh = matrix(0.0, (n,1))\\n# 1xn matrix of 1s\\nA = matrix(1.0, (1,n))\\n# scalar of 1.0\\nb = matrix(1.0)\\n\\nN = 100\\nmus = [ 10**(5.0*t/N-1.0) for t in range(N) ]\\noptions['show_progress'] = False\\nxs = [ qp(mu*S, -pbar, G, h, A, b)['x'] for mu in mus ]\\nreturns = [ dot(pbar,x) for x in xs ]\\nrisks = [ np.sqrt(dot(x, S*x)) for x in xs ]\\n\\n#Efficient frontier\\nplt.plot(risks, returns)\""
      ]
     },
     "execution_count": 47,
     "metadata": {},
     "output_type": "execute_result"
    }
   ],
   "source": [
    "'''\n",
    "from cvxopt import matrix\n",
    "from cvxopt.blas import dot \n",
    "from cvxopt.solvers import qp, options \n",
    "\n",
    "# Number of assets\n",
    "n = 4\n",
    "# Convariance matrix\n",
    "S = matrix( [[ 4e-2,  6e-3, -4e-3,   0.0 ], \n",
    "             [ 6e-3,  1e-2,  0.0,    0.0 ],\n",
    "             [-4e-3,  0.0,   2.5e-3, 0.0 ],\n",
    "             [ 0.0,   0.0,   0.0,    0.0 ]] )\n",
    "# Expected return\n",
    "pbar = matrix([.12, .10, .07, .03])\n",
    "\n",
    "# nxn matrix of 0s\n",
    "G = matrix(0.0, (n,n))\n",
    "# Convert G to negative identity matrix\n",
    "G[::n+1] = -1.0\n",
    "# nx1 matrix of 0s\n",
    "h = matrix(0.0, (n,1))\n",
    "# 1xn matrix of 1s\n",
    "A = matrix(1.0, (1,n))\n",
    "# scalar of 1.0\n",
    "b = matrix(1.0)\n",
    "\n",
    "N = 100\n",
    "mus = [ 10**(5.0*t/N-1.0) for t in range(N) ]\n",
    "options['show_progress'] = False\n",
    "xs = [ qp(mu*S, -pbar, G, h, A, b)['x'] for mu in mus ]\n",
    "returns = [ dot(pbar,x) for x in xs ]\n",
    "risks = [ np.sqrt(dot(x, S*x)) for x in xs ]\n",
    "\n",
    "#Efficient frontier\n",
    "plt.plot(risks, returns)'''"
   ]
  },
  {
   "cell_type": "code",
   "execution_count": 54,
   "id": "af4b4937",
   "metadata": {},
   "outputs": [
    {
     "data": {
      "text/plain": [
       "[<matplotlib.lines.Line2D at 0x24a10e57850>]"
      ]
     },
     "execution_count": 54,
     "metadata": {},
     "output_type": "execute_result"
    },
    {
     "data": {
      "image/png": "[encoded data removed]",
      "text/plain": [
       "<Figure size 432x288 with 1 Axes>"
      ]
     },
     "metadata": {
      "needs_background": "light"
     },
     "output_type": "display_data"
    }
   ],
   "source": [
    "from cvxopt import matrix\n",
    "from cvxopt.blas import dot \n",
    "from cvxopt.solvers import qp, options \n",
    "\n",
    "# Number of assets\n",
    "n = 10\n",
    "# Convariance matrix\n",
    "S = matrix(np.array(cov_matrix_pa))\n",
    "# Expected return\n",
    "pbar = matrix(pf_stats[\"excess_return_pa\"].values)\n",
    "\n",
    "# nxn matrix of 0s\n",
    "G = matrix(0.0, (n,n))\n",
    "# Convert G to negative identity matrix\n",
    "G[::n+1] = -1.0\n",
    "# nx1 matrix of 0s\n",
    "h = matrix(0.0, (n,1))\n",
    "# 1xn matrix of 1s\n",
    "A = matrix(1.0, (1,n))\n",
    "# scalar of 1.0\n",
    "b = matrix(1.0)\n",
    "\n",
    "N = 100 # number of runs\n",
    "mus = [ 10**(5.0*t/N-1.0) for t in range(N) ]\n",
    "options['show_progress'] = False\n",
    "xs = [ qp(mu*S, -pbar, G, h, A, b)['x'] for mu in mus ]\n",
    "returns = [ dot(pbar,x) for x in xs ]\n",
    "risks = [ np.sqrt(dot(x, S*x)) for x in xs ]\n",
    "\n",
    "#Efficient frontier\n",
    "plt.plot(risks, returns)"
   ]
  },
  {
   "cell_type": "code",
   "execution_count": 93,
   "id": "6b444d6b",
   "metadata": {},
   "outputs": [],
   "source": [
    "solution = pd.DataFrame([returns,risks])"
   ]
  },
  {
   "cell_type": "code",
   "execution_count": 95,
   "id": "523d2683",
   "metadata": {},
   "outputs": [],
   "source": [
    "solution = solution.transpose()\n",
    "solution.columns = [\"return\", \"risk\"]"
   ]
  },
  {
   "cell_type": "code",
   "execution_count": 96,
   "id": "fe68102c",
   "metadata": {},
   "outputs": [
    {
     "data": {
      "text/html": [
       "<div>\n",
       "<style scoped>\n",
       "    .dataframe tbody tr th:only-of-type {\n",
       "        vertical-align: middle;\n",
       "    }\n",
       "\n",
       "    .dataframe tbody tr th {\n",
       "        vertical-align: top;\n",
       "    }\n",
       "\n",
       "    .dataframe thead th {\n",
       "        text-align: right;\n",
       "    }\n",
       "</style>\n",
       "<table border=\"1\" class=\"dataframe\">\n",
       "  <thead>\n",
       "    <tr style=\"text-align: right;\">\n",
       "      <th></th>\n",
       "      <th>return</th>\n",
       "      <th>risk</th>\n",
       "    </tr>\n",
       "  </thead>\n",
       "  <tbody>\n",
       "    <tr>\n",
       "      <th>0</th>\n",
       "      <td>0.160378</td>\n",
       "      <td>0.161563</td>\n",
       "    </tr>\n",
       "    <tr>\n",
       "      <th>1</th>\n",
       "      <td>0.160378</td>\n",
       "      <td>0.161563</td>\n",
       "    </tr>\n",
       "    <tr>\n",
       "      <th>2</th>\n",
       "      <td>0.160378</td>\n",
       "      <td>0.161563</td>\n",
       "    </tr>\n",
       "    <tr>\n",
       "      <th>3</th>\n",
       "      <td>0.160378</td>\n",
       "      <td>0.161563</td>\n",
       "    </tr>\n",
       "    <tr>\n",
       "      <th>4</th>\n",
       "      <td>0.160378</td>\n",
       "      <td>0.161563</td>\n",
       "    </tr>\n",
       "    <tr>\n",
       "      <th>...</th>\n",
       "      <td>...</td>\n",
       "      <td>...</td>\n",
       "    </tr>\n",
       "    <tr>\n",
       "      <th>95</th>\n",
       "      <td>0.053427</td>\n",
       "      <td>0.123848</td>\n",
       "    </tr>\n",
       "    <tr>\n",
       "      <th>96</th>\n",
       "      <td>0.053407</td>\n",
       "      <td>0.123848</td>\n",
       "    </tr>\n",
       "    <tr>\n",
       "      <th>97</th>\n",
       "      <td>0.053389</td>\n",
       "      <td>0.123848</td>\n",
       "    </tr>\n",
       "    <tr>\n",
       "      <th>98</th>\n",
       "      <td>0.053371</td>\n",
       "      <td>0.123848</td>\n",
       "    </tr>\n",
       "    <tr>\n",
       "      <th>99</th>\n",
       "      <td>0.053355</td>\n",
       "      <td>0.123848</td>\n",
       "    </tr>\n",
       "  </tbody>\n",
       "</table>\n",
       "<p>100 rows × 2 columns</p>\n",
       "</div>"
      ],
      "text/plain": [
       "      return      risk\n",
       "0   0.160378  0.161563\n",
       "1   0.160378  0.161563\n",
       "2   0.160378  0.161563\n",
       "3   0.160378  0.161563\n",
       "4   0.160378  0.161563\n",
       "..       ...       ...\n",
       "95  0.053427  0.123848\n",
       "96  0.053407  0.123848\n",
       "97  0.053389  0.123848\n",
       "98  0.053371  0.123848\n",
       "99  0.053355  0.123848\n",
       "\n",
       "[100 rows x 2 columns]"
      ]
     },
     "execution_count": 96,
     "metadata": {},
     "output_type": "execute_result"
    }
   ],
   "source": [
    "solution"
   ]
  },
  {
   "cell_type": "code",
   "execution_count": 65,
   "id": "f57f40eb",
   "metadata": {},
   "outputs": [],
   "source": [
    "solution_weights_names = [n[1] for n in pf_components]"
   ]
  },
  {
   "cell_type": "code",
   "execution_count": 68,
   "id": "4c5b897d",
   "metadata": {},
   "outputs": [],
   "source": [
    "x_list = []\n",
    "for x in xs:\n",
    "    x_list.append(np.array(x))"
   ]
  },
  {
   "cell_type": "code",
   "execution_count": 79,
   "id": "91e1ef99",
   "metadata": {},
   "outputs": [],
   "source": [
    "w_list = []\n",
    "for x in x_list:\n",
    "    for n in x:\n",
    "        w_list.append(n[0])"
   ]
  },
  {
   "cell_type": "code",
   "execution_count": 84,
   "id": "9d396e8c",
   "metadata": {},
   "outputs": [],
   "source": [
    "w_solution = np.array(w_list)\n",
    "w_solution =w_solution.reshape(100,10)\n",
    "test = pd.DataFrame(w_solution)"
   ]
  },
  {
   "cell_type": "code",
   "execution_count": 86,
   "id": "79721874",
   "metadata": {},
   "outputs": [],
   "source": [
    "test.columns = solution_weights_names"
   ]
  },
  {
   "cell_type": "code",
   "execution_count": 108,
   "id": "867778fe",
   "metadata": {},
   "outputs": [
    {
     "data": {
      "text/plain": [
       "100.0"
      ]
     },
     "execution_count": 108,
     "metadata": {},
     "output_type": "execute_result"
    }
   ],
   "source": [
    "test.sum(axis=1).sum()"
   ]
  },
  {
   "cell_type": "code",
   "execution_count": 98,
   "id": "62f80933",
   "metadata": {},
   "outputs": [],
   "source": [
    "solution = pd.concat([solution,test],axis=1)"
   ]
  },
  {
   "cell_type": "code",
   "execution_count": 100,
   "id": "d82d081f",
   "metadata": {},
   "outputs": [],
   "source": [
    "solution[\"sharpe\"] = solution[\"return\"] / solution[\"risk\"]"
   ]
  },
  {
   "cell_type": "code",
   "execution_count": 101,
   "id": "5040acce",
   "metadata": {},
   "outputs": [],
   "source": [
    "solution = solution.apply(lambda x: np.round(x,2))"
   ]
  },
  {
   "cell_type": "code",
   "execution_count": 106,
   "id": "ebad8027",
   "metadata": {},
   "outputs": [
    {
     "data": {
      "text/plain": [
       "return       0.16\n",
       "risk         0.16\n",
       "CSPX.L       0.97\n",
       "MEUD.L       0.00\n",
       "CJPU.L       0.00\n",
       "ISP6.L       0.00\n",
       "CSEMUS.SW    0.00\n",
       "CECD.LN      0.00\n",
       "CEMA.L       0.00\n",
       "PAF.L        0.03\n",
       "IPRP.AS      0.00\n",
       "CRB.PA       0.00\n",
       "sharpe       1.01\n",
       "Name: 27, dtype: float64"
      ]
     },
     "execution_count": 106,
     "metadata": {},
     "output_type": "execute_result"
    }
   ],
   "source": [
    "solution.iloc[solution[\"sharpe\"].argmax()]"
   ]
  },
  {
   "cell_type": "code",
   "execution_count": 109,
   "id": "300a36c8",
   "metadata": {
    "scrolled": true
   },
   "outputs": [
    {
     "data": {
      "text/plain": [
       "<AxesSubplot:>"
      ]
     },
     "execution_count": 109,
     "metadata": {},
     "output_type": "execute_result"
    },
    {
     "data": {
      "image/png": "[encoded data removed]",
      "text/plain": [
       "<Figure size 432x288 with 1 Axes>"
      ]
     },
     "metadata": {
      "needs_background": "light"
     },
     "output_type": "display_data"
    }
   ],
   "source": [
    "solution[\"sharpe\"].plot()"
   ]
  },
  {
   "cell_type": "code",
   "execution_count": 114,
   "id": "f452db4a",
   "metadata": {},
   "outputs": [
    {
     "data": {
      "text/plain": [
       "<AxesSubplot:xlabel='risk'>"
      ]
     },
     "execution_count": 114,
     "metadata": {},
     "output_type": "execute_result"
    },
    {
     "data": {
      "image/png": "[encoded data removed]",
      "text/plain": [
       "<Figure size 432x288 with 1 Axes>"
      ]
     },
     "metadata": {
      "needs_background": "light"
     },
     "output_type": "display_data"
    }
   ],
   "source": [
    "solution.plot(\"risk\", \"return\")"
   ]
  },
  {
   "cell_type": "code",
   "execution_count": 112,
   "id": "9d96b19c",
   "metadata": {},
   "outputs": [
    {
     "data": {
      "text/plain": [
       "[<matplotlib.lines.Line2D at 0x24a13484610>]"
      ]
     },
     "execution_count": 112,
     "metadata": {},
     "output_type": "execute_result"
    },
    {
     "data": {
      "image/png": "[encoded data removed]",
      "text/plain": [
       "<Figure size 432x288 with 1 Axes>"
      ]
     },
     "metadata": {
      "needs_background": "light"
     },
     "output_type": "display_data"
    }
   ],
   "source": [
    "plt.plot(risks, returns)"
   ]
  },
  {
   "cell_type": "code",
   "execution_count": null,
   "id": "6ac7e48c",
   "metadata": {},
   "outputs": [],
   "source": []
  }
 ],
 "metadata": {
  "kernelspec": {
   "display_name": "Python 3",
   "language": "python",
   "name": "python3"
  },
  "language_info": {
   "codemirror_mode": {
    "name": "ipython",
    "version": 3
   },
   "file_extension": ".py",
   "mimetype": "text/x-python",
   "name": "python",
   "nbconvert_exporter": "python",
   "pygments_lexer": "ipython3",
   "version": "3.9.1"
  }
 },
 "nbformat": 4,
 "nbformat_minor": 5
}
