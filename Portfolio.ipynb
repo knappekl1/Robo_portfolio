{
 "cells": [
  {
   "cell_type": "code",
   "execution_count": 1,
   "metadata": {},
   "outputs": [],
   "source": [
    "import numpy as np\n",
    "import pandas as pd\n",
    "import matplotlib.pyplot as plt\n",
    "import seaborn as sns"
   ]
  },
  {
   "cell_type": "code",
   "execution_count": 2,
   "metadata": {},
   "outputs": [],
   "source": [
    "df = pd.read_csv(\"outputFile.csv\", parse_dates=[0])"
   ]
  },
  {
   "cell_type": "code",
   "execution_count": 3,
   "metadata": {},
   "outputs": [
    {
     "data": {
      "text/plain": [
       "[<matplotlib.lines.Line2D at 0x21103b93df0>]"
      ]
     },
     "execution_count": 3,
     "metadata": {},
     "output_type": "execute_result"
    },
    {
     "data": {
      "image/png": "[encoded data removed]",
      "text/plain": [
       "<Figure size 432x288 with 1 Axes>"
      ]
     },
     "metadata": {
      "needs_background": "light"
     },
     "output_type": "display_data"
    }
   ],
   "source": [
    "plt.plot(df[\"Adj Close\"])"
   ]
  },
  {
   "cell_type": "code",
   "execution_count": 4,
   "metadata": {},
   "outputs": [],
   "source": [
    "#df[\"Close diff\"] = df[\"Close\"] - df[\"Adj Close\"]"
   ]
  },
  {
   "cell_type": "code",
   "execution_count": 5,
   "metadata": {},
   "outputs": [],
   "source": [
    "#plt.plot(df[\"Close diff\"])"
   ]
  },
  {
   "cell_type": "code",
   "execution_count": 6,
   "metadata": {},
   "outputs": [],
   "source": [
    "#df[\"Close diff\"].max()"
   ]
  },
  {
   "cell_type": "code",
   "execution_count": 7,
   "metadata": {},
   "outputs": [
    {
     "data": {
      "text/html": [
       "<div>\n",
       "<style scoped>\n",
       "    .dataframe tbody tr th:only-of-type {\n",
       "        vertical-align: middle;\n",
       "    }\n",
       "\n",
       "    .dataframe tbody tr th {\n",
       "        vertical-align: top;\n",
       "    }\n",
       "\n",
       "    .dataframe thead th {\n",
       "        text-align: right;\n",
       "    }\n",
       "</style>\n",
       "<table border=\"1\" class=\"dataframe\">\n",
       "  <thead>\n",
       "    <tr style=\"text-align: right;\">\n",
       "      <th></th>\n",
       "      <th>Date</th>\n",
       "      <th>Adj Close</th>\n",
       "    </tr>\n",
       "  </thead>\n",
       "  <tbody>\n",
       "    <tr>\n",
       "      <th>0</th>\n",
       "      <td>2016-06-06</td>\n",
       "      <td>1000.000000</td>\n",
       "    </tr>\n",
       "    <tr>\n",
       "      <th>1</th>\n",
       "      <td>2016-06-07</td>\n",
       "      <td>1005.228774</td>\n",
       "    </tr>\n",
       "    <tr>\n",
       "      <th>2</th>\n",
       "      <td>2016-06-08</td>\n",
       "      <td>1010.301492</td>\n",
       "    </tr>\n",
       "    <tr>\n",
       "      <th>3</th>\n",
       "      <td>2016-06-09</td>\n",
       "      <td>1004.027675</td>\n",
       "    </tr>\n",
       "    <tr>\n",
       "      <th>4</th>\n",
       "      <td>2016-06-10</td>\n",
       "      <td>987.790112</td>\n",
       "    </tr>\n",
       "  </tbody>\n",
       "</table>\n",
       "</div>"
      ],
      "text/plain": [
       "        Date    Adj Close\n",
       "0 2016-06-06  1000.000000\n",
       "1 2016-06-07  1005.228774\n",
       "2 2016-06-08  1010.301492\n",
       "3 2016-06-09  1004.027675\n",
       "4 2016-06-10   987.790112"
      ]
     },
     "execution_count": 7,
     "metadata": {},
     "output_type": "execute_result"
    }
   ],
   "source": [
    "df.head()"
   ]
  },
  {
   "cell_type": "code",
   "execution_count": 8,
   "metadata": {},
   "outputs": [],
   "source": [
    "df[\"Close diff\"] = df[\"Adj Close\"].pct_change()"
   ]
  },
  {
   "cell_type": "code",
   "execution_count": 9,
   "metadata": {},
   "outputs": [
    {
     "data": {
      "text/plain": [
       "<AxesSubplot:xlabel='Close diff', ylabel='Density'>"
      ]
     },
     "execution_count": 9,
     "metadata": {},
     "output_type": "execute_result"
    },
    {
     "data": {
      "image/png": "[encoded data removed]",
      "text/plain": [
       "<Figure size 432x288 with 1 Axes>"
      ]
     },
     "metadata": {
      "needs_background": "light"
     },
     "output_type": "display_data"
    }
   ],
   "source": [
    "sns.kdeplot(data=df, x=\"Close diff\", shade=True)"
   ]
  },
  {
   "cell_type": "code",
   "execution_count": 10,
   "metadata": {},
   "outputs": [
    {
     "data": {
      "text/plain": [
       "count    1258.000000\n",
       "mean        0.000573\n",
       "std         0.011170\n",
       "min        -0.105094\n",
       "25%        -0.004082\n",
       "50%         0.001115\n",
       "75%         0.006001\n",
       "max         0.073061\n",
       "Name: Close diff, dtype: float64"
      ]
     },
     "execution_count": 10,
     "metadata": {},
     "output_type": "execute_result"
    }
   ],
   "source": [
    "df[\"Close diff\"].describe()"
   ]
  },
  {
   "cell_type": "code",
   "execution_count": 11,
   "metadata": {},
   "outputs": [],
   "source": [
    "risk_free_rate_pa = 0.015\n",
    "risk_free_daily = (1 + risk_free_rate_pa)**(1 / 365) - 1"
   ]
  },
  {
   "cell_type": "code",
   "execution_count": 12,
   "metadata": {},
   "outputs": [],
   "source": [
    "#Sharpe Ratio\n",
    "df[\"sharpe_return\"] = df[\"Close diff\"] - risk_free_daily\n",
    "sharpe_ratio_daily =  df[\"sharpe_return\"].mean() / df[\"sharpe_return\"].std()\n",
    "sharpe_ratio_yearly = df[\"sharpe_return\"].mean() * 252 / (df[\"sharpe_return\"].std() * np.sqrt(252))"
   ]
  },
  {
   "cell_type": "code",
   "execution_count": 13,
   "metadata": {},
   "outputs": [
    {
     "name": "stdout",
     "output_type": "stream",
     "text": [
      " Výnos pa: 0.14436993282604343, riziko (std): 0.17732134105378947, sharpe ratio (p.a.): 0.756200360027419\n"
     ]
    }
   ],
   "source": [
    "print(f\" Výnos pa: {df['Close diff'].mean()*252}, riziko (std): {df['Close diff'].std() * np.sqrt(252)}, sharpe ratio (p.a.): {sharpe_ratio_yearly}\")"
   ]
  },
  {
   "cell_type": "code",
   "execution_count": 14,
   "metadata": {},
   "outputs": [],
   "source": [
    "df2 = df.copy()"
   ]
  },
  {
   "cell_type": "code",
   "execution_count": 15,
   "metadata": {},
   "outputs": [],
   "source": [
    "df2[\"year\"] = df2[\"Date\"].dt.strftime('%Y')"
   ]
  },
  {
   "cell_type": "code",
   "execution_count": 16,
   "metadata": {},
   "outputs": [
    {
     "data": {
      "text/html": [
       "<div>\n",
       "<style scoped>\n",
       "    .dataframe tbody tr th:only-of-type {\n",
       "        vertical-align: middle;\n",
       "    }\n",
       "\n",
       "    .dataframe tbody tr th {\n",
       "        vertical-align: top;\n",
       "    }\n",
       "\n",
       "    .dataframe thead th {\n",
       "        text-align: right;\n",
       "    }\n",
       "</style>\n",
       "<table border=\"1\" class=\"dataframe\">\n",
       "  <thead>\n",
       "    <tr style=\"text-align: right;\">\n",
       "      <th></th>\n",
       "      <th>Date</th>\n",
       "      <th>Adj Close</th>\n",
       "      <th>Close diff</th>\n",
       "      <th>sharpe_return</th>\n",
       "      <th>year</th>\n",
       "    </tr>\n",
       "  </thead>\n",
       "  <tbody>\n",
       "    <tr>\n",
       "      <th>0</th>\n",
       "      <td>2016-06-06</td>\n",
       "      <td>1000.000000</td>\n",
       "      <td>NaN</td>\n",
       "      <td>NaN</td>\n",
       "      <td>2016</td>\n",
       "    </tr>\n",
       "    <tr>\n",
       "      <th>1</th>\n",
       "      <td>2016-06-07</td>\n",
       "      <td>1005.228774</td>\n",
       "      <td>0.005229</td>\n",
       "      <td>0.005188</td>\n",
       "      <td>2016</td>\n",
       "    </tr>\n",
       "    <tr>\n",
       "      <th>2</th>\n",
       "      <td>2016-06-08</td>\n",
       "      <td>1010.301492</td>\n",
       "      <td>0.005046</td>\n",
       "      <td>0.005006</td>\n",
       "      <td>2016</td>\n",
       "    </tr>\n",
       "    <tr>\n",
       "      <th>3</th>\n",
       "      <td>2016-06-09</td>\n",
       "      <td>1004.027675</td>\n",
       "      <td>-0.006210</td>\n",
       "      <td>-0.006251</td>\n",
       "      <td>2016</td>\n",
       "    </tr>\n",
       "    <tr>\n",
       "      <th>4</th>\n",
       "      <td>2016-06-10</td>\n",
       "      <td>987.790112</td>\n",
       "      <td>-0.016172</td>\n",
       "      <td>-0.016213</td>\n",
       "      <td>2016</td>\n",
       "    </tr>\n",
       "  </tbody>\n",
       "</table>\n",
       "</div>"
      ],
      "text/plain": [
       "        Date    Adj Close  Close diff  sharpe_return  year\n",
       "0 2016-06-06  1000.000000         NaN            NaN  2016\n",
       "1 2016-06-07  1005.228774    0.005229       0.005188  2016\n",
       "2 2016-06-08  1010.301492    0.005046       0.005006  2016\n",
       "3 2016-06-09  1004.027675   -0.006210      -0.006251  2016\n",
       "4 2016-06-10   987.790112   -0.016172      -0.016213  2016"
      ]
     },
     "execution_count": 16,
     "metadata": {},
     "output_type": "execute_result"
    }
   ],
   "source": [
    "df2.head()"
   ]
  },
  {
   "cell_type": "code",
   "execution_count": 17,
   "metadata": {},
   "outputs": [
    {
     "data": {
      "text/html": [
       "<div>\n",
       "<style scoped>\n",
       "    .dataframe tbody tr th:only-of-type {\n",
       "        vertical-align: middle;\n",
       "    }\n",
       "\n",
       "    .dataframe tbody tr th {\n",
       "        vertical-align: top;\n",
       "    }\n",
       "\n",
       "    .dataframe thead th {\n",
       "        text-align: right;\n",
       "    }\n",
       "</style>\n",
       "<table border=\"1\" class=\"dataframe\">\n",
       "  <thead>\n",
       "    <tr style=\"text-align: right;\">\n",
       "      <th></th>\n",
       "      <th>Date</th>\n",
       "      <th>Adj Close</th>\n",
       "      <th>Close diff</th>\n",
       "      <th>sharpe_return</th>\n",
       "    </tr>\n",
       "    <tr>\n",
       "      <th>year</th>\n",
       "      <th></th>\n",
       "      <th></th>\n",
       "      <th></th>\n",
       "      <th></th>\n",
       "    </tr>\n",
       "  </thead>\n",
       "  <tbody>\n",
       "    <tr>\n",
       "      <th>2016</th>\n",
       "      <td>146</td>\n",
       "      <td>146</td>\n",
       "      <td>145</td>\n",
       "      <td>145</td>\n",
       "    </tr>\n",
       "    <tr>\n",
       "      <th>2017</th>\n",
       "      <td>251</td>\n",
       "      <td>251</td>\n",
       "      <td>251</td>\n",
       "      <td>251</td>\n",
       "    </tr>\n",
       "    <tr>\n",
       "      <th>2018</th>\n",
       "      <td>251</td>\n",
       "      <td>251</td>\n",
       "      <td>251</td>\n",
       "      <td>251</td>\n",
       "    </tr>\n",
       "    <tr>\n",
       "      <th>2019</th>\n",
       "      <td>252</td>\n",
       "      <td>252</td>\n",
       "      <td>252</td>\n",
       "      <td>252</td>\n",
       "    </tr>\n",
       "    <tr>\n",
       "      <th>2020</th>\n",
       "      <td>253</td>\n",
       "      <td>253</td>\n",
       "      <td>253</td>\n",
       "      <td>253</td>\n",
       "    </tr>\n",
       "    <tr>\n",
       "      <th>2021</th>\n",
       "      <td>106</td>\n",
       "      <td>106</td>\n",
       "      <td>106</td>\n",
       "      <td>106</td>\n",
       "    </tr>\n",
       "  </tbody>\n",
       "</table>\n",
       "</div>"
      ],
      "text/plain": [
       "      Date  Adj Close  Close diff  sharpe_return\n",
       "year                                            \n",
       "2016   146        146         145            145\n",
       "2017   251        251         251            251\n",
       "2018   251        251         251            251\n",
       "2019   252        252         252            252\n",
       "2020   253        253         253            253\n",
       "2021   106        106         106            106"
      ]
     },
     "execution_count": 17,
     "metadata": {},
     "output_type": "execute_result"
    }
   ],
   "source": [
    "df2.groupby(by=\"year\").count()"
   ]
  },
  {
   "cell_type": "code",
   "execution_count": 18,
   "metadata": {},
   "outputs": [],
   "source": [
    "daily_return = df[\"Close diff\"].mean()\n",
    "sigma = df[\"Close diff\"].std()\n",
    "skew = df[\"Close diff\"].skew()\n",
    "exces_kurtosis = df[\"Close diff\"].kurtosis()-3\n",
    "params = (daily_return, sigma, skew,exces_kurtosis)"
   ]
  },
  {
   "cell_type": "code",
   "execution_count": 19,
   "metadata": {},
   "outputs": [],
   "source": [
    "n_year = len(df.index)//5\n",
    "return_pa = ((1+daily_return) ** n_year)-1\n",
    "sigma_pa = sigma * np.sqrt(n_year)"
   ]
  },
  {
   "cell_type": "code",
   "execution_count": 20,
   "metadata": {},
   "outputs": [
    {
     "data": {
      "text/plain": [
       "(0.17696916326611792,\n",
       " 0.15460219135668485,\n",
       " (0.0005728965588335057,\n",
       "  0.011170194537447498,\n",
       "  -1.1092531190526476,\n",
       "  12.230890839054936))"
      ]
     },
     "execution_count": 20,
     "metadata": {},
     "output_type": "execute_result"
    }
   ],
   "source": [
    "sigma_pa, return_pa, params"
   ]
  },
  {
   "cell_type": "code",
   "execution_count": 21,
   "metadata": {},
   "outputs": [],
   "source": [
    "from scipy import stats as st"
   ]
  },
  {
   "cell_type": "code",
   "execution_count": 22,
   "metadata": {},
   "outputs": [],
   "source": [
    "confidence = st.norm.ppf(.975)"
   ]
  },
  {
   "cell_type": "code",
   "execution_count": 23,
   "metadata": {},
   "outputs": [],
   "source": [
    "#VaRRETURN SPACE= S√N * (-1,96 + 0,474 * μ1 / √N – 0,0687 * μ2 / N + 0,146 * μ1^2 / N) – 0,5S^2N\n",
    "#VEV = √(confidence^2 – 2* VaRRETURN SPACE) -1.96 / √T"
   ]
  },
  {
   "cell_type": "code",
   "execution_count": 24,
   "metadata": {},
   "outputs": [],
   "source": [
    "VARS = []\n",
    "for holding in range(1,6):\n",
    "    VAR_1Y = sigma * np.sqrt(n_year * holding) * (-confidence + 0.474 * skew / np.sqrt(n_year * holding) \n",
    "                                              - 0.0687 * exces_kurtosis / n_year\n",
    "                                    + 0.146 * skew ** 2 / (n_year * holding)) - 0.5 * sigma ** 2 * n_year * holding\n",
    "    VARS.append(VAR_1Y)"
   ]
  },
  {
   "cell_type": "code",
   "execution_count": 25,
   "metadata": {},
   "outputs": [
    {
     "data": {
      "text/plain": [
       "[-0.36885113309714246,\n",
       " -0.5284639606314478,\n",
       " -0.6545705961947184,\n",
       " -0.7633372086495916,\n",
       " -0.8610237214107981]"
      ]
     },
     "execution_count": 25,
     "metadata": {},
     "output_type": "execute_result"
    }
   ],
   "source": [
    "VARS"
   ]
  },
  {
   "cell_type": "code",
   "execution_count": 26,
   "metadata": {},
   "outputs": [],
   "source": [
    "VEV = []\n",
    "for position, val in enumerate(VARS):\n",
    "    VEV_calc = (np.sqrt(confidence ** 2 - 2 * val) - confidence)/ np.sqrt(position + 1)\n",
    "    VEV.append(VEV_calc)"
   ]
  },
  {
   "cell_type": "code",
   "execution_count": 27,
   "metadata": {},
   "outputs": [
    {
     "data": {
      "text/plain": [
       "([-0.36885113309714246,\n",
       "  -0.5284639606314478,\n",
       "  -0.6545705961947184,\n",
       "  -0.7633372086495916,\n",
       "  -0.8610237214107981],\n",
       " [0.17993346321028403,\n",
       "  0.17908607049901093,\n",
       "  0.1787068557784203,\n",
       "  0.17847962103372295,\n",
       "  0.17832401352649946])"
      ]
     },
     "execution_count": 27,
     "metadata": {},
     "output_type": "execute_result"
    }
   ],
   "source": [
    "VARS, VEV"
   ]
  },
  {
   "cell_type": "code",
   "execution_count": 28,
   "metadata": {},
   "outputs": [],
   "source": [
    "#Calculate scenarios\n",
    "#Unfavourable @ -10 percentile, moderate @ 50 percenile, favourable @90 percentile\n",
    "#moderate = Exp [ M1*N - sigma * skew/6 – 0.5*sigma²N]"
   ]
  },
  {
   "cell_type": "code",
   "execution_count": 29,
   "metadata": {},
   "outputs": [],
   "source": [
    "def calc_values(colName):\n",
    "    '''\n",
    "    colName = column name of the bootstrapped return for given scenario (unvaforable, moderate, favorable)\n",
    "    '''\n",
    "    for i in range(0, len(monthly_investment)):\n",
    "        for j in range(i, len(monthly_investment)):\n",
    "            if j > i:\n",
    "                monthly_investment.iloc[j, i] = monthly_investment.iloc[j -1, i] * money_perf.loc[j, colName]"
   ]
  },
  {
   "cell_type": "code",
   "execution_count": 75,
   "metadata": {},
   "outputs": [],
   "source": [
    "years = 5\n",
    "initial_investment = 30000\n",
    "monthly_saving = 1000\n",
    "\n",
    "monthly_trading_days = 21\n",
    "\n",
    "\n",
    "performance = pd.DataFrame(data= np.arange(0,years * 12 + 1) * monthly_trading_days, index=np.arange(0,years * 12 + 1), columns=[\"trading days\"])"
   ]
  },
  {
   "cell_type": "code",
   "execution_count": 67,
   "metadata": {},
   "outputs": [],
   "source": [
    "#Connected Data\n",
    "performance[\"day_mean\"]=daily_return\n",
    "performance[\"sigma\"] = sigma\n",
    "performance[\"sigma_period\"] = sigma * np.sqrt(performance[\"trading days\"])\n",
    "performance[\"skew\"] = skew\n",
    "performance[\"exc_kurtosis\"] = exces_kurtosis\n",
    "performance[\"unfavorable_prob\"] = 10\n",
    "performance[\"moderate_prob\"] = 50\n",
    "performance[\"favorable_prob\"] = 90"
   ]
  },
  {
   "cell_type": "code",
   "execution_count": 76,
   "metadata": {},
   "outputs": [],
   "source": [
    "#testing Data only\n",
    "# performance[\"day_mean\"]=0.0005690780008145413\n",
    "# performance[\"sigma\"] = 0.01121008729400896\n",
    "# performance[\"sigma_period\"] = 0.01121008729400896 * np.sqrt(performance[\"trading days\"])\n",
    "# performance[\"skew\"] = -1.1456123516111676\n",
    "# performance[\"exc_kurtosis\"] = 10.713338010589432\n",
    "# performance[\"unfavorable_prob\"] = 10\n",
    "# performance[\"moderate_prob\"] = 50\n",
    "# performance[\"favorable_prob\"] = 90"
   ]
  },
  {
   "cell_type": "code",
   "execution_count": 77,
   "metadata": {},
   "outputs": [],
   "source": [
    "def scenario_calc(days, day_mean, sigma, skew, exc_kurt, confidence):\n",
    "    '''\n",
    "    days= trading days in the period\n",
    "    day_mean = historical daily return\n",
    "    sigma = historical daily standard deviation\n",
    "    skew = historical daily skeweness\n",
    "    exc_kurt = excess kurtosis (excess over 3)\n",
    "    confidence = percentile 0-100\n",
    "    '''\n",
    "    \n",
    "    #calculate z-scores\n",
    "    if days == 0:\n",
    "        return 1\n",
    "    else:\n",
    "        z = st.norm.ppf(confidence / 100)\n",
    "        z1 = (z**2 - 1) / 6\n",
    "        z2 = (z**3 - 3 * z) / 24\n",
    "        z3 = (2 * z**3 - 5* z) / 36\n",
    "\n",
    "        #calculate return over period\n",
    "        ret = np.exp((day_mean * days) + sigma * np.sqrt(days) * (z + z1 * skew / np.sqrt(days) + z2 * exc_kurt / days\n",
    "                                                         + z3 * skew**2 / days) - (0.5 * sigma**2 * days))\n",
    "        return ret"
   ]
  },
  {
   "cell_type": "code",
   "execution_count": 78,
   "metadata": {},
   "outputs": [],
   "source": [
    "# m = 0.0003389\n",
    "# n = 1280\n",
    "# sigma = 0.01224357\n",
    "# skew = -0.351143435\n",
    "# ekurt = 3.528503383\n",
    "# scenario_calc(n, m, sigma, skew, ekurt, 10)"
   ]
  },
  {
   "cell_type": "code",
   "execution_count": 79,
   "metadata": {},
   "outputs": [],
   "source": [
    "performance[\"moderate\"] = performance[[\"trading days\",\"day_mean\",\"sigma\",\"skew\",\"exc_kurtosis\", \"moderate_prob\"]].apply(lambda performance: scenario_calc(performance[\"trading days\"], performance[\"day_mean\"],performance[\"sigma\"],performance[\"skew\"], performance[\"exc_kurtosis\"], performance[\"moderate_prob\"]), axis=1)\n",
    "performance[\"unfavorable\"] = performance[[\"trading days\",\"day_mean\",\"sigma\",\"skew\",\"exc_kurtosis\", \"unfavorable_prob\"]].apply(lambda performance: scenario_calc(performance[\"trading days\"], performance[\"day_mean\"],performance[\"sigma\"],performance[\"skew\"], performance[\"exc_kurtosis\"], performance[\"unfavorable_prob\"]), axis=1)\n",
    "performance[\"favorable\"] = performance[[\"trading days\",\"day_mean\",\"sigma\",\"skew\",\"exc_kurtosis\", \"favorable_prob\"]].apply(lambda performance: scenario_calc(performance[\"trading days\"], performance[\"day_mean\"],performance[\"sigma\"],performance[\"skew\"], performance[\"exc_kurtosis\"], performance[\"favorable_prob\"]), axis=1)"
   ]
  },
  {
   "cell_type": "code",
   "execution_count": 82,
   "metadata": {},
   "outputs": [],
   "source": [
    "# fig, ax = plt.subplots(figsize=(14,8))\n",
    "# ax = plt.plot(performance[\"moderate\"], color=\"blue\")\n",
    "# ax = plt.plot(performance[\"unfavorable\"], color=\"red\")\n",
    "# ax = plt.plot(performance[\"favorable\"], color=\"green\")"
   ]
  },
  {
   "cell_type": "code",
   "execution_count": 36,
   "metadata": {},
   "outputs": [],
   "source": [
    "money_perf = performance[[\"unfavorable\",\"moderate\",\"favorable\"]].copy()"
   ]
  },
  {
   "cell_type": "code",
   "execution_count": 37,
   "metadata": {},
   "outputs": [],
   "source": [
    "money_perf[\"unfav_bootstrap\"] = money_perf[\"unfavorable\"] / money_perf[\"unfavorable\"].shift(1, fill_value=1)\n",
    "money_perf[\"moderate_bootstrap\"] = money_perf[\"moderate\"] / money_perf[\"moderate\"].shift(1, fill_value=1)\n",
    "money_perf[\"fav_bootstrap\"] = money_perf[\"favorable\"] / money_perf[\"favorable\"].shift(1, fill_value=1)"
   ]
  },
  {
   "cell_type": "code",
   "execution_count": 38,
   "metadata": {},
   "outputs": [],
   "source": [
    "#Subtract fees (@1% p.a.)\n",
    "fee_monthly = 1.01 ** (1/12) - 1"
   ]
  },
  {
   "cell_type": "code",
   "execution_count": 39,
   "metadata": {},
   "outputs": [],
   "source": [
    "money_perf[\"unfav_bootstrap_net\"] = money_perf[\"unfav_bootstrap\"] - fee_monthly\n",
    "money_perf[\"moderate_bootstrap_net\"] = money_perf[\"moderate_bootstrap\"] - fee_monthly\n",
    "money_perf[\"fav_bootstrap_net\"] = money_perf[\"fav_bootstrap\"] - fee_monthly"
   ]
  },
  {
   "cell_type": "code",
   "execution_count": 40,
   "metadata": {},
   "outputs": [],
   "source": [
    "#reset row 0 (@ t = 1 no fees)\n",
    "for colname in money_perf.columns:\n",
    "    if \"bootstrap_net\" in colname:\n",
    "        money_perf.loc[0,colname] = 1 "
   ]
  },
  {
   "cell_type": "code",
   "execution_count": 41,
   "metadata": {},
   "outputs": [],
   "source": [
    "def monthly_matrix(lenght, value):\n",
    "    monthly = []\n",
    "\n",
    "    for i in range(0,lenght):\n",
    "        row = []\n",
    "        for j in range(0, lenght):\n",
    "            if j == i and (i > 0 and i < lenght - 1):\n",
    "                row.append(value)\n",
    "            else:\n",
    "                row.append(np.nan)   \n",
    "        monthly.append(row)\n",
    "    return monthly"
   ]
  },
  {
   "cell_type": "code",
   "execution_count": 42,
   "metadata": {},
   "outputs": [],
   "source": [
    "scenarios = [\"unfavorable\",\"moderate\", \"favorable\"]\n",
    "\n",
    "for scenario in scenarios:\n",
    "    \n",
    "    month = np.array(monthly_matrix(len(money_perf),monthly_saving))\n",
    "    month[0,0] = initial_investment\n",
    "\n",
    "    monthly_investment = pd.DataFrame(month) \n",
    "\n",
    "    monthly_investment.dropna(axis=1, how=\"all\", inplace=True)\n",
    "\n",
    "    monthly_investment = monthly_investment / money_perf[scenario]\n",
    "\n",
    "    monthly_investment.dropna(axis=1, how=\"all\", inplace=True)\n",
    "\n",
    "    if scenario == \"unfavorable\":\n",
    "        bootstrap_name = \"unfav_bootstrap_net\"\n",
    "    elif scenario == \"moderate\":\n",
    "        bootstrap_name = \"moderate_bootstrap_net\"\n",
    "    else:\n",
    "        bootstrap_name = \"fav_bootstrap_net\"\n",
    "\n",
    "\n",
    "    calc_values(bootstrap_name)\n",
    "\n",
    "    money_perf[scenario + \"_perf\"] = monthly_investment.sum(axis=1)"
   ]
  },
  {
   "cell_type": "code",
   "execution_count": 43,
   "metadata": {},
   "outputs": [
    {
     "data": {
      "image/png": "[encoded data removed]",
      "text/plain": [
       "<Figure size 1008x576 with 1 Axes>"
      ]
     },
     "metadata": {
      "needs_background": "light"
     },
     "output_type": "display_data"
    }
   ],
   "source": [
    "x_labels = [i//12 for i in range(0,len(money_perf),12)]\n",
    "fig, ax = plt.subplots(figsize=(14,8))\n",
    "ax.plot(range(len(money_perf)),money_perf[\"moderate_perf\"], color=\"blue\", label=\"Střední\")\n",
    "ax.plot(range(len(money_perf)), money_perf[\"unfavorable_perf\"], color=\"red\", label=\"Pesimistická\")\n",
    "ax.plot(range(len(money_perf)), money_perf[\"favorable_perf\"], color=\"green\", label=\"Optimistická\")\n",
    "ax.set_xticks(range(0, len(money_perf),12))\n",
    "ax.set_xticklabels(x_labels)\n",
    "ax.set_xlabel(\"Rok\")\n",
    "ax.set_ylabel(\"Hodnota\")\n",
    "plt.legend(loc=0)\n",
    "plt.show()"
   ]
  },
  {
   "cell_type": "code",
   "execution_count": 44,
   "metadata": {},
   "outputs": [
    {
     "name": "stdout",
     "output_type": "stream",
     "text": [
      "Celkem investováno: 149000.0\n",
      "\n",
      "Hodnota na konci období 10 let:\n",
      "\n",
      "Unfavorable scénář: 202649.0 Kč\n",
      "Moderate scénář: 242233.0 Kč\n",
      "Favorable scénář: 351324.0 Kč\n"
     ]
    }
   ],
   "source": [
    "print(f\"Celkem investováno: {np.nansum(month)}\\n\")\n",
    "print(f\"Hodnota na konci období {years} let:\\n\")\n",
    "for scenario in scenarios:\n",
    "    colName = scenario + \"_perf\"\n",
    "    value = np.round(money_perf.loc[len(money_perf)-1,colName],0)\n",
    "    print(f\"{scenario.capitalize()} scénář: {value} Kč\")"
   ]
  },
  {
   "cell_type": "code",
   "execution_count": 45,
   "metadata": {},
   "outputs": [
    {
     "data": {
      "text/html": [
       "<div>\n",
       "<style scoped>\n",
       "    .dataframe tbody tr th:only-of-type {\n",
       "        vertical-align: middle;\n",
       "    }\n",
       "\n",
       "    .dataframe tbody tr th {\n",
       "        vertical-align: top;\n",
       "    }\n",
       "\n",
       "    .dataframe thead th {\n",
       "        text-align: right;\n",
       "    }\n",
       "</style>\n",
       "<table border=\"1\" class=\"dataframe\">\n",
       "  <thead>\n",
       "    <tr style=\"text-align: right;\">\n",
       "      <th></th>\n",
       "      <th>unfavorable</th>\n",
       "      <th>moderate</th>\n",
       "      <th>favorable</th>\n",
       "      <th>unfav_bootstrap</th>\n",
       "      <th>moderate_bootstrap</th>\n",
       "      <th>fav_bootstrap</th>\n",
       "      <th>unfav_bootstrap_net</th>\n",
       "      <th>moderate_bootstrap_net</th>\n",
       "      <th>fav_bootstrap_net</th>\n",
       "      <th>unfavorable_perf</th>\n",
       "      <th>moderate_perf</th>\n",
       "      <th>favorable_perf</th>\n",
       "    </tr>\n",
       "  </thead>\n",
       "  <tbody>\n",
       "    <tr>\n",
       "      <th>0</th>\n",
       "      <td>1.000000</td>\n",
       "      <td>1.000000</td>\n",
       "      <td>1.000000</td>\n",
       "      <td>1.000000</td>\n",
       "      <td>1.000000</td>\n",
       "      <td>1.000000</td>\n",
       "      <td>1.000000</td>\n",
       "      <td>1.000000</td>\n",
       "      <td>1.000000</td>\n",
       "      <td>30000.000000</td>\n",
       "      <td>30000.000000</td>\n",
       "      <td>30000.000000</td>\n",
       "    </tr>\n",
       "    <tr>\n",
       "      <th>1</th>\n",
       "      <td>0.947563</td>\n",
       "      <td>1.012868</td>\n",
       "      <td>1.075354</td>\n",
       "      <td>0.947563</td>\n",
       "      <td>1.012868</td>\n",
       "      <td>1.075354</td>\n",
       "      <td>0.946733</td>\n",
       "      <td>1.012038</td>\n",
       "      <td>1.074525</td>\n",
       "      <td>29457.343512</td>\n",
       "      <td>31348.446205</td>\n",
       "      <td>33165.666479</td>\n",
       "    </tr>\n",
       "    <tr>\n",
       "      <th>2</th>\n",
       "      <td>0.931462</td>\n",
       "      <td>1.023785</td>\n",
       "      <td>1.117652</td>\n",
       "      <td>0.983007</td>\n",
       "      <td>1.010778</td>\n",
       "      <td>1.039334</td>\n",
       "      <td>0.982178</td>\n",
       "      <td>1.009949</td>\n",
       "      <td>1.038504</td>\n",
       "      <td>30005.935095</td>\n",
       "      <td>32637.094595</td>\n",
       "      <td>35337.419553</td>\n",
       "    </tr>\n",
       "    <tr>\n",
       "      <th>3</th>\n",
       "      <td>0.921793</td>\n",
       "      <td>1.034820</td>\n",
       "      <td>1.153851</td>\n",
       "      <td>0.989620</td>\n",
       "      <td>1.010778</td>\n",
       "      <td>1.032389</td>\n",
       "      <td>0.988791</td>\n",
       "      <td>1.009949</td>\n",
       "      <td>1.031559</td>\n",
       "      <td>30754.439049</td>\n",
       "      <td>33928.147837</td>\n",
       "      <td>37319.298847</td>\n",
       "    </tr>\n",
       "    <tr>\n",
       "      <th>4</th>\n",
       "      <td>0.915328</td>\n",
       "      <td>1.045973</td>\n",
       "      <td>1.187185</td>\n",
       "      <td>0.992987</td>\n",
       "      <td>1.010778</td>\n",
       "      <td>1.028889</td>\n",
       "      <td>0.992157</td>\n",
       "      <td>1.009949</td>\n",
       "      <td>1.028060</td>\n",
       "      <td>31605.734903</td>\n",
       "      <td>35221.740924</td>\n",
       "      <td>39208.788819</td>\n",
       "    </tr>\n",
       "  </tbody>\n",
       "</table>\n",
       "</div>"
      ],
      "text/plain": [
       "   unfavorable  moderate  favorable  unfav_bootstrap  moderate_bootstrap  \\\n",
       "0     1.000000  1.000000   1.000000         1.000000            1.000000   \n",
       "1     0.947563  1.012868   1.075354         0.947563            1.012868   \n",
       "2     0.931462  1.023785   1.117652         0.983007            1.010778   \n",
       "3     0.921793  1.034820   1.153851         0.989620            1.010778   \n",
       "4     0.915328  1.045973   1.187185         0.992987            1.010778   \n",
       "\n",
       "   fav_bootstrap  unfav_bootstrap_net  moderate_bootstrap_net  \\\n",
       "0       1.000000             1.000000                1.000000   \n",
       "1       1.075354             0.946733                1.012038   \n",
       "2       1.039334             0.982178                1.009949   \n",
       "3       1.032389             0.988791                1.009949   \n",
       "4       1.028889             0.992157                1.009949   \n",
       "\n",
       "   fav_bootstrap_net  unfavorable_perf  moderate_perf  favorable_perf  \n",
       "0           1.000000      30000.000000   30000.000000    30000.000000  \n",
       "1           1.074525      29457.343512   31348.446205    33165.666479  \n",
       "2           1.038504      30005.935095   32637.094595    35337.419553  \n",
       "3           1.031559      30754.439049   33928.147837    37319.298847  \n",
       "4           1.028060      31605.734903   35221.740924    39208.788819  "
      ]
     },
     "execution_count": 45,
     "metadata": {},
     "output_type": "execute_result"
    }
   ],
   "source": [
    "money_perf.head()"
   ]
  },
  {
   "cell_type": "code",
   "execution_count": null,
   "metadata": {},
   "outputs": [],
   "source": []
  }
 ],
 "metadata": {
  "kernelspec": {
   "display_name": "Python 3",
   "language": "python",
   "name": "python3"
  },
  "language_info": {
   "codemirror_mode": {
    "name": "ipython",
    "version": 3
   },
   "file_extension": ".py",
   "mimetype": "text/x-python",
   "name": "python",
   "nbconvert_exporter": "python",
   "pygments_lexer": "ipython3",
   "version": "3.9.1"
  }
 },
 "nbformat": 4,
 "nbformat_minor": 4
}
