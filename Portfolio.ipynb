{
 "cells": [
  {
   "cell_type": "code",
   "execution_count": 1,
   "metadata": {},
   "outputs": [],
   "source": [
    "import numpy as np\n",
    "import pandas as pd\n",
    "import matplotlib.pyplot as plt\n",
    "import seaborn as sns"
   ]
  },
  {
   "cell_type": "code",
   "execution_count": 2,
   "metadata": {},
   "outputs": [],
   "source": [
    "df = pd.read_csv(\"SPY.csv\", parse_dates=[0])"
   ]
  },
  {
   "cell_type": "code",
   "execution_count": 3,
   "metadata": {},
   "outputs": [
    {
     "data": {
      "text/plain": [
       "[<matplotlib.lines.Line2D at 0x282c6626460>]"
      ]
     },
     "execution_count": 3,
     "metadata": {},
     "output_type": "execute_result"
    },
    {
     "data": {
      "image/png": "[encoded data removed]",
      "text/plain": [
       "<Figure size 432x288 with 1 Axes>"
      ]
     },
     "metadata": {
      "needs_background": "light"
     },
     "output_type": "display_data"
    }
   ],
   "source": [
    "plt.plot(df[\"Adj Close\"])"
   ]
  },
  {
   "cell_type": "code",
   "execution_count": 4,
   "metadata": {},
   "outputs": [],
   "source": [
    "df[\"Close diff\"] = df[\"Close\"] - df[\"Adj Close\"]"
   ]
  },
  {
   "cell_type": "code",
   "execution_count": 5,
   "metadata": {},
   "outputs": [
    {
     "data": {
      "text/plain": [
       "[<matplotlib.lines.Line2D at 0x282c69a3d30>]"
      ]
     },
     "execution_count": 5,
     "metadata": {},
     "output_type": "execute_result"
    },
    {
     "data": {
      "image/png": "[encoded data removed]",
      "text/plain": [
       "<Figure size 432x288 with 1 Axes>"
      ]
     },
     "metadata": {
      "needs_background": "light"
     },
     "output_type": "display_data"
    }
   ],
   "source": [
    "plt.plot(df[\"Close diff\"])"
   ]
  },
  {
   "cell_type": "code",
   "execution_count": 6,
   "metadata": {},
   "outputs": [
    {
     "data": {
      "text/plain": [
       "19.189468000000005"
      ]
     },
     "execution_count": 6,
     "metadata": {},
     "output_type": "execute_result"
    }
   ],
   "source": [
    "df[\"Close diff\"].max()"
   ]
  },
  {
   "cell_type": "code",
   "execution_count": 7,
   "metadata": {},
   "outputs": [
    {
     "data": {
      "text/html": [
       "<div>\n",
       "<style scoped>\n",
       "    .dataframe tbody tr th:only-of-type {\n",
       "        vertical-align: middle;\n",
       "    }\n",
       "\n",
       "    .dataframe tbody tr th {\n",
       "        vertical-align: top;\n",
       "    }\n",
       "\n",
       "    .dataframe thead th {\n",
       "        text-align: right;\n",
       "    }\n",
       "</style>\n",
       "<table border=\"1\" class=\"dataframe\">\n",
       "  <thead>\n",
       "    <tr style=\"text-align: right;\">\n",
       "      <th></th>\n",
       "      <th>Date</th>\n",
       "      <th>Open</th>\n",
       "      <th>High</th>\n",
       "      <th>Low</th>\n",
       "      <th>Close</th>\n",
       "      <th>Adj Close</th>\n",
       "      <th>Volume</th>\n",
       "      <th>Close diff</th>\n",
       "    </tr>\n",
       "  </thead>\n",
       "  <tbody>\n",
       "    <tr>\n",
       "      <th>0</th>\n",
       "      <td>2016-05-19</td>\n",
       "      <td>204.059998</td>\n",
       "      <td>204.539993</td>\n",
       "      <td>202.779999</td>\n",
       "      <td>204.199997</td>\n",
       "      <td>185.748718</td>\n",
       "      <td>115430500</td>\n",
       "      <td>18.451279</td>\n",
       "    </tr>\n",
       "    <tr>\n",
       "      <th>1</th>\n",
       "      <td>2016-05-20</td>\n",
       "      <td>204.919998</td>\n",
       "      <td>206.100006</td>\n",
       "      <td>204.860001</td>\n",
       "      <td>205.490005</td>\n",
       "      <td>186.922195</td>\n",
       "      <td>104990400</td>\n",
       "      <td>18.567810</td>\n",
       "    </tr>\n",
       "    <tr>\n",
       "      <th>2</th>\n",
       "      <td>2016-05-23</td>\n",
       "      <td>205.509995</td>\n",
       "      <td>205.839996</td>\n",
       "      <td>204.990005</td>\n",
       "      <td>205.210007</td>\n",
       "      <td>186.667496</td>\n",
       "      <td>58682600</td>\n",
       "      <td>18.542511</td>\n",
       "    </tr>\n",
       "    <tr>\n",
       "      <th>3</th>\n",
       "      <td>2016-05-24</td>\n",
       "      <td>206.169998</td>\n",
       "      <td>208.240005</td>\n",
       "      <td>206.139999</td>\n",
       "      <td>207.869995</td>\n",
       "      <td>189.087112</td>\n",
       "      <td>93537800</td>\n",
       "      <td>18.782883</td>\n",
       "    </tr>\n",
       "    <tr>\n",
       "      <th>4</th>\n",
       "      <td>2016-05-25</td>\n",
       "      <td>208.669998</td>\n",
       "      <td>209.770004</td>\n",
       "      <td>207.869995</td>\n",
       "      <td>209.279999</td>\n",
       "      <td>190.369705</td>\n",
       "      <td>76621400</td>\n",
       "      <td>18.910294</td>\n",
       "    </tr>\n",
       "  </tbody>\n",
       "</table>\n",
       "</div>"
      ],
      "text/plain": [
       "        Date        Open        High         Low       Close   Adj Close  \\\n",
       "0 2016-05-19  204.059998  204.539993  202.779999  204.199997  185.748718   \n",
       "1 2016-05-20  204.919998  206.100006  204.860001  205.490005  186.922195   \n",
       "2 2016-05-23  205.509995  205.839996  204.990005  205.210007  186.667496   \n",
       "3 2016-05-24  206.169998  208.240005  206.139999  207.869995  189.087112   \n",
       "4 2016-05-25  208.669998  209.770004  207.869995  209.279999  190.369705   \n",
       "\n",
       "      Volume  Close diff  \n",
       "0  115430500   18.451279  \n",
       "1  104990400   18.567810  \n",
       "2   58682600   18.542511  \n",
       "3   93537800   18.782883  \n",
       "4   76621400   18.910294  "
      ]
     },
     "execution_count": 7,
     "metadata": {},
     "output_type": "execute_result"
    }
   ],
   "source": [
    "df.head()"
   ]
  },
  {
   "cell_type": "code",
   "execution_count": 8,
   "metadata": {},
   "outputs": [],
   "source": [
    "df[\"Close diff\"] = df[\"Adj Close\"].pct_change()"
   ]
  },
  {
   "cell_type": "code",
   "execution_count": 9,
   "metadata": {},
   "outputs": [
    {
     "data": {
      "text/plain": [
       "<AxesSubplot:xlabel='Close diff', ylabel='Density'>"
      ]
     },
     "execution_count": 9,
     "metadata": {},
     "output_type": "execute_result"
    },
    {
     "data": {
      "image/png": "[encoded data removed]",
      "text/plain": [
       "<Figure size 432x288 with 1 Axes>"
      ]
     },
     "metadata": {
      "needs_background": "light"
     },
     "output_type": "display_data"
    }
   ],
   "source": [
    "sns.kdeplot(data=df, x=\"Close diff\", shade=True)"
   ]
  },
  {
   "cell_type": "code",
   "execution_count": 10,
   "metadata": {},
   "outputs": [
    {
     "data": {
      "text/plain": [
       "count    1257.000000\n",
       "mean        0.000704\n",
       "std         0.011838\n",
       "min        -0.109424\n",
       "25%        -0.002783\n",
       "50%         0.000741\n",
       "75%         0.005583\n",
       "max         0.090603\n",
       "Name: Close diff, dtype: float64"
      ]
     },
     "execution_count": 10,
     "metadata": {},
     "output_type": "execute_result"
    }
   ],
   "source": [
    "df[\"Close diff\"].describe()"
   ]
  },
  {
   "cell_type": "code",
   "execution_count": 11,
   "metadata": {},
   "outputs": [
    {
     "data": {
      "text/plain": [
       "0.1774967639488196"
      ]
     },
     "execution_count": 11,
     "metadata": {},
     "output_type": "execute_result"
    }
   ],
   "source": [
    "df[\"Close diff\"].mean()*252"
   ]
  },
  {
   "cell_type": "code",
   "execution_count": 12,
   "metadata": {},
   "outputs": [],
   "source": [
    "df2 = df.copy()"
   ]
  },
  {
   "cell_type": "code",
   "execution_count": 13,
   "metadata": {},
   "outputs": [],
   "source": [
    "df2[\"year\"] = df2[\"Date\"].dt.strftime('%Y')"
   ]
  },
  {
   "cell_type": "code",
   "execution_count": 14,
   "metadata": {},
   "outputs": [
    {
     "data": {
      "text/html": [
       "<div>\n",
       "<style scoped>\n",
       "    .dataframe tbody tr th:only-of-type {\n",
       "        vertical-align: middle;\n",
       "    }\n",
       "\n",
       "    .dataframe tbody tr th {\n",
       "        vertical-align: top;\n",
       "    }\n",
       "\n",
       "    .dataframe thead th {\n",
       "        text-align: right;\n",
       "    }\n",
       "</style>\n",
       "<table border=\"1\" class=\"dataframe\">\n",
       "  <thead>\n",
       "    <tr style=\"text-align: right;\">\n",
       "      <th></th>\n",
       "      <th>Date</th>\n",
       "      <th>Open</th>\n",
       "      <th>High</th>\n",
       "      <th>Low</th>\n",
       "      <th>Close</th>\n",
       "      <th>Adj Close</th>\n",
       "      <th>Volume</th>\n",
       "      <th>Close diff</th>\n",
       "      <th>year</th>\n",
       "    </tr>\n",
       "  </thead>\n",
       "  <tbody>\n",
       "    <tr>\n",
       "      <th>0</th>\n",
       "      <td>2016-05-19</td>\n",
       "      <td>204.059998</td>\n",
       "      <td>204.539993</td>\n",
       "      <td>202.779999</td>\n",
       "      <td>204.199997</td>\n",
       "      <td>185.748718</td>\n",
       "      <td>115430500</td>\n",
       "      <td>NaN</td>\n",
       "      <td>2016</td>\n",
       "    </tr>\n",
       "    <tr>\n",
       "      <th>1</th>\n",
       "      <td>2016-05-20</td>\n",
       "      <td>204.919998</td>\n",
       "      <td>206.100006</td>\n",
       "      <td>204.860001</td>\n",
       "      <td>205.490005</td>\n",
       "      <td>186.922195</td>\n",
       "      <td>104990400</td>\n",
       "      <td>0.006318</td>\n",
       "      <td>2016</td>\n",
       "    </tr>\n",
       "    <tr>\n",
       "      <th>2</th>\n",
       "      <td>2016-05-23</td>\n",
       "      <td>205.509995</td>\n",
       "      <td>205.839996</td>\n",
       "      <td>204.990005</td>\n",
       "      <td>205.210007</td>\n",
       "      <td>186.667496</td>\n",
       "      <td>58682600</td>\n",
       "      <td>-0.001363</td>\n",
       "      <td>2016</td>\n",
       "    </tr>\n",
       "    <tr>\n",
       "      <th>3</th>\n",
       "      <td>2016-05-24</td>\n",
       "      <td>206.169998</td>\n",
       "      <td>208.240005</td>\n",
       "      <td>206.139999</td>\n",
       "      <td>207.869995</td>\n",
       "      <td>189.087112</td>\n",
       "      <td>93537800</td>\n",
       "      <td>0.012962</td>\n",
       "      <td>2016</td>\n",
       "    </tr>\n",
       "    <tr>\n",
       "      <th>4</th>\n",
       "      <td>2016-05-25</td>\n",
       "      <td>208.669998</td>\n",
       "      <td>209.770004</td>\n",
       "      <td>207.869995</td>\n",
       "      <td>209.279999</td>\n",
       "      <td>190.369705</td>\n",
       "      <td>76621400</td>\n",
       "      <td>0.006783</td>\n",
       "      <td>2016</td>\n",
       "    </tr>\n",
       "  </tbody>\n",
       "</table>\n",
       "</div>"
      ],
      "text/plain": [
       "        Date        Open        High         Low       Close   Adj Close  \\\n",
       "0 2016-05-19  204.059998  204.539993  202.779999  204.199997  185.748718   \n",
       "1 2016-05-20  204.919998  206.100006  204.860001  205.490005  186.922195   \n",
       "2 2016-05-23  205.509995  205.839996  204.990005  205.210007  186.667496   \n",
       "3 2016-05-24  206.169998  208.240005  206.139999  207.869995  189.087112   \n",
       "4 2016-05-25  208.669998  209.770004  207.869995  209.279999  190.369705   \n",
       "\n",
       "      Volume  Close diff  year  \n",
       "0  115430500         NaN  2016  \n",
       "1  104990400    0.006318  2016  \n",
       "2   58682600   -0.001363  2016  \n",
       "3   93537800    0.012962  2016  \n",
       "4   76621400    0.006783  2016  "
      ]
     },
     "execution_count": 14,
     "metadata": {},
     "output_type": "execute_result"
    }
   ],
   "source": [
    "df2.head()"
   ]
  },
  {
   "cell_type": "code",
   "execution_count": 15,
   "metadata": {},
   "outputs": [
    {
     "data": {
      "text/html": [
       "<div>\n",
       "<style scoped>\n",
       "    .dataframe tbody tr th:only-of-type {\n",
       "        vertical-align: middle;\n",
       "    }\n",
       "\n",
       "    .dataframe tbody tr th {\n",
       "        vertical-align: top;\n",
       "    }\n",
       "\n",
       "    .dataframe thead th {\n",
       "        text-align: right;\n",
       "    }\n",
       "</style>\n",
       "<table border=\"1\" class=\"dataframe\">\n",
       "  <thead>\n",
       "    <tr style=\"text-align: right;\">\n",
       "      <th></th>\n",
       "      <th>Date</th>\n",
       "      <th>Open</th>\n",
       "      <th>High</th>\n",
       "      <th>Low</th>\n",
       "      <th>Close</th>\n",
       "      <th>Adj Close</th>\n",
       "      <th>Volume</th>\n",
       "      <th>Close diff</th>\n",
       "    </tr>\n",
       "    <tr>\n",
       "      <th>year</th>\n",
       "      <th></th>\n",
       "      <th></th>\n",
       "      <th></th>\n",
       "      <th></th>\n",
       "      <th></th>\n",
       "      <th></th>\n",
       "      <th></th>\n",
       "      <th></th>\n",
       "    </tr>\n",
       "  </thead>\n",
       "  <tbody>\n",
       "    <tr>\n",
       "      <th>2016</th>\n",
       "      <td>157</td>\n",
       "      <td>157</td>\n",
       "      <td>157</td>\n",
       "      <td>157</td>\n",
       "      <td>157</td>\n",
       "      <td>157</td>\n",
       "      <td>157</td>\n",
       "      <td>156</td>\n",
       "    </tr>\n",
       "    <tr>\n",
       "      <th>2017</th>\n",
       "      <td>251</td>\n",
       "      <td>251</td>\n",
       "      <td>251</td>\n",
       "      <td>251</td>\n",
       "      <td>251</td>\n",
       "      <td>251</td>\n",
       "      <td>251</td>\n",
       "      <td>251</td>\n",
       "    </tr>\n",
       "    <tr>\n",
       "      <th>2018</th>\n",
       "      <td>251</td>\n",
       "      <td>251</td>\n",
       "      <td>251</td>\n",
       "      <td>251</td>\n",
       "      <td>251</td>\n",
       "      <td>251</td>\n",
       "      <td>251</td>\n",
       "      <td>251</td>\n",
       "    </tr>\n",
       "    <tr>\n",
       "      <th>2019</th>\n",
       "      <td>252</td>\n",
       "      <td>252</td>\n",
       "      <td>252</td>\n",
       "      <td>252</td>\n",
       "      <td>252</td>\n",
       "      <td>252</td>\n",
       "      <td>252</td>\n",
       "      <td>252</td>\n",
       "    </tr>\n",
       "    <tr>\n",
       "      <th>2020</th>\n",
       "      <td>253</td>\n",
       "      <td>253</td>\n",
       "      <td>253</td>\n",
       "      <td>253</td>\n",
       "      <td>253</td>\n",
       "      <td>253</td>\n",
       "      <td>253</td>\n",
       "      <td>253</td>\n",
       "    </tr>\n",
       "    <tr>\n",
       "      <th>2021</th>\n",
       "      <td>94</td>\n",
       "      <td>94</td>\n",
       "      <td>94</td>\n",
       "      <td>94</td>\n",
       "      <td>94</td>\n",
       "      <td>94</td>\n",
       "      <td>94</td>\n",
       "      <td>94</td>\n",
       "    </tr>\n",
       "  </tbody>\n",
       "</table>\n",
       "</div>"
      ],
      "text/plain": [
       "      Date  Open  High  Low  Close  Adj Close  Volume  Close diff\n",
       "year                                                             \n",
       "2016   157   157   157  157    157        157     157         156\n",
       "2017   251   251   251  251    251        251     251         251\n",
       "2018   251   251   251  251    251        251     251         251\n",
       "2019   252   252   252  252    252        252     252         252\n",
       "2020   253   253   253  253    253        253     253         253\n",
       "2021    94    94    94   94     94         94      94          94"
      ]
     },
     "execution_count": 15,
     "metadata": {},
     "output_type": "execute_result"
    }
   ],
   "source": [
    "df2.groupby(by=\"year\").count()"
   ]
  },
  {
   "cell_type": "code",
   "execution_count": 16,
   "metadata": {},
   "outputs": [],
   "source": [
    "daily_return = df[\"Close diff\"].mean()\n",
    "sigma = df[\"Close diff\"].std()\n",
    "skew = df2[\"Close diff\"].skew()\n",
    "exces_kurtosis = df2[\"Close diff\"].kurtosis()-3\n",
    "params = (daily_return, sigma, skew,exces_kurtosis)"
   ]
  },
  {
   "cell_type": "code",
   "execution_count": 17,
   "metadata": {},
   "outputs": [],
   "source": [
    "n_year = len(df.index)//5\n",
    "return_pa = ((1+daily_return) ** n_year)-1\n",
    "sigma_pa = sigma * np.sqrt(n_year)"
   ]
  },
  {
   "cell_type": "code",
   "execution_count": 18,
   "metadata": {},
   "outputs": [
    {
     "data": {
      "text/plain": [
       "(0.18754946729855523, 0.19330906967878758)"
      ]
     },
     "execution_count": 18,
     "metadata": {},
     "output_type": "execute_result"
    }
   ],
   "source": [
    "sigma_pa, return_pa"
   ]
  },
  {
   "cell_type": "code",
   "execution_count": 19,
   "metadata": {},
   "outputs": [],
   "source": [
    "from scipy import stats as st"
   ]
  },
  {
   "cell_type": "code",
   "execution_count": 20,
   "metadata": {},
   "outputs": [],
   "source": [
    "confidence = st.norm.ppf(.975)"
   ]
  },
  {
   "cell_type": "code",
   "execution_count": 21,
   "metadata": {},
   "outputs": [],
   "source": [
    "#VaRRETURN SPACE= S√N * (-1,96 + 0,474 * μ1 / √N – 0,0687 * μ2 / N + 0,146 * μ1^2 / N) – 0,5S^2N\n",
    "#VEV = √(confidence^2 – 2* VaRRETURN SPACE) -1.96 / √T"
   ]
  },
  {
   "cell_type": "code",
   "execution_count": 22,
   "metadata": {},
   "outputs": [],
   "source": [
    "VARS = []\n",
    "for holding in range(1,6):\n",
    "    VAR_1Y = sigma * np.sqrt(n_year * holding) * (-confidence + 0.474 * skew / np.sqrt(n_year * holding) \n",
    "                                              - 0.0687 * exces_kurtosis / n_year\n",
    "                                    + 0.146 * skew ** 2 / (n_year * holding)) - 0.5 * sigma ** 2 * n_year * holding\n",
    "    VARS.append(VAR_1Y)"
   ]
  },
  {
   "cell_type": "code",
   "execution_count": 23,
   "metadata": {},
   "outputs": [
    {
     "data": {
      "text/plain": [
       "[-0.39042199230265795,\n",
       " -0.5606233182968299,\n",
       " -0.6953088012967453,\n",
       " -0.8116121915595736,\n",
       " -0.9161690413452657]"
      ]
     },
     "execution_count": 23,
     "metadata": {},
     "output_type": "execute_result"
    }
   ],
   "source": [
    "VARS"
   ]
  },
  {
   "cell_type": "code",
   "execution_count": 24,
   "metadata": {},
   "outputs": [],
   "source": [
    "VEV = []\n",
    "for position, val in enumerate(VARS):\n",
    "    VEV_calc = (np.sqrt(confidence ** 2 - 2 * val) - confidence)/ np.sqrt(position + 1)\n",
    "    VEV.append(VEV_calc)"
   ]
  },
  {
   "cell_type": "code",
   "execution_count": 25,
   "metadata": {},
   "outputs": [
    {
     "data": {
      "text/plain": [
       "([-0.39042199230265795,\n",
       "  -0.5606233182968299,\n",
       "  -0.6953088012967453,\n",
       "  -0.8116121915595736,\n",
       "  -0.9161690413452657],\n",
       " [0.18999015573816136,\n",
       "  0.1893271836754602,\n",
       "  0.18902983240379562,\n",
       "  0.18885110144066974,\n",
       "  0.1887283128269403])"
      ]
     },
     "execution_count": 25,
     "metadata": {},
     "output_type": "execute_result"
    }
   ],
   "source": [
    "VARS, VEV"
   ]
  },
  {
   "cell_type": "code",
   "execution_count": 26,
   "metadata": {},
   "outputs": [],
   "source": [
    "#Calculate scenarios\n",
    "#Unfavourable @ -10 percentile, moderate @ 50 percenile, favourable @90 percentile\n",
    "#moderate = Exp [ M1*N - sigma * skew/6 – 0.5*sigma²N]"
   ]
  },
  {
   "cell_type": "code",
   "execution_count": 228,
   "metadata": {},
   "outputs": [],
   "source": [
    "years = 0.5\n",
    "initial_investment = 10000\n",
    "monthly_investment = 0\n",
    "monthly_trading_days = 21\n",
    "\n",
    "performance = pd.DataFrame(data= np.arange(0,years * 12 + 1) * monthly_trading_days, index=np.arange(0,years * 12 + 1), columns=[\"trading days\"])"
   ]
  },
  {
   "cell_type": "code",
   "execution_count": 50,
   "metadata": {},
   "outputs": [],
   "source": [
    "#colNames = performance.columns.to_list() + [\"unfavorable\",\"moderate\",\"favorable\"]"
   ]
  },
  {
   "cell_type": "code",
   "execution_count": 51,
   "metadata": {},
   "outputs": [],
   "source": [
    "#performance = performance.reindex(columns=colNames)"
   ]
  },
  {
   "cell_type": "code",
   "execution_count": 229,
   "metadata": {},
   "outputs": [],
   "source": [
    "performance[\"day_mean\"]=daily_return\n",
    "performance[\"sigma\"] = sigma\n",
    "performance[\"sigma_period\"] = sigma * np.sqrt(performance[\"trading days\"])\n",
    "performance[\"skew\"] = skew\n",
    "performance[\"exc_kurtosis\"] = exces_kurtosis\n",
    "performance[\"unfavorable_prob\"] = 10\n",
    "performance[\"moderate_prob\"] = 50\n",
    "performance[\"favorable_prob\"] = 90"
   ]
  },
  {
   "cell_type": "code",
   "execution_count": 191,
   "metadata": {},
   "outputs": [],
   "source": [
    "def scenario_calc(days, day_mean, sigma, skew, exc_kurt, confidence):\n",
    "    '''\n",
    "    days= trading days in the period\n",
    "    day_mean = historical daily return\n",
    "    sigma = historical daily standard deviation\n",
    "    skew = historical daily skeweness\n",
    "    exc_kurt = excess kurtosis (excess over 3)\n",
    "    confidence = percentile 0-100\n",
    "    '''\n",
    "    \n",
    "    #calculate z-scores\n",
    "    if days == 0:\n",
    "        return 1\n",
    "    else:\n",
    "        z = st.norm.ppf(confidence / 100)\n",
    "        z1 = (z**2 - 1) / 6\n",
    "        z2 = (z**3 - 3 * z) / 24\n",
    "        z3 = (2 * z**3 - 5* z) / 36\n",
    "\n",
    "        #calculate return over period\n",
    "        ret = np.exp((day_mean * days) + sigma * np.sqrt(days) * (z + z1 * skew / np.sqrt(days) + z2 * exc_kurt / days\n",
    "                                                         + z3 * skew**2 / days) - (0.5 * sigma**2 * days))\n",
    "        return ret"
   ]
  },
  {
   "cell_type": "code",
   "execution_count": 192,
   "metadata": {},
   "outputs": [
    {
     "data": {
      "text/plain": [
       "1.4029390218336037"
      ]
     },
     "execution_count": 192,
     "metadata": {},
     "output_type": "execute_result"
    }
   ],
   "source": [
    "m = 0.0003389\n",
    "n = 1280\n",
    "sigma = 0.01224357\n",
    "skew = -0.351143435\n",
    "ekurt = 3.528503383\n",
    "scenario_calc(n, m, sigma, skew, ekurt, 50)"
   ]
  },
  {
   "cell_type": "code",
   "execution_count": 230,
   "metadata": {},
   "outputs": [],
   "source": [
    "performance[\"moderate\"] = performance[[\"trading days\",\"day_mean\",\"sigma\",\"skew\",\"exc_kurtosis\", \"moderate_prob\"]].apply(lambda performance: scenario_calc(performance[\"trading days\"], performance[\"day_mean\"],performance[\"sigma\"],performance[\"skew\"], performance[\"exc_kurtosis\"], performance[\"moderate_prob\"]), axis=1)\n",
    "performance[\"unfavorable\"] = performance[[\"trading days\",\"day_mean\",\"sigma\",\"skew\",\"exc_kurtosis\", \"unfavorable_prob\"]].apply(lambda performance: scenario_calc(performance[\"trading days\"], performance[\"day_mean\"],performance[\"sigma\"],performance[\"skew\"], performance[\"exc_kurtosis\"], performance[\"unfavorable_prob\"]), axis=1)\n",
    "performance[\"favorable\"] = performance[[\"trading days\",\"day_mean\",\"sigma\",\"skew\",\"exc_kurtosis\", \"favorable_prob\"]].apply(lambda performance: scenario_calc(performance[\"trading days\"], performance[\"day_mean\"],performance[\"sigma\"],performance[\"skew\"], performance[\"exc_kurtosis\"], performance[\"favorable_prob\"]), axis=1)"
   ]
  },
  {
   "cell_type": "code",
   "execution_count": 231,
   "metadata": {},
   "outputs": [
    {
     "data": {
      "text/html": [
       "<div>\n",
       "<style scoped>\n",
       "    .dataframe tbody tr th:only-of-type {\n",
       "        vertical-align: middle;\n",
       "    }\n",
       "\n",
       "    .dataframe tbody tr th {\n",
       "        vertical-align: top;\n",
       "    }\n",
       "\n",
       "    .dataframe thead th {\n",
       "        text-align: right;\n",
       "    }\n",
       "</style>\n",
       "<table border=\"1\" class=\"dataframe\">\n",
       "  <thead>\n",
       "    <tr style=\"text-align: right;\">\n",
       "      <th></th>\n",
       "      <th>trading days</th>\n",
       "      <th>day_mean</th>\n",
       "      <th>sigma</th>\n",
       "      <th>sigma_period</th>\n",
       "      <th>skew</th>\n",
       "      <th>exc_kurtosis</th>\n",
       "      <th>unfavorable_prob</th>\n",
       "      <th>moderate_prob</th>\n",
       "      <th>favorable_prob</th>\n",
       "      <th>moderate</th>\n",
       "      <th>unfavorable</th>\n",
       "      <th>favorable</th>\n",
       "    </tr>\n",
       "  </thead>\n",
       "  <tbody>\n",
       "    <tr>\n",
       "      <th>0.0</th>\n",
       "      <td>0.0</td>\n",
       "      <td>0.000704</td>\n",
       "      <td>0.012244</td>\n",
       "      <td>0.000000</td>\n",
       "      <td>-0.351143</td>\n",
       "      <td>15.633505</td>\n",
       "      <td>10</td>\n",
       "      <td>50</td>\n",
       "      <td>90</td>\n",
       "      <td>1.000000</td>\n",
       "      <td>1.000000</td>\n",
       "      <td>1.000000</td>\n",
       "    </tr>\n",
       "    <tr>\n",
       "      <th>1.0</th>\n",
       "      <td>21.0</td>\n",
       "      <td>0.000704</td>\n",
       "      <td>0.012244</td>\n",
       "      <td>0.056107</td>\n",
       "      <td>-0.351143</td>\n",
       "      <td>15.633505</td>\n",
       "      <td>10</td>\n",
       "      <td>50</td>\n",
       "      <td>90</td>\n",
       "      <td>1.014031</td>\n",
       "      <td>0.945446</td>\n",
       "      <td>1.085036</td>\n",
       "    </tr>\n",
       "    <tr>\n",
       "      <th>2.0</th>\n",
       "      <td>42.0</td>\n",
       "      <td>0.000704</td>\n",
       "      <td>0.012244</td>\n",
       "      <td>0.079347</td>\n",
       "      <td>-0.351143</td>\n",
       "      <td>15.633505</td>\n",
       "      <td>10</td>\n",
       "      <td>50</td>\n",
       "      <td>90</td>\n",
       "      <td>1.027523</td>\n",
       "      <td>0.929082</td>\n",
       "      <td>1.133723</td>\n",
       "    </tr>\n",
       "    <tr>\n",
       "      <th>3.0</th>\n",
       "      <td>63.0</td>\n",
       "      <td>0.000704</td>\n",
       "      <td>0.012244</td>\n",
       "      <td>0.097180</td>\n",
       "      <td>-0.351143</td>\n",
       "      <td>15.633505</td>\n",
       "      <td>10</td>\n",
       "      <td>50</td>\n",
       "      <td>90</td>\n",
       "      <td>1.041195</td>\n",
       "      <td>0.919808</td>\n",
       "      <td>1.175829</td>\n",
       "    </tr>\n",
       "    <tr>\n",
       "      <th>4.0</th>\n",
       "      <td>84.0</td>\n",
       "      <td>0.000704</td>\n",
       "      <td>0.012244</td>\n",
       "      <td>0.112214</td>\n",
       "      <td>-0.351143</td>\n",
       "      <td>15.633505</td>\n",
       "      <td>10</td>\n",
       "      <td>50</td>\n",
       "      <td>90</td>\n",
       "      <td>1.055048</td>\n",
       "      <td>0.914046</td>\n",
       "      <td>1.214939</td>\n",
       "    </tr>\n",
       "    <tr>\n",
       "      <th>5.0</th>\n",
       "      <td>105.0</td>\n",
       "      <td>0.000704</td>\n",
       "      <td>0.012244</td>\n",
       "      <td>0.125459</td>\n",
       "      <td>-0.351143</td>\n",
       "      <td>15.633505</td>\n",
       "      <td>10</td>\n",
       "      <td>50</td>\n",
       "      <td>90</td>\n",
       "      <td>1.069085</td>\n",
       "      <td>0.910472</td>\n",
       "      <td>1.252380</td>\n",
       "    </tr>\n",
       "    <tr>\n",
       "      <th>6.0</th>\n",
       "      <td>126.0</td>\n",
       "      <td>0.000704</td>\n",
       "      <td>0.012244</td>\n",
       "      <td>0.137434</td>\n",
       "      <td>-0.351143</td>\n",
       "      <td>15.633505</td>\n",
       "      <td>10</td>\n",
       "      <td>50</td>\n",
       "      <td>90</td>\n",
       "      <td>1.083310</td>\n",
       "      <td>0.908428</td>\n",
       "      <td>1.288821</td>\n",
       "    </tr>\n",
       "  </tbody>\n",
       "</table>\n",
       "</div>"
      ],
      "text/plain": [
       "     trading days  day_mean     sigma  sigma_period      skew  exc_kurtosis  \\\n",
       "0.0           0.0  0.000704  0.012244      0.000000 -0.351143     15.633505   \n",
       "1.0          21.0  0.000704  0.012244      0.056107 -0.351143     15.633505   \n",
       "2.0          42.0  0.000704  0.012244      0.079347 -0.351143     15.633505   \n",
       "3.0          63.0  0.000704  0.012244      0.097180 -0.351143     15.633505   \n",
       "4.0          84.0  0.000704  0.012244      0.112214 -0.351143     15.633505   \n",
       "5.0         105.0  0.000704  0.012244      0.125459 -0.351143     15.633505   \n",
       "6.0         126.0  0.000704  0.012244      0.137434 -0.351143     15.633505   \n",
       "\n",
       "     unfavorable_prob  moderate_prob  favorable_prob  moderate  unfavorable  \\\n",
       "0.0                10             50              90  1.000000     1.000000   \n",
       "1.0                10             50              90  1.014031     0.945446   \n",
       "2.0                10             50              90  1.027523     0.929082   \n",
       "3.0                10             50              90  1.041195     0.919808   \n",
       "4.0                10             50              90  1.055048     0.914046   \n",
       "5.0                10             50              90  1.069085     0.910472   \n",
       "6.0                10             50              90  1.083310     0.908428   \n",
       "\n",
       "     favorable  \n",
       "0.0   1.000000  \n",
       "1.0   1.085036  \n",
       "2.0   1.133723  \n",
       "3.0   1.175829  \n",
       "4.0   1.214939  \n",
       "5.0   1.252380  \n",
       "6.0   1.288821  "
      ]
     },
     "execution_count": 231,
     "metadata": {},
     "output_type": "execute_result"
    }
   ],
   "source": [
    "performance"
   ]
  },
  {
   "cell_type": "code",
   "execution_count": 232,
   "metadata": {},
   "outputs": [
    {
     "data": {
      "image/png": "[encoded data removed]",
      "text/plain": [
       "<Figure size 1008x576 with 1 Axes>"
      ]
     },
     "metadata": {
      "needs_background": "light"
     },
     "output_type": "display_data"
    }
   ],
   "source": [
    "fig, ax = plt.subplots(figsize=(14,8))\n",
    "ax = plt.plot(performance[\"moderate\"], color=\"blue\")\n",
    "ax = plt.plot(performance[\"unfavorable\"], color=\"red\")\n",
    "ax = plt.plot(performance[\"favorable\"], color=\"green\")"
   ]
  },
  {
   "cell_type": "code",
   "execution_count": 233,
   "metadata": {},
   "outputs": [],
   "source": [
    "money_perf = performance[[\"unfavorable\",\"moderate\",\"favorable\"]].copy()"
   ]
  },
  {
   "cell_type": "code",
   "execution_count": 234,
   "metadata": {},
   "outputs": [
    {
     "data": {
      "text/html": [
       "<div>\n",
       "<style scoped>\n",
       "    .dataframe tbody tr th:only-of-type {\n",
       "        vertical-align: middle;\n",
       "    }\n",
       "\n",
       "    .dataframe tbody tr th {\n",
       "        vertical-align: top;\n",
       "    }\n",
       "\n",
       "    .dataframe thead th {\n",
       "        text-align: right;\n",
       "    }\n",
       "</style>\n",
       "<table border=\"1\" class=\"dataframe\">\n",
       "  <thead>\n",
       "    <tr style=\"text-align: right;\">\n",
       "      <th></th>\n",
       "      <th>unfavorable</th>\n",
       "      <th>moderate</th>\n",
       "      <th>favorable</th>\n",
       "    </tr>\n",
       "  </thead>\n",
       "  <tbody>\n",
       "    <tr>\n",
       "      <th>0.0</th>\n",
       "      <td>1.000000</td>\n",
       "      <td>1.000000</td>\n",
       "      <td>1.000000</td>\n",
       "    </tr>\n",
       "    <tr>\n",
       "      <th>1.0</th>\n",
       "      <td>0.945446</td>\n",
       "      <td>1.014031</td>\n",
       "      <td>1.085036</td>\n",
       "    </tr>\n",
       "    <tr>\n",
       "      <th>2.0</th>\n",
       "      <td>0.929082</td>\n",
       "      <td>1.027523</td>\n",
       "      <td>1.133723</td>\n",
       "    </tr>\n",
       "    <tr>\n",
       "      <th>3.0</th>\n",
       "      <td>0.919808</td>\n",
       "      <td>1.041195</td>\n",
       "      <td>1.175829</td>\n",
       "    </tr>\n",
       "    <tr>\n",
       "      <th>4.0</th>\n",
       "      <td>0.914046</td>\n",
       "      <td>1.055048</td>\n",
       "      <td>1.214939</td>\n",
       "    </tr>\n",
       "    <tr>\n",
       "      <th>5.0</th>\n",
       "      <td>0.910472</td>\n",
       "      <td>1.069085</td>\n",
       "      <td>1.252380</td>\n",
       "    </tr>\n",
       "    <tr>\n",
       "      <th>6.0</th>\n",
       "      <td>0.908428</td>\n",
       "      <td>1.083310</td>\n",
       "      <td>1.288821</td>\n",
       "    </tr>\n",
       "  </tbody>\n",
       "</table>\n",
       "</div>"
      ],
      "text/plain": [
       "     unfavorable  moderate  favorable\n",
       "0.0     1.000000  1.000000   1.000000\n",
       "1.0     0.945446  1.014031   1.085036\n",
       "2.0     0.929082  1.027523   1.133723\n",
       "3.0     0.919808  1.041195   1.175829\n",
       "4.0     0.914046  1.055048   1.214939\n",
       "5.0     0.910472  1.069085   1.252380\n",
       "6.0     0.908428  1.083310   1.288821"
      ]
     },
     "execution_count": 234,
     "metadata": {},
     "output_type": "execute_result"
    }
   ],
   "source": [
    "money_perf"
   ]
  },
  {
   "cell_type": "code",
   "execution_count": 235,
   "metadata": {},
   "outputs": [],
   "source": [
    "initial_investment = 150000\n",
    "\n",
    "#money_perf[\"shift\"] = money_perf[\"unfavorable\"].shift(1, fill_value=1)\n",
    "money_perf[\"unfav_bootstrap\"] = money_perf[\"unfavorable\"] / money_perf[\"unfavorable\"].shift(1, fill_value=1)\n",
    "money_perf[\"moderate_bootstrap\"] = money_perf[\"moderate\"] / money_perf[\"moderate\"].shift(1, fill_value=1)\n",
    "money_perf[\"fav_bootstrap\"] = money_perf[\"favorable\"] / money_perf[\"favorable\"].shift(1, fill_value=1)"
   ]
  },
  {
   "cell_type": "code",
   "execution_count": 237,
   "metadata": {},
   "outputs": [
    {
     "data": {
      "text/html": [
       "<div>\n",
       "<style scoped>\n",
       "    .dataframe tbody tr th:only-of-type {\n",
       "        vertical-align: middle;\n",
       "    }\n",
       "\n",
       "    .dataframe tbody tr th {\n",
       "        vertical-align: top;\n",
       "    }\n",
       "\n",
       "    .dataframe thead th {\n",
       "        text-align: right;\n",
       "    }\n",
       "</style>\n",
       "<table border=\"1\" class=\"dataframe\">\n",
       "  <thead>\n",
       "    <tr style=\"text-align: right;\">\n",
       "      <th></th>\n",
       "      <th>unfavorable</th>\n",
       "      <th>moderate</th>\n",
       "      <th>favorable</th>\n",
       "      <th>unfav_bootstrap</th>\n",
       "      <th>moderate_bootstrap</th>\n",
       "      <th>fav_bootstrap</th>\n",
       "    </tr>\n",
       "  </thead>\n",
       "  <tbody>\n",
       "    <tr>\n",
       "      <th>0.0</th>\n",
       "      <td>1.000000</td>\n",
       "      <td>1.000000</td>\n",
       "      <td>1.000000</td>\n",
       "      <td>1.000000</td>\n",
       "      <td>1.000000</td>\n",
       "      <td>1.000000</td>\n",
       "    </tr>\n",
       "    <tr>\n",
       "      <th>1.0</th>\n",
       "      <td>0.945446</td>\n",
       "      <td>1.014031</td>\n",
       "      <td>1.085036</td>\n",
       "      <td>0.945446</td>\n",
       "      <td>1.014031</td>\n",
       "      <td>1.085036</td>\n",
       "    </tr>\n",
       "    <tr>\n",
       "      <th>2.0</th>\n",
       "      <td>0.929082</td>\n",
       "      <td>1.027523</td>\n",
       "      <td>1.133723</td>\n",
       "      <td>0.982692</td>\n",
       "      <td>1.013305</td>\n",
       "      <td>1.044871</td>\n",
       "    </tr>\n",
       "    <tr>\n",
       "      <th>3.0</th>\n",
       "      <td>0.919808</td>\n",
       "      <td>1.041195</td>\n",
       "      <td>1.175829</td>\n",
       "      <td>0.990018</td>\n",
       "      <td>1.013305</td>\n",
       "      <td>1.037140</td>\n",
       "    </tr>\n",
       "    <tr>\n",
       "      <th>4.0</th>\n",
       "      <td>0.914046</td>\n",
       "      <td>1.055048</td>\n",
       "      <td>1.214939</td>\n",
       "      <td>0.993735</td>\n",
       "      <td>1.013305</td>\n",
       "      <td>1.033261</td>\n",
       "    </tr>\n",
       "    <tr>\n",
       "      <th>5.0</th>\n",
       "      <td>0.910472</td>\n",
       "      <td>1.069085</td>\n",
       "      <td>1.252380</td>\n",
       "      <td>0.996090</td>\n",
       "      <td>1.013305</td>\n",
       "      <td>1.030818</td>\n",
       "    </tr>\n",
       "    <tr>\n",
       "      <th>6.0</th>\n",
       "      <td>0.908428</td>\n",
       "      <td>1.083310</td>\n",
       "      <td>1.288821</td>\n",
       "      <td>0.997755</td>\n",
       "      <td>1.013305</td>\n",
       "      <td>1.029097</td>\n",
       "    </tr>\n",
       "  </tbody>\n",
       "</table>\n",
       "</div>"
      ],
      "text/plain": [
       "     unfavorable  moderate  favorable  unfav_bootstrap  moderate_bootstrap  \\\n",
       "0.0     1.000000  1.000000   1.000000         1.000000            1.000000   \n",
       "1.0     0.945446  1.014031   1.085036         0.945446            1.014031   \n",
       "2.0     0.929082  1.027523   1.133723         0.982692            1.013305   \n",
       "3.0     0.919808  1.041195   1.175829         0.990018            1.013305   \n",
       "4.0     0.914046  1.055048   1.214939         0.993735            1.013305   \n",
       "5.0     0.910472  1.069085   1.252380         0.996090            1.013305   \n",
       "6.0     0.908428  1.083310   1.288821         0.997755            1.013305   \n",
       "\n",
       "     fav_bootstrap  \n",
       "0.0       1.000000  \n",
       "1.0       1.085036  \n",
       "2.0       1.044871  \n",
       "3.0       1.037140  \n",
       "4.0       1.033261  \n",
       "5.0       1.030818  \n",
       "6.0       1.029097  "
      ]
     },
     "execution_count": 237,
     "metadata": {},
     "output_type": "execute_result"
    }
   ],
   "source": [
    "money_perf"
   ]
  },
  {
   "cell_type": "code",
   "execution_count": 291,
   "metadata": {},
   "outputs": [],
   "source": [
    "def monthly_matrix(lenght, value):\n",
    "    monthly = []\n",
    "\n",
    "    for i in range(0,lenght):\n",
    "        row = []\n",
    "        for j in range(0, lenght):\n",
    "            if j == i and (i > 0 and i < lenght - 1):\n",
    "                row.append(value)\n",
    "            else:\n",
    "                row.append(np.nan)   \n",
    "        monthly.append(row)\n",
    "    return monthly"
   ]
  },
  {
   "cell_type": "code",
   "execution_count": 292,
   "metadata": {},
   "outputs": [
    {
     "data": {
      "text/plain": [
       "array([[nan, nan, nan, nan, nan, nan, nan],\n",
       "       [nan, 30., nan, nan, nan, nan, nan],\n",
       "       [nan, nan, 30., nan, nan, nan, nan],\n",
       "       [nan, nan, nan, 30., nan, nan, nan],\n",
       "       [nan, nan, nan, nan, 30., nan, nan],\n",
       "       [nan, nan, nan, nan, nan, 30., nan],\n",
       "       [nan, nan, nan, nan, nan, nan, nan]])"
      ]
     },
     "execution_count": 292,
     "metadata": {},
     "output_type": "execute_result"
    }
   ],
   "source": [
    "month = np.array(monthly_matrix(7,30))\n",
    "month"
   ]
  },
  {
   "cell_type": "code",
   "execution_count": 293,
   "metadata": {},
   "outputs": [],
   "source": [
    "monthly_investment = pd.DataFrame(month) "
   ]
  },
  {
   "cell_type": "code",
   "execution_count": 296,
   "metadata": {},
   "outputs": [],
   "source": [
    "monthly_investment.dropna(axis=1, how=\"all\", inplace=True)"
   ]
  },
  {
   "cell_type": "code",
   "execution_count": 297,
   "metadata": {},
   "outputs": [
    {
     "data": {
      "text/html": [
       "<div>\n",
       "<style scoped>\n",
       "    .dataframe tbody tr th:only-of-type {\n",
       "        vertical-align: middle;\n",
       "    }\n",
       "\n",
       "    .dataframe tbody tr th {\n",
       "        vertical-align: top;\n",
       "    }\n",
       "\n",
       "    .dataframe thead th {\n",
       "        text-align: right;\n",
       "    }\n",
       "</style>\n",
       "<table border=\"1\" class=\"dataframe\">\n",
       "  <thead>\n",
       "    <tr style=\"text-align: right;\">\n",
       "      <th></th>\n",
       "      <th>unfavorable</th>\n",
       "      <th>moderate</th>\n",
       "      <th>favorable</th>\n",
       "      <th>unfav_bootstrap</th>\n",
       "      <th>moderate_bootstrap</th>\n",
       "      <th>fav_bootstrap</th>\n",
       "      <th>1</th>\n",
       "      <th>2</th>\n",
       "      <th>3</th>\n",
       "      <th>4</th>\n",
       "      <th>5</th>\n",
       "    </tr>\n",
       "  </thead>\n",
       "  <tbody>\n",
       "    <tr>\n",
       "      <th>0.0</th>\n",
       "      <td>1.000000</td>\n",
       "      <td>1.000000</td>\n",
       "      <td>1.000000</td>\n",
       "      <td>1.000000</td>\n",
       "      <td>1.000000</td>\n",
       "      <td>1.000000</td>\n",
       "      <td>NaN</td>\n",
       "      <td>NaN</td>\n",
       "      <td>NaN</td>\n",
       "      <td>NaN</td>\n",
       "      <td>NaN</td>\n",
       "    </tr>\n",
       "    <tr>\n",
       "      <th>1.0</th>\n",
       "      <td>0.945446</td>\n",
       "      <td>1.014031</td>\n",
       "      <td>1.085036</td>\n",
       "      <td>0.945446</td>\n",
       "      <td>1.014031</td>\n",
       "      <td>1.085036</td>\n",
       "      <td>30.0</td>\n",
       "      <td>NaN</td>\n",
       "      <td>NaN</td>\n",
       "      <td>NaN</td>\n",
       "      <td>NaN</td>\n",
       "    </tr>\n",
       "    <tr>\n",
       "      <th>2.0</th>\n",
       "      <td>0.929082</td>\n",
       "      <td>1.027523</td>\n",
       "      <td>1.133723</td>\n",
       "      <td>0.982692</td>\n",
       "      <td>1.013305</td>\n",
       "      <td>1.044871</td>\n",
       "      <td>NaN</td>\n",
       "      <td>30.0</td>\n",
       "      <td>NaN</td>\n",
       "      <td>NaN</td>\n",
       "      <td>NaN</td>\n",
       "    </tr>\n",
       "    <tr>\n",
       "      <th>3.0</th>\n",
       "      <td>0.919808</td>\n",
       "      <td>1.041195</td>\n",
       "      <td>1.175829</td>\n",
       "      <td>0.990018</td>\n",
       "      <td>1.013305</td>\n",
       "      <td>1.037140</td>\n",
       "      <td>NaN</td>\n",
       "      <td>NaN</td>\n",
       "      <td>30.0</td>\n",
       "      <td>NaN</td>\n",
       "      <td>NaN</td>\n",
       "    </tr>\n",
       "    <tr>\n",
       "      <th>4.0</th>\n",
       "      <td>0.914046</td>\n",
       "      <td>1.055048</td>\n",
       "      <td>1.214939</td>\n",
       "      <td>0.993735</td>\n",
       "      <td>1.013305</td>\n",
       "      <td>1.033261</td>\n",
       "      <td>NaN</td>\n",
       "      <td>NaN</td>\n",
       "      <td>NaN</td>\n",
       "      <td>30.0</td>\n",
       "      <td>NaN</td>\n",
       "    </tr>\n",
       "    <tr>\n",
       "      <th>5.0</th>\n",
       "      <td>0.910472</td>\n",
       "      <td>1.069085</td>\n",
       "      <td>1.252380</td>\n",
       "      <td>0.996090</td>\n",
       "      <td>1.013305</td>\n",
       "      <td>1.030818</td>\n",
       "      <td>NaN</td>\n",
       "      <td>NaN</td>\n",
       "      <td>NaN</td>\n",
       "      <td>NaN</td>\n",
       "      <td>30.0</td>\n",
       "    </tr>\n",
       "    <tr>\n",
       "      <th>6.0</th>\n",
       "      <td>0.908428</td>\n",
       "      <td>1.083310</td>\n",
       "      <td>1.288821</td>\n",
       "      <td>0.997755</td>\n",
       "      <td>1.013305</td>\n",
       "      <td>1.029097</td>\n",
       "      <td>NaN</td>\n",
       "      <td>NaN</td>\n",
       "      <td>NaN</td>\n",
       "      <td>NaN</td>\n",
       "      <td>NaN</td>\n",
       "    </tr>\n",
       "  </tbody>\n",
       "</table>\n",
       "</div>"
      ],
      "text/plain": [
       "     unfavorable  moderate  favorable  unfav_bootstrap  moderate_bootstrap  \\\n",
       "0.0     1.000000  1.000000   1.000000         1.000000            1.000000   \n",
       "1.0     0.945446  1.014031   1.085036         0.945446            1.014031   \n",
       "2.0     0.929082  1.027523   1.133723         0.982692            1.013305   \n",
       "3.0     0.919808  1.041195   1.175829         0.990018            1.013305   \n",
       "4.0     0.914046  1.055048   1.214939         0.993735            1.013305   \n",
       "5.0     0.910472  1.069085   1.252380         0.996090            1.013305   \n",
       "6.0     0.908428  1.083310   1.288821         0.997755            1.013305   \n",
       "\n",
       "     fav_bootstrap     1     2     3     4     5  \n",
       "0.0       1.000000   NaN   NaN   NaN   NaN   NaN  \n",
       "1.0       1.085036  30.0   NaN   NaN   NaN   NaN  \n",
       "2.0       1.044871   NaN  30.0   NaN   NaN   NaN  \n",
       "3.0       1.037140   NaN   NaN  30.0   NaN   NaN  \n",
       "4.0       1.033261   NaN   NaN   NaN  30.0   NaN  \n",
       "5.0       1.030818   NaN   NaN   NaN   NaN  30.0  \n",
       "6.0       1.029097   NaN   NaN   NaN   NaN   NaN  "
      ]
     },
     "execution_count": 297,
     "metadata": {},
     "output_type": "execute_result"
    }
   ],
   "source": [
    "pd.concat([money_perf,monthly_investment],axis=1)"
   ]
  },
  {
   "cell_type": "code",
   "execution_count": null,
   "metadata": {},
   "outputs": [],
   "source": []
  }
 ],
 "metadata": {
  "kernelspec": {
   "display_name": "Python 3",
   "language": "python",
   "name": "python3"
  },
  "language_info": {
   "codemirror_mode": {
    "name": "ipython",
    "version": 3
   },
   "file_extension": ".py",
   "mimetype": "text/x-python",
   "name": "python",
   "nbconvert_exporter": "python",
   "pygments_lexer": "ipython3",
   "version": "3.8.5"
  }
 },
 "nbformat": 4,
 "nbformat_minor": 4
}
