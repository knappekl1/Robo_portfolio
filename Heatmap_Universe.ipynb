{
 "cells": [
  {
   "cell_type": "code",
   "execution_count": 1,
   "id": "cf389d56",
   "metadata": {},
   "outputs": [],
   "source": [
    "import yfinance as yf\n",
    "import pandas as pd\n",
    "import matplotlib.pyplot as plt\n",
    "import seaborn as sns"
   ]
  },
  {
   "cell_type": "code",
   "execution_count": 2,
   "id": "14e2e665",
   "metadata": {},
   "outputs": [],
   "source": [
    "universe = pd.read_csv(\"Investment_Universe.csv\", delimiter=\";\")"
   ]
  },
  {
   "cell_type": "code",
   "execution_count": 3,
   "id": "cdb7321e",
   "metadata": {},
   "outputs": [],
   "source": [
    "equity = universe[universe[\"MainClass\"] == \"Equity\"].copy()"
   ]
  },
  {
   "cell_type": "code",
   "execution_count": 4,
   "id": "5e39116e",
   "metadata": {},
   "outputs": [],
   "source": [
    "tickers_equity = list(equity[\"Ticker\"])"
   ]
  },
  {
   "cell_type": "code",
   "execution_count": 29,
   "id": "0bb28365",
   "metadata": {},
   "outputs": [
    {
     "name": "stdout",
     "output_type": "stream",
     "text": [
      "[*********************100%***********************]  13 of 13 completed\n"
     ]
    }
   ],
   "source": [
    "tickers_equity_data = yf.download(tickers=tickers_equity,start=\"2016-06-30\", end=\"2021-06-30\")\n"
   ]
  },
  {
   "cell_type": "code",
   "execution_count": 30,
   "id": "d074cd79",
   "metadata": {},
   "outputs": [],
   "source": [
    "equity_adjClose = tickers_equity_data[\"Adj Close\"].copy()"
   ]
  },
  {
   "cell_type": "code",
   "execution_count": 31,
   "id": "b152c1e2",
   "metadata": {},
   "outputs": [
    {
     "data": {
      "text/plain": [
       "ALAT.PA       0.389712\n",
       "CECD.L        4.442712\n",
       "CEMA.L        1.558846\n",
       "CES1.L        9.664848\n",
       "CJPU.L        2.961808\n",
       "CSINDU.SW    75.604053\n",
       "CSPX.L        1.402962\n",
       "EMUL.SW      14.341387\n",
       "IJPE.L        1.402962\n",
       "ISJP.L        1.402962\n",
       "ISP6.L        1.402962\n",
       "MEUD.L        3.663289\n",
       "PAF.L         1.402962\n",
       "dtype: float64"
      ]
     },
     "execution_count": 31,
     "metadata": {},
     "output_type": "execute_result"
    }
   ],
   "source": [
    "equity_adjClose.isna().sum()/len(equity_adjClose) *100"
   ]
  },
  {
   "cell_type": "code",
   "execution_count": 40,
   "id": "9f47ef07",
   "metadata": {},
   "outputs": [
    {
     "data": {
      "text/html": [
       "<div>\n",
       "<style scoped>\n",
       "    .dataframe tbody tr th:only-of-type {\n",
       "        vertical-align: middle;\n",
       "    }\n",
       "\n",
       "    .dataframe tbody tr th {\n",
       "        vertical-align: top;\n",
       "    }\n",
       "\n",
       "    .dataframe thead th {\n",
       "        text-align: right;\n",
       "    }\n",
       "</style>\n",
       "<table border=\"1\" class=\"dataframe\">\n",
       "  <thead>\n",
       "    <tr style=\"text-align: right;\">\n",
       "      <th></th>\n",
       "      <th>ALAT.PA</th>\n",
       "      <th>CECD.L</th>\n",
       "      <th>CEMA.L</th>\n",
       "      <th>CES1.L</th>\n",
       "      <th>CJPU.L</th>\n",
       "      <th>CSINDU.SW</th>\n",
       "      <th>CSPX.L</th>\n",
       "      <th>EMUL.SW</th>\n",
       "      <th>IJPE.L</th>\n",
       "      <th>ISJP.L</th>\n",
       "      <th>ISP6.L</th>\n",
       "      <th>MEUD.L</th>\n",
       "      <th>PAF.L</th>\n",
       "    </tr>\n",
       "    <tr>\n",
       "      <th>Date</th>\n",
       "      <th></th>\n",
       "      <th></th>\n",
       "      <th></th>\n",
       "      <th></th>\n",
       "      <th></th>\n",
       "      <th></th>\n",
       "      <th></th>\n",
       "      <th></th>\n",
       "      <th></th>\n",
       "      <th></th>\n",
       "      <th></th>\n",
       "      <th></th>\n",
       "      <th></th>\n",
       "    </tr>\n",
       "  </thead>\n",
       "  <tbody>\n",
       "    <tr>\n",
       "      <th>2016-06-29</th>\n",
       "      <td>NaN</td>\n",
       "      <td>14.640600</td>\n",
       "      <td>106.459999</td>\n",
       "      <td>14412.0</td>\n",
       "      <td>117.120003</td>\n",
       "      <td>NaN</td>\n",
       "      <td>193.660004</td>\n",
       "      <td>NaN</td>\n",
       "      <td>36.160000</td>\n",
       "      <td>2417.750000</td>\n",
       "      <td>3416.000000</td>\n",
       "      <td>9920.0</td>\n",
       "      <td>16.108658</td>\n",
       "    </tr>\n",
       "    <tr>\n",
       "      <th>2016-12-28</th>\n",
       "      <td>NaN</td>\n",
       "      <td>17.257799</td>\n",
       "      <td>109.220001</td>\n",
       "      <td>16376.5</td>\n",
       "      <td>126.529999</td>\n",
       "      <td>NaN</td>\n",
       "      <td>214.160004</td>\n",
       "      <td>32.119999</td>\n",
       "      <td>44.419998</td>\n",
       "      <td>2794.000000</td>\n",
       "      <td>4627.500000</td>\n",
       "      <td>11465.0</td>\n",
       "      <td>13.687106</td>\n",
       "    </tr>\n",
       "    <tr>\n",
       "      <th>2018-05-01</th>\n",
       "      <td>NaN</td>\n",
       "      <td>NaN</td>\n",
       "      <td>155.110001</td>\n",
       "      <td>20673.0</td>\n",
       "      <td>156.419998</td>\n",
       "      <td>NaN</td>\n",
       "      <td>254.649994</td>\n",
       "      <td>NaN</td>\n",
       "      <td>50.669998</td>\n",
       "      <td>3264.500000</td>\n",
       "      <td>4614.500000</td>\n",
       "      <td>13160.0</td>\n",
       "      <td>6.859357</td>\n",
       "    </tr>\n",
       "    <tr>\n",
       "      <th>2019-05-01</th>\n",
       "      <td>NaN</td>\n",
       "      <td>24.240000</td>\n",
       "      <td>149.520004</td>\n",
       "      <td>20127.5</td>\n",
       "      <td>145.740005</td>\n",
       "      <td>NaN</td>\n",
       "      <td>289.910004</td>\n",
       "      <td>NaN</td>\n",
       "      <td>47.384998</td>\n",
       "      <td>2987.000000</td>\n",
       "      <td>4967.000000</td>\n",
       "      <td>13483.0</td>\n",
       "      <td>8.770589</td>\n",
       "    </tr>\n",
       "    <tr>\n",
       "      <th>2020-05-01</th>\n",
       "      <td>NaN</td>\n",
       "      <td>15.579000</td>\n",
       "      <td>133.044998</td>\n",
       "      <td>16872.0</td>\n",
       "      <td>136.610001</td>\n",
       "      <td>NaN</td>\n",
       "      <td>283.929993</td>\n",
       "      <td>NaN</td>\n",
       "      <td>42.125000</td>\n",
       "      <td>27.889999</td>\n",
       "      <td>39.310001</td>\n",
       "      <td>11999.0</td>\n",
       "      <td>13.105481</td>\n",
       "    </tr>\n",
       "  </tbody>\n",
       "</table>\n",
       "</div>"
      ],
      "text/plain": [
       "            ALAT.PA     CECD.L      CEMA.L   CES1.L      CJPU.L  CSINDU.SW  \\\n",
       "Date                                                                         \n",
       "2016-06-29      NaN  14.640600  106.459999  14412.0  117.120003        NaN   \n",
       "2016-12-28      NaN  17.257799  109.220001  16376.5  126.529999        NaN   \n",
       "2018-05-01      NaN        NaN  155.110001  20673.0  156.419998        NaN   \n",
       "2019-05-01      NaN  24.240000  149.520004  20127.5  145.740005        NaN   \n",
       "2020-05-01      NaN  15.579000  133.044998  16872.0  136.610001        NaN   \n",
       "\n",
       "                CSPX.L    EMUL.SW     IJPE.L       ISJP.L       ISP6.L  \\\n",
       "Date                                                                     \n",
       "2016-06-29  193.660004        NaN  36.160000  2417.750000  3416.000000   \n",
       "2016-12-28  214.160004  32.119999  44.419998  2794.000000  4627.500000   \n",
       "2018-05-01  254.649994        NaN  50.669998  3264.500000  4614.500000   \n",
       "2019-05-01  289.910004        NaN  47.384998  2987.000000  4967.000000   \n",
       "2020-05-01  283.929993        NaN  42.125000    27.889999    39.310001   \n",
       "\n",
       "             MEUD.L      PAF.L  \n",
       "Date                            \n",
       "2016-06-29   9920.0  16.108658  \n",
       "2016-12-28  11465.0  13.687106  \n",
       "2018-05-01  13160.0   6.859357  \n",
       "2019-05-01  13483.0   8.770589  \n",
       "2020-05-01  11999.0  13.105481  "
      ]
     },
     "execution_count": 40,
     "metadata": {},
     "output_type": "execute_result"
    }
   ],
   "source": [
    "equity_adjClose[equity_adjClose[\"ALAT.PA\"].isna()].tail()"
   ]
  },
  {
   "cell_type": "code",
   "execution_count": null,
   "id": "cd19cdec",
   "metadata": {},
   "outputs": [],
   "source": []
  }
 ],
 "metadata": {
  "kernelspec": {
   "display_name": "Python 3",
   "language": "python",
   "name": "python3"
  },
  "language_info": {
   "codemirror_mode": {
    "name": "ipython",
    "version": 3
   },
   "file_extension": ".py",
   "mimetype": "text/x-python",
   "name": "python",
   "nbconvert_exporter": "python",
   "pygments_lexer": "ipython3",
   "version": "3.9.1"
  }
 },
 "nbformat": 4,
 "nbformat_minor": 5
}
