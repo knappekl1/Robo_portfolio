{
 "cells": [
  {
   "cell_type": "code",
   "execution_count": 12,
   "id": "cf389d56",
   "metadata": {},
   "outputs": [],
   "source": [
    "import numpy as np\n",
    "import yfinance as yf\n",
    "import pandas as pd\n",
    "import matplotlib.pyplot as plt\n",
    "import seaborn as sns"
   ]
  },
  {
   "cell_type": "code",
   "execution_count": 2,
   "id": "14e2e665",
   "metadata": {},
   "outputs": [],
   "source": [
    "universe = pd.read_csv(\"Investment_Universe.csv\", delimiter=\";\")"
   ]
  },
  {
   "cell_type": "code",
   "execution_count": 3,
   "id": "cdb7321e",
   "metadata": {},
   "outputs": [],
   "source": [
    "equity = universe[universe[\"MainClass\"] == \"Equity\"].copy()"
   ]
  },
  {
   "cell_type": "code",
   "execution_count": 4,
   "id": "5e39116e",
   "metadata": {},
   "outputs": [],
   "source": [
    "tickers_equity = list(equity[\"Ticker\"])"
   ]
  },
  {
   "cell_type": "code",
   "execution_count": 28,
   "id": "0bb28365",
   "metadata": {},
   "outputs": [
    {
     "name": "stdout",
     "output_type": "stream",
     "text": [
      "[*********************100%***********************]  13 of 13 completed\n"
     ]
    }
   ],
   "source": [
    "tickers_equity_data = yf.download(tickers=tickers_equity,start=\"2016-07-01\", end=\"2021-07-01\")\n"
   ]
  },
  {
   "cell_type": "code",
   "execution_count": 60,
   "id": "d074cd79",
   "metadata": {},
   "outputs": [],
   "source": [
    "equity_adjClose = tickers_equity_data[\"Close\"].copy()"
   ]
  },
  {
   "cell_type": "code",
   "execution_count": 49,
   "id": "dcaa858b",
   "metadata": {},
   "outputs": [],
   "source": [
    "#equity_adjClose.to_csv(\"tickers_yahoo.csv\",index=True)"
   ]
  },
  {
   "cell_type": "code",
   "execution_count": 61,
   "id": "b152c1e2",
   "metadata": {},
   "outputs": [
    {
     "data": {
      "text/plain": [
       "ALAT.PA       0.389712\n",
       "CECD.L        4.520655\n",
       "CEMA.L        1.558846\n",
       "CES1.L        9.742790\n",
       "CJPU.L        2.961808\n",
       "CSINDU.SW    75.526111\n",
       "CSPX.L        1.402962\n",
       "EMUL.SW      14.341387\n",
       "IJPE.L        1.402962\n",
       "ISJP.L        1.402962\n",
       "ISP6.L        1.402962\n",
       "MEUD.L        3.663289\n",
       "PAF.L         1.402962\n",
       "dtype: float64"
      ]
     },
     "execution_count": 61,
     "metadata": {},
     "output_type": "execute_result"
    }
   ],
   "source": [
    "equity_adjClose.isna().sum()/len(equity_adjClose) *100"
   ]
  },
  {
   "cell_type": "code",
   "execution_count": 32,
   "id": "a5a96de7",
   "metadata": {},
   "outputs": [],
   "source": [
    "bloom_data = pd.read_excel(\"EFTs Bloomberg.xlsx\",sheet_name=\"Sheet1\", index_col=0, parse_dates=True)"
   ]
  },
  {
   "cell_type": "code",
   "execution_count": 62,
   "id": "190266d1",
   "metadata": {},
   "outputs": [
    {
     "data": {
      "text/plain": [
       "1305"
      ]
     },
     "execution_count": 62,
     "metadata": {},
     "output_type": "execute_result"
    }
   ],
   "source": [
    "len(bloom_data)"
   ]
  },
  {
   "cell_type": "code",
   "execution_count": 63,
   "id": "d79104d8",
   "metadata": {},
   "outputs": [
    {
     "data": {
      "text/plain": [
       "1283"
      ]
     },
     "execution_count": 63,
     "metadata": {},
     "output_type": "execute_result"
    }
   ],
   "source": [
    "len(equity_adjClose.index)"
   ]
  },
  {
   "cell_type": "code",
   "execution_count": 64,
   "id": "bfe76964",
   "metadata": {},
   "outputs": [],
   "source": [
    "bloom_data.columns = ['CSEMUS.SW_B', 'CSINDU.SW_B', 'EMUL.SW_B', 'CECD.LN_B']"
   ]
  },
  {
   "cell_type": "code",
   "execution_count": 65,
   "id": "62607dc1",
   "metadata": {},
   "outputs": [],
   "source": [
    "equity_all = pd.merge(equity_adjClose,bloom_data,how=\"left\", left_index=True, right_index=True)"
   ]
  },
  {
   "cell_type": "code",
   "execution_count": 66,
   "id": "4bd8ae9b",
   "metadata": {},
   "outputs": [
    {
     "data": {
      "text/plain": [
       "1283"
      ]
     },
     "execution_count": 66,
     "metadata": {},
     "output_type": "execute_result"
    }
   ],
   "source": [
    "len(equity_all)"
   ]
  },
  {
   "cell_type": "code",
   "execution_count": 67,
   "id": "e6f89143",
   "metadata": {},
   "outputs": [
    {
     "data": {
      "text/plain": [
       "ALAT.PA         0.389712\n",
       "CECD.L          4.520655\n",
       "CEMA.L          1.558846\n",
       "CES1.L          9.742790\n",
       "CJPU.L          2.961808\n",
       "CSINDU.SW      75.526111\n",
       "CSPX.L          1.402962\n",
       "EMUL.SW        14.341387\n",
       "IJPE.L          1.402962\n",
       "ISJP.L          1.402962\n",
       "ISP6.L          1.402962\n",
       "MEUD.L          3.663289\n",
       "PAF.L           1.402962\n",
       "CSEMUS.SW_B     0.000000\n",
       "CSINDU.SW_B     0.000000\n",
       "EMUL.SW_B       0.000000\n",
       "CECD.LN_B       0.000000\n",
       "dtype: float64"
      ]
     },
     "execution_count": 67,
     "metadata": {},
     "output_type": "execute_result"
    }
   ],
   "source": [
    "equity_all.isna().sum()/len(equity_all) *100"
   ]
  },
  {
   "cell_type": "code",
   "execution_count": 68,
   "id": "c454be2c",
   "metadata": {},
   "outputs": [],
   "source": [
    "equity_all.drop([\"CES1.L\",\"CSINDU.SW\",\"EMUL.SW\",\"CECD.L\"],axis=1,inplace=True)"
   ]
  },
  {
   "cell_type": "code",
   "execution_count": 70,
   "id": "6f64aa15",
   "metadata": {},
   "outputs": [],
   "source": [
    "#equity_all.to_csv(\"tickers_merged.csv\",index=True)"
   ]
  },
  {
   "cell_type": "code",
   "execution_count": 71,
   "id": "a0b796e6",
   "metadata": {},
   "outputs": [
    {
     "data": {
      "text/html": [
       "<div>\n",
       "<style scoped>\n",
       "    .dataframe tbody tr th:only-of-type {\n",
       "        vertical-align: middle;\n",
       "    }\n",
       "\n",
       "    .dataframe tbody tr th {\n",
       "        vertical-align: top;\n",
       "    }\n",
       "\n",
       "    .dataframe thead th {\n",
       "        text-align: right;\n",
       "    }\n",
       "</style>\n",
       "<table border=\"1\" class=\"dataframe\">\n",
       "  <thead>\n",
       "    <tr style=\"text-align: right;\">\n",
       "      <th></th>\n",
       "      <th>ALAT.PA</th>\n",
       "      <th>CEMA.L</th>\n",
       "      <th>CJPU.L</th>\n",
       "      <th>CSPX.L</th>\n",
       "      <th>IJPE.L</th>\n",
       "      <th>ISJP.L</th>\n",
       "      <th>ISP6.L</th>\n",
       "      <th>MEUD.L</th>\n",
       "      <th>PAF.L</th>\n",
       "      <th>CSEMUS.SW_B</th>\n",
       "      <th>CSINDU.SW_B</th>\n",
       "      <th>EMUL.SW_B</th>\n",
       "      <th>CECD.LN_B</th>\n",
       "    </tr>\n",
       "    <tr>\n",
       "      <th>Date</th>\n",
       "      <th></th>\n",
       "      <th></th>\n",
       "      <th></th>\n",
       "      <th></th>\n",
       "      <th></th>\n",
       "      <th></th>\n",
       "      <th></th>\n",
       "      <th></th>\n",
       "      <th></th>\n",
       "      <th></th>\n",
       "      <th></th>\n",
       "      <th></th>\n",
       "      <th></th>\n",
       "    </tr>\n",
       "  </thead>\n",
       "  <tbody>\n",
       "    <tr>\n",
       "      <th>2016-06-30</th>\n",
       "      <td>NaN</td>\n",
       "      <td>107.129997</td>\n",
       "      <td>117.120003</td>\n",
       "      <td>195.354996</td>\n",
       "      <td>35.810001</td>\n",
       "      <td>2451.500000</td>\n",
       "      <td>3513.000000</td>\n",
       "      <td>10208.0</td>\n",
       "      <td>19.000</td>\n",
       "      <td>145.35</td>\n",
       "      <td>186.32</td>\n",
       "      <td>27.630</td>\n",
       "      <td>16.333</td>\n",
       "    </tr>\n",
       "    <tr>\n",
       "      <th>2016-12-28</th>\n",
       "      <td>NaN</td>\n",
       "      <td>109.220001</td>\n",
       "      <td>126.529999</td>\n",
       "      <td>214.160004</td>\n",
       "      <td>44.419998</td>\n",
       "      <td>2794.000000</td>\n",
       "      <td>4627.500000</td>\n",
       "      <td>11465.0</td>\n",
       "      <td>14.750</td>\n",
       "      <td>163.74</td>\n",
       "      <td>210.84</td>\n",
       "      <td>32.120</td>\n",
       "      <td>17.893</td>\n",
       "    </tr>\n",
       "    <tr>\n",
       "      <th>2018-05-01</th>\n",
       "      <td>NaN</td>\n",
       "      <td>155.110001</td>\n",
       "      <td>156.419998</td>\n",
       "      <td>254.649994</td>\n",
       "      <td>50.669998</td>\n",
       "      <td>3264.500000</td>\n",
       "      <td>4614.500000</td>\n",
       "      <td>13160.0</td>\n",
       "      <td>7.160</td>\n",
       "      <td>207.20</td>\n",
       "      <td>264.70</td>\n",
       "      <td>36.495</td>\n",
       "      <td>25.610</td>\n",
       "    </tr>\n",
       "    <tr>\n",
       "      <th>2019-05-01</th>\n",
       "      <td>NaN</td>\n",
       "      <td>149.520004</td>\n",
       "      <td>145.740005</td>\n",
       "      <td>289.910004</td>\n",
       "      <td>47.384998</td>\n",
       "      <td>2987.000000</td>\n",
       "      <td>4967.000000</td>\n",
       "      <td>13483.0</td>\n",
       "      <td>9.155</td>\n",
       "      <td>200.20</td>\n",
       "      <td>292.65</td>\n",
       "      <td>36.825</td>\n",
       "      <td>24.240</td>\n",
       "    </tr>\n",
       "    <tr>\n",
       "      <th>2020-05-01</th>\n",
       "      <td>NaN</td>\n",
       "      <td>133.044998</td>\n",
       "      <td>136.610001</td>\n",
       "      <td>283.929993</td>\n",
       "      <td>42.125000</td>\n",
       "      <td>27.889999</td>\n",
       "      <td>39.310001</td>\n",
       "      <td>11999.0</td>\n",
       "      <td>13.525</td>\n",
       "      <td>171.94</td>\n",
       "      <td>273.55</td>\n",
       "      <td>32.730</td>\n",
       "      <td>15.579</td>\n",
       "    </tr>\n",
       "  </tbody>\n",
       "</table>\n",
       "</div>"
      ],
      "text/plain": [
       "            ALAT.PA      CEMA.L      CJPU.L      CSPX.L     IJPE.L  \\\n",
       "Date                                                                 \n",
       "2016-06-30      NaN  107.129997  117.120003  195.354996  35.810001   \n",
       "2016-12-28      NaN  109.220001  126.529999  214.160004  44.419998   \n",
       "2018-05-01      NaN  155.110001  156.419998  254.649994  50.669998   \n",
       "2019-05-01      NaN  149.520004  145.740005  289.910004  47.384998   \n",
       "2020-05-01      NaN  133.044998  136.610001  283.929993  42.125000   \n",
       "\n",
       "                 ISJP.L       ISP6.L   MEUD.L   PAF.L  CSEMUS.SW_B  \\\n",
       "Date                                                                 \n",
       "2016-06-30  2451.500000  3513.000000  10208.0  19.000       145.35   \n",
       "2016-12-28  2794.000000  4627.500000  11465.0  14.750       163.74   \n",
       "2018-05-01  3264.500000  4614.500000  13160.0   7.160       207.20   \n",
       "2019-05-01  2987.000000  4967.000000  13483.0   9.155       200.20   \n",
       "2020-05-01    27.889999    39.310001  11999.0  13.525       171.94   \n",
       "\n",
       "            CSINDU.SW_B  EMUL.SW_B  CECD.LN_B  \n",
       "Date                                           \n",
       "2016-06-30       186.32     27.630     16.333  \n",
       "2016-12-28       210.84     32.120     17.893  \n",
       "2018-05-01       264.70     36.495     25.610  \n",
       "2019-05-01       292.65     36.825     24.240  \n",
       "2020-05-01       273.55     32.730     15.579  "
      ]
     },
     "execution_count": 71,
     "metadata": {},
     "output_type": "execute_result"
    }
   ],
   "source": [
    "equity_all[equity_all[\"ALAT.PA\"].isna()]"
   ]
  },
  {
   "cell_type": "code",
   "execution_count": 77,
   "id": "a4282289",
   "metadata": {},
   "outputs": [],
   "source": [
    "for col in equity_all.columns:\n",
    "    \n",
    "    equity_all[col].fillna(method=\"ffill\",inplace=True)\n",
    "    equity_all[col].fillna(method=\"bfill\",inplace=True)"
   ]
  },
  {
   "cell_type": "code",
   "execution_count": 78,
   "id": "b6dbf0cd",
   "metadata": {},
   "outputs": [
    {
     "data": {
      "text/plain": [
       "ALAT.PA        0.0\n",
       "CEMA.L         0.0\n",
       "CJPU.L         0.0\n",
       "CSPX.L         0.0\n",
       "IJPE.L         0.0\n",
       "ISJP.L         0.0\n",
       "ISP6.L         0.0\n",
       "MEUD.L         0.0\n",
       "PAF.L          0.0\n",
       "CSEMUS.SW_B    0.0\n",
       "CSINDU.SW_B    0.0\n",
       "EMUL.SW_B      0.0\n",
       "CECD.LN_B      0.0\n",
       "dtype: float64"
      ]
     },
     "execution_count": 78,
     "metadata": {},
     "output_type": "execute_result"
    }
   ],
   "source": [
    "equity_all.isna().sum()/len(equity_all) *100"
   ]
  },
  {
   "cell_type": "code",
   "execution_count": 79,
   "id": "1f7980c5",
   "metadata": {},
   "outputs": [],
   "source": [
    "equity_all.to_csv(\"tickers_merged.csv\",index=True)"
   ]
  },
  {
   "cell_type": "code",
   "execution_count": null,
   "id": "b906034a",
   "metadata": {},
   "outputs": [],
   "source": []
  }
 ],
 "metadata": {
  "kernelspec": {
   "display_name": "Python 3",
   "language": "python",
   "name": "python3"
  },
  "language_info": {
   "codemirror_mode": {
    "name": "ipython",
    "version": 3
   },
   "file_extension": ".py",
   "mimetype": "text/x-python",
   "name": "python",
   "nbconvert_exporter": "python",
   "pygments_lexer": "ipython3",
   "version": "3.9.1"
  }
 },
 "nbformat": 4,
 "nbformat_minor": 5
}
